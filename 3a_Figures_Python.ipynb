{
 "cells": [
  {
   "cell_type": "markdown",
   "metadata": {},
   "source": [
    "# Figures"
   ]
  },
  {
   "cell_type": "markdown",
   "metadata": {},
   "source": [
    "## Information\n",
    "Project: **The price of being late: short- and long-term consequences of a delayed migration timing**  \n",
    "Author: Iris Bontekoe  \n",
    "Program: Python 3.8.5  \n",
    "Description: This script contains all code to produce part of the figures in the manuscript."
   ]
  },
  {
   "cell_type": "markdown",
   "metadata": {},
   "source": [
    "## Preparation"
   ]
  },
  {
   "cell_type": "code",
   "execution_count": null,
   "metadata": {},
   "outputs": [],
   "source": [
    "import os\n",
    "import conda\n",
    "conda_file_dir = conda.__file__\n",
    "conda_dir = conda_file_dir.split('lib')[0]\n",
    "proj_lib = os.path.join(os.path.join(conda_dir, 'share'), 'proj')\n",
    "os.environ[\"PROJ_LIB\"] = proj_lib\n",
    "import numpy as np\n",
    "import matplotlib.pyplot as plt\n",
    "import pandas as pd\n",
    "from mpl_toolkits.basemap import Basemap\n",
    "import datetime\n",
    "#import matplotlib.animation as animation\n",
    "from windrose import WindroseAxes\n",
    "from matplotlib.colors import ListedColormap\n",
    "import windrose\n",
    "from matplotlib import gridspec"
   ]
  },
  {
   "cell_type": "code",
   "execution_count": null,
   "metadata": {},
   "outputs": [],
   "source": [
    "# Define colors\n",
    "ColorC = \"#F8931D\"\n",
    "ColorA = \"#2E3192\"\n",
    "ColorCC = \"#C33184\"\n",
    "\n",
    "# Define names\n",
    "NameC = \"Naturally-timed\"\n",
    "NameCC = \"Control\"\n",
    "NameA = \"Delayed\""
   ]
  },
  {
   "cell_type": "code",
   "execution_count": null,
   "metadata": {},
   "outputs": [],
   "source": [
    "# Set the path to the folder where the data is located and to the folder where the output should be saved\n",
    "data_folder = \"[...]\"\n",
    "output_folder = \"[...]\""
   ]
  },
  {
   "cell_type": "code",
   "execution_count": null,
   "metadata": {},
   "outputs": [],
   "source": []
  },
  {
   "cell_type": "markdown",
   "metadata": {},
   "source": [
    "## Fig. 1A"
   ]
  },
  {
   "cell_type": "code",
   "execution_count": null,
   "metadata": {},
   "outputs": [],
   "source": [
    "# Load the data\n",
    "file_name_in = \"Second_DataAff_All_Second.pkl\"\n",
    "dataA = pd.read_pickle(data_folder+file_name_in)\n",
    "\n",
    "file_name_in = \"Second_DataCASCB_All_Second.pkl\"\n",
    "dataC = pd.read_pickle(data_folder+file_name_in)\n",
    "\n",
    "file_name_in = \"Second_DataCC_All_Second.pkl\"\n",
    "dataCC = pd.read_pickle(data_folder+file_name_in)"
   ]
  },
  {
   "cell_type": "code",
   "execution_count": null,
   "metadata": {},
   "outputs": [],
   "source": [
    "# Load the start and end of migration data\n",
    "data = pd.read_csv(data_folder + \"All_SegTimMinLat.csv\",sep=\",\",low_memory=False)\n",
    "\n",
    "# Convert the timestamps\n",
    "data[\"MinLatDate1\"] = pd.to_datetime(data[\"MinLatDate1\"],format=\"%Y-%m-%d\")\n",
    "\n",
    "# Remove data without an MinLatDate1\n",
    "data = data[~np.isnan(data[\"MinLatDate1\"])]\n",
    "\n",
    "# Add Individual and Aviary\n",
    "data[\"Individual\"] = data[\"Aviary\"].map(str)+\"_\"+data[\"tag-local-identifier\"].map(str)"
   ]
  },
  {
   "cell_type": "code",
   "execution_count": null,
   "metadata": {},
   "outputs": [],
   "source": [
    "# Prepare the Affenberg data\n",
    "dataA[\"Aviary\"] = \"Affenberg\"\n",
    "dataA[\"Individual\"] = dataA[\"Aviary\"].map(str)+\"_\"+dataA[\"tag-local-identifier\"].map(str)\n",
    "\n",
    "# Add EndMigFinal to the location data\n",
    "dataA[\"MinLatDate1\"] = dataA[\"Individual\"].map(data.set_index(\"Individual\")[\"MinLatDate1\"].to_dict())\n",
    "dataA[\"Distance1\"] = dataA[\"Individual\"].map(data.set_index(\"Individual\")[\"Distance1\"].to_dict())\n",
    "\n",
    "# Remove data after EndMigFinal\n",
    "dataA = dataA[dataA[\"timestamp\"]<dataA[\"MinLatDate1\"]]\n",
    "\n",
    "# Remove individuals that died before finishing migration\n",
    "died = [7023,7027,7028,7962,7964,7967,7990,8039]\n",
    "dataA = dataA[~dataA[\"tag-local-identifier\"].isin(died)]"
   ]
  },
  {
   "cell_type": "code",
   "execution_count": null,
   "metadata": {},
   "outputs": [],
   "source": [
    "# Prepare the CareCenter data\n",
    "dataCC[\"Aviary\"] = \"CareCenter\"\n",
    "dataCC[\"Individual\"] = dataCC[\"Aviary\"].map(str)+\"_\"+dataCC[\"tag-local-identifier\"].map(str)\n",
    "\n",
    "# Add EndMigFinal to the location data\n",
    "dataCC[\"MinLatDate1\"] = dataCC[\"Individual\"].map(data.set_index(\"Individual\")[\"MinLatDate1\"].to_dict())\n",
    "dataCC[\"Distance1\"] = dataCC[\"Individual\"].map(data.set_index(\"Individual\")[\"Distance1\"].to_dict())\n",
    "\n",
    "# Remove individuals without an end of migration\n",
    "dataCC = dataCC[~np.isnan(dataCC[\"MinLatDate1\"])]\n",
    "\n",
    "# Remove data after EndMigFinal\n",
    "dataCC = dataCC[dataCC[\"timestamp\"]<dataCC[\"MinLatDate1\"]]"
   ]
  },
  {
   "cell_type": "code",
   "execution_count": null,
   "metadata": {},
   "outputs": [],
   "source": [
    "# Prepare the CASCB data\n",
    "dataC[\"Aviary\"] = \"CASCB\"\n",
    "dataC[\"Individual\"] = dataC[\"Aviary\"].map(str)+\"_\"+dataC[\"tag-local-identifier\"].map(str)\n",
    "\n",
    "# Add EndMigFinal to the location data\n",
    "dataC[\"MinLatDate1\"] = dataC[\"Individual\"].map(data.set_index(\"Individual\")[\"MinLatDate1\"].to_dict())\n",
    "dataC[\"Distance1\"] = dataC[\"Individual\"].map(data.set_index(\"Individual\")[\"Distance1\"].to_dict())\n",
    "\n",
    "# Remove individuals without an end of migration\n",
    "dataC = dataC[~np.isnan(dataC[\"MinLatDate1\"])]\n",
    "\n",
    "# Remove data after EndMigFinal\n",
    "dataC = dataC[dataC[\"timestamp\"]<dataC[\"MinLatDate1\"]]"
   ]
  },
  {
   "cell_type": "code",
   "execution_count": null,
   "metadata": {},
   "outputs": [],
   "source": [
    "# Find average coordinates\n",
    "MaxLat=max([dataA[\"location-lat\"].max(),dataC[\"location-lat\"].max(),dataCC[\"location-lat\"].max()])\n",
    "MaxLong=max([dataA[\"location-long\"].max(),dataC[\"location-long\"].max(),dataCC[\"location-long\"].max()])\n",
    "MinLat=min([dataA[\"location-lat\"].min(),dataC[\"location-lat\"].min(),dataCC[\"location-lat\"].min()])\n",
    "MinLong=min([dataA[\"location-long\"].min(),dataC[\"location-long\"].min(),dataCC[\"location-long\"].min()])"
   ]
  },
  {
   "cell_type": "code",
   "execution_count": null,
   "metadata": {},
   "outputs": [],
   "source": [
    "# Get the number of individuals for each study\n",
    "print(\"Affenberg:\",len(dataA[\"Individual\"].unique()))\n",
    "print(\"CareCenter:\",len(dataCC[\"Individual\"].unique()))\n",
    "print(\"CASCB:\",len(dataC[\"Individual\"].unique()))"
   ]
  },
  {
   "cell_type": "code",
   "execution_count": null,
   "metadata": {},
   "outputs": [],
   "source": [
    "fig = plt.figure()\n",
    "fig = plt.figure(figsize=(30,22))\n",
    "plt.rc(\"font\",size=35)\n",
    "\n",
    "spec = gridspec.GridSpec(ncols=3, nrows=2,\n",
    "                         width_ratios=[1,1,1], wspace=0.02,\n",
    "                         hspace=0.005, height_ratios=[12,6])\n",
    "\n",
    "#-------------#\n",
    "#- CASCB map -#\n",
    "#-------------#\n",
    "\n",
    "ax0 = fig.add_subplot(spec[0])\n",
    "#ax0.set_title(NameC,pad=15)\n",
    "map = Basemap(projection=\"lcc\", resolution=\"h\",\n",
    "            lat_0=sum([MinLat,MaxLat])/2, lon_0=sum([MinLong,MaxLong])/2,\n",
    "            width=3.5E6, height=4.8E6)\n",
    "\n",
    "map.shadedrelief()\n",
    "map.drawcountries(color=\"white\")\n",
    "map.drawparallels(np.arange(0,70,10),labels=[1,0,0,0],color=\"#7F7F7F\",textcolor=\"#7F7F7F\")\n",
    "\n",
    "map.scatter(sum([MinLong,MaxLong])/2,sum([MinLat,MaxLat])/2,latlon=True,s=5000000,c=\"white\",alpha=0.5)\n",
    "\n",
    "for i in dataC[\"tag-local-identifier\"].unique():\n",
    "    map.plot(dataC[dataC[\"tag-local-identifier\"]==i][\"location-long\"], dataC[dataC[\"tag-local-identifier\"]==i][\"location-lat\"],\n",
    "            latlon=True,\n",
    "            c=ColorC, \n",
    "            linewidth=3,\n",
    "            alpha=0.75,\n",
    "            zorder=10\n",
    "            )\n",
    "\n",
    "for i in dataC[\"tag-local-identifier\"].unique():\n",
    "    map.scatter(dataC[dataC[\"tag-local-identifier\"]==i].iloc[-1][\"location-long\"],dataC[dataC[\"tag-local-identifier\"]==i].iloc[-1][\"location-lat\"],\n",
    "            latlon=True,\n",
    "            c=\"white\",\n",
    "            s=75,\n",
    "            zorder=15\n",
    "            )\n",
    "\n",
    "        \n",
    "#------------------#\n",
    "#- CareCenter map -#\n",
    "#------------------#\n",
    "\n",
    "ax1 = fig.add_subplot(spec[1])\n",
    "#ax1.set_title(NameCC,pad=15)\n",
    "map = Basemap(projection=\"lcc\", resolution=\"h\",\n",
    "            lat_0=sum([MinLat,MaxLat])/2, lon_0=sum([MinLong,MaxLong])/2,\n",
    "            width=3.5E6, height=4.8E6)\n",
    "\n",
    "map.shadedrelief()\n",
    "map.drawcountries(color=\"white\")\n",
    "map.drawparallels(np.arange(0,70,10),labels=[0,0,0,0],color=\"#7F7F7F\",textcolor=\"#7F7F7F\")\n",
    "\n",
    "map.scatter(sum([MinLong,MaxLong])/2,sum([MinLat,MaxLat])/2,latlon=True,s=5000000,c=\"white\",alpha=0.5)\n",
    "\n",
    "for i in dataCC[\"tag-local-identifier\"].unique():\n",
    "    map.plot(dataCC[dataCC[\"tag-local-identifier\"]==i][\"location-long\"], dataCC[dataCC[\"tag-local-identifier\"]==i][\"location-lat\"],\n",
    "            latlon=True,\n",
    "            c=ColorCC, \n",
    "            linewidth=3,\n",
    "            alpha=0.75,\n",
    "            zorder=10\n",
    "            )\n",
    "        \n",
    "for i in dataCC[\"tag-local-identifier\"].unique():\n",
    "    map.scatter(dataCC[dataCC[\"tag-local-identifier\"]==i].iloc[-1][\"location-long\"],dataCC[dataCC[\"tag-local-identifier\"]==i].iloc[-1][\"location-lat\"],\n",
    "            latlon=True,\n",
    "            c=\"white\",\n",
    "            s=75,\n",
    "            zorder=15\n",
    "            )\n",
    "            \n",
    "\n",
    "#-----------------#\n",
    "#- Affenberg map -#\n",
    "#-----------------#\n",
    "\n",
    "ax2 = fig.add_subplot(spec[2])\n",
    "#ax2.set_title(NameA,pad=15)\n",
    "map = Basemap(projection=\"lcc\", resolution=\"h\",\n",
    "            lat_0=sum([MinLat,MaxLat])/2, lon_0=sum([MinLong,MaxLong])/2,\n",
    "            width=3.5E6, height=4.8E6)\n",
    "\n",
    "map.shadedrelief()\n",
    "map.drawcountries(color=\"white\")\n",
    "map.drawparallels(np.arange(0,70,10),labels=[0,1,0,0],color=\"#7F7F7F\",textcolor=\"#7F7F7F\")\n",
    "\n",
    "map.scatter(sum([MinLong,MaxLong])/2,sum([MinLat,MaxLat])/2,latlon=True,s=5000000,c=\"white\",alpha=0.5)\n",
    "\n",
    "for i in dataA[\"tag-local-identifier\"].unique():\n",
    "    map.plot(dataA[dataA[\"tag-local-identifier\"]==i][\"location-long\"], dataA[dataA[\"tag-local-identifier\"]==i][\"location-lat\"],\n",
    "            latlon=True,\n",
    "            c=ColorA, \n",
    "            linewidth=3,\n",
    "            alpha=0.75,\n",
    "            zorder=10\n",
    "            )\n",
    "        \n",
    "for i in dataA[\"tag-local-identifier\"].unique():            \n",
    "    map.scatter(dataA[dataA[\"tag-local-identifier\"]==i].iloc[-1][\"location-long\"],dataA[dataA[\"tag-local-identifier\"]==i].iloc[-1][\"location-lat\"],\n",
    "            latlon=True,\n",
    "            c=\"white\",\n",
    "            s=75,\n",
    "            zorder=15\n",
    "            )\n",
    "\n",
    "# Save the maps\n",
    "plt.savefig(output_folder+\"F1A.svg\",bbox_inches='tight')"
   ]
  },
  {
   "cell_type": "code",
   "execution_count": null,
   "metadata": {},
   "outputs": [],
   "source": []
  },
  {
   "cell_type": "markdown",
   "metadata": {},
   "source": [
    "## Fig. 1A2"
   ]
  },
  {
   "cell_type": "code",
   "execution_count": null,
   "metadata": {},
   "outputs": [],
   "source": [
    "# Load the data\n",
    "file_name_in = \"DataAff_TempWind_S.pkl\"\n",
    "dataA2 = pd.read_pickle(data_folder+file_name_in)\n",
    "\n",
    "file_name_in = \"DataCC_TempWind_S.pkl\"\n",
    "dataCC2 = pd.read_pickle(data_folder+file_name_in)\n",
    "\n",
    "file_name_in = \"DataCASCB_TempWind_S.pkl\"\n",
    "dataC2 = pd.read_pickle(data_folder+file_name_in)"
   ]
  },
  {
   "cell_type": "code",
   "execution_count": null,
   "metadata": {
    "tags": []
   },
   "outputs": [],
   "source": [
    "fig = plt.figure(figsize=(17.5,15))\n",
    "plt.rc(\"font\",size=65)\n",
    "\n",
    "m = Basemap(projection=\"lcc\", resolution=\"h\",\n",
    "            lat_0=45.75, lon_0=4.8,\n",
    "            width=8.25E5, height=8E5)\n",
    "\n",
    "m.shadedrelief()\n",
    "m.drawcountries(color='white')\n",
    "m.drawparallels(np.arange(47.5,70,20),labels=[1,1,0,0],linewidth=2.5,color=\"#7F7F7F\",textcolor=\"#7F7F7F\")\n",
    "m.drawparallels(np.arange(44.0,70,20),labels=[1,1,0,0],linewidth=2.5,color=\"#7F7F7F\",textcolor=\"#7F7F7F\")\n",
    "\n",
    "m.scatter(4.8,45.75,latlon=True,s=8000000,c=\"white\",alpha=0.5)\n",
    "\n",
    "for i in dataC2[\"tag-local-identifier\"].unique():\n",
    "    m.plot(dataC2[dataC2[\"tag-local-identifier\"]==i][\"location-long\"],dataC2[dataC2[\"tag-local-identifier\"]==i][\"location-lat\"],\n",
    "            latlon=True,\n",
    "            c=ColorC,\n",
    "            linewidth=3,\n",
    "            alpha=0.5\n",
    "          )\n",
    "        \n",
    "for i in dataCC2[\"tag-local-identifier\"].unique():\n",
    "    m.plot(dataCC2[dataCC2[\"tag-local-identifier\"]==i][\"location-long\"],dataCC2[dataCC2[\"tag-local-identifier\"]==i][\"location-lat\"],\n",
    "            latlon=True,\n",
    "            c=ColorCC,\n",
    "            linewidth=3,\n",
    "            alpha=0.5\n",
    "          )            \n",
    "\n",
    "for i in dataA2[\"tag-local-identifier\"].unique():\n",
    "    m.plot(dataA2[dataA2[\"tag-local-identifier\"]==i][\"location-long\"],dataA2[dataA2[\"tag-local-identifier\"]==i][\"location-lat\"],\n",
    "            latlon=True,\n",
    "            c=ColorA,\n",
    "            linewidth=3,\n",
    "            alpha=0.5\n",
    "          )\n",
    "\n",
    "plt.savefig(output_folder+\"F1A2.svg\",bbox_inches='tight')"
   ]
  },
  {
   "cell_type": "code",
   "execution_count": null,
   "metadata": {},
   "outputs": [],
   "source": []
  },
  {
   "cell_type": "markdown",
   "metadata": {},
   "source": [
    "## Fig. 3B"
   ]
  },
  {
   "cell_type": "code",
   "execution_count": null,
   "metadata": {},
   "outputs": [],
   "source": [
    "file_name_in = \"DataAff_TempWind_R.pkl\"\n",
    "data = pd.read_pickle(data_folder+file_name_in)"
   ]
  },
  {
   "cell_type": "code",
   "execution_count": null,
   "metadata": {},
   "outputs": [],
   "source": [
    "# Subset the data to only contain one burst\n",
    "data = data[data[\"tag-local-identifier\"]==7004]\n",
    "data = data[data[\"timestamp\"]>datetime.datetime(2019,9,16,9,0,7)]\n",
    "data = data[data[\"timestamp\"]<datetime.datetime(2019,9,16,9,10,8)]"
   ]
  },
  {
   "cell_type": "code",
   "execution_count": null,
   "metadata": {},
   "outputs": [],
   "source": [
    "fig = plt.figure(figsize=(16.8,13.3))\n",
    "\n",
    "plt.scatter(data[\"location-long\"],data[\"location-lat\"],c=data[\"height-above-ellipsoid\"],s=80)\n",
    "plt.axis('off')\n",
    "plt.axis(\"tight\")\n",
    "plt.gca().invert_xaxis()\n",
    "\n",
    "plt.savefig(output_folder+\"F3B.svg\",bbox_inches='tight',transparent=True)"
   ]
  },
  {
   "cell_type": "code",
   "execution_count": null,
   "metadata": {},
   "outputs": [],
   "source": []
  },
  {
   "cell_type": "markdown",
   "metadata": {},
   "source": [
    "## Fig. 3D"
   ]
  },
  {
   "cell_type": "code",
   "execution_count": null,
   "metadata": {},
   "outputs": [],
   "source": [
    "# Write function to plot wind roses\n",
    "def WindRosePlot():\n",
    "\n",
    "    # Load data\n",
    "    data = pd.read_pickle(data_folder+file_name_in)\n",
    "    \n",
    "    # Only keep the wanted flight type\n",
    "    if FlightType == \"gliding\":\n",
    "        data=data[~data[\"GlidingID\"].isna()]\n",
    "    elif FlightType == \"climbing\":\n",
    "        data=data[~data[\"ClimbingID\"].isna()]\n",
    "    \n",
    "    # Plot the figure\n",
    "    plt.rc('font',size=35)\n",
    "    fig = plt.figure(figsize=(6.65693,6.65693), dpi=80, facecolor='w', edgecolor='w')\n",
    "    rect = [0.1, 0.1, 0.75, 0.75]\n",
    "    ax = WindroseAxes(fig, rect)\n",
    "    fig.add_axes(ax)\n",
    "\n",
    "    # Get the colormap colors\n",
    "    cmap = [\"#7fcdbb\", \"#1d91c0\", \"#253494\", \"#161F58\"]\n",
    "    \n",
    "    cmap = ListedColormap(cmap)\n",
    "\n",
    "    ax.bar(data[Angle_bar], data[Speed_bar], normed=True, opening=1, edgecolor='black',linewidth=0.1,bins=np.arange(0, 17, 5),cmap=cmap,zorder=5,alpha=0.6)\n",
    "    ax.set_yticks(np.arange(5, 35, step=10))\n",
    "    ax.xaxis.set_tick_params(pad=25)\n",
    "    \n",
    "    # Group data by day\n",
    "    data = data.groupby([\"Day\",\"tag-local-identifier\"],as_index=False).agg(\n",
    "        WindSpeed_PL = (\"WindSpeed_PL\",'mean'),\n",
    "        WindDirection_PL = (\"WindDirection_PL\",'mean'),\n",
    "        heading = (\"heading\",'mean'),\n",
    "        ground_speed = (\"ground-speed\",'mean')\n",
    "    )\n",
    "    data.rename(columns={\"ground_speed\":\"ground-speed\"},inplace=True)\n",
    "    \n",
    "    # Add dots to the plot\n",
    "    Headings = np.radians(np.array(data[Angle_dots]))\n",
    "    windrose.wrscatter(Headings,len(Headings)*[30],ax=ax,alpha=0.25,s=100,color=Color,zorder=10)\n",
    "    \n",
    "    # Add a label to the plot\n",
    "    ax.text(np.radians(90),20.5,Label,color=\"white\",va=\"center\",ha=\"center\",size=50,zorder=15)\n",
    "    ax.text(np.radians(90),21,\"D\",color=Color,va=\"center\",ha=\"center\",size=50,bbox=dict(boxstyle=\"round\",facecolor=Color,edgecolor=Color,pad=0.45))\n",
    "    \n",
    "    if LegendPresent == True:\n",
    "        #ax.legend(prop={'size': 30},bbox_to_anchor=(-0.2,0.725),loc=\"right\",title=\"Wind speed (m/s)\")\n",
    "        ax.legend(prop={'size': 30},bbox_to_anchor=(1.5,1.175),loc=\"lower center\",title=\"Wind speed (m/s)\",ncol=5,labels=[1,2,3,4])\n",
    "        \n",
    "    ax.grid(color=\"Grey\",alpha=0.1,zorder=1)\n",
    "    \n",
    "    plt.savefig(output_folder+file_name_out+\".svg\",bbox_inches='tight',transparent=True)\n",
    "    plt.show()"
   ]
  },
  {
   "cell_type": "code",
   "execution_count": null,
   "metadata": {
    "tags": []
   },
   "outputs": [],
   "source": [
    "# Define objects\n",
    "file_name_in = \"DataAff_TempWind_S.pkl\"\n",
    "Aviary = \"Affenberg\"\n",
    "Angle_bar = \"WindDirection_PL\"\n",
    "Speed_bar = \"WindSpeed_PL\"\n",
    "Angle_dots = \"heading\"\n",
    "Speed_dots = \"ground-speed\"\n",
    "FlightType = \"gliding\"\n",
    "Color = ColorA\n",
    "file_name_out = \"F3D3\"\n",
    "PlotTitle = \"Delayed\"\n",
    "LegendPresent = False\n",
    "Label = \"D\"\n",
    "\n",
    "# Execute the function and print the run time\n",
    "start = datetime.datetime.now()\n",
    "WindRosePlot()\n",
    "print(datetime.datetime.now())\n",
    "print(datetime.datetime.now()-start)"
   ]
  },
  {
   "cell_type": "code",
   "execution_count": null,
   "metadata": {
    "tags": []
   },
   "outputs": [],
   "source": [
    "# Define objects\n",
    "file_name_in = \"DataCC_TempWind_S.pkl\"\n",
    "Aviary = \"CareCenter\"\n",
    "Angle_bar = \"WindDirection_PL\"\n",
    "Speed_bar = \"WindSpeed_PL\"\n",
    "Angle_dots = \"heading\"\n",
    "Speed_dots = \"ground-speed\"\n",
    "FlightType = \"gliding\"\n",
    "Color = ColorCC\n",
    "file_name_out = \"F3D2\"\n",
    "PlotTitle = \"Control\"\n",
    "LegendPresent = False\n",
    "Label = \"C\"\n",
    "\n",
    "# Execute the function and print the run time\n",
    "start = datetime.datetime.now()\n",
    "WindRosePlot()\n",
    "print(datetime.datetime.now())\n",
    "print(datetime.datetime.now()-start)"
   ]
  },
  {
   "cell_type": "code",
   "execution_count": null,
   "metadata": {},
   "outputs": [],
   "source": [
    "# Define objects\n",
    "file_name_in = \"DataCASCB_TempWind_S.pkl\"\n",
    "Aviary = \"CASCB\"\n",
    "Angle_bar = \"WindDirection_PL\"\n",
    "Speed_bar = \"WindSpeed_PL\"\n",
    "Angle_dots = \"heading\"\n",
    "Speed_dots = \"ground-speed\"\n",
    "FlightType = \"gliding\"\n",
    "Color = ColorC\n",
    "file_name_out = \"F3D1\"\n",
    "PlotTitle = \"Naturally-timed\"\n",
    "LegendPresent = True\n",
    "Label = \"N\"\n",
    "\n",
    "# Execute the function and print the run time\n",
    "start = datetime.datetime.now()\n",
    "blabla = WindRosePlot()\n",
    "print(datetime.datetime.now())\n",
    "print(datetime.datetime.now()-start)"
   ]
  },
  {
   "cell_type": "code",
   "execution_count": null,
   "metadata": {},
   "outputs": [],
   "source": []
  }
 ],
 "metadata": {
  "kernelspec": {
   "display_name": "Python 3 (ipykernel)",
   "language": "python",
   "name": "python3"
  },
  "language_info": {
   "codemirror_mode": {
    "name": "ipython",
    "version": 3
   },
   "file_extension": ".py",
   "mimetype": "text/x-python",
   "name": "python",
   "nbconvert_exporter": "python",
   "pygments_lexer": "ipython3",
   "version": "3.8.5"
  }
 },
 "nbformat": 4,
 "nbformat_minor": 4
}
