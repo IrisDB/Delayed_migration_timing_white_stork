{
 "cells": [
  {
   "cell_type": "markdown",
   "id": "405c9066-cf41-4121-8f3b-f9488702189f",
   "metadata": {},
   "source": [
    "# Supplementary figures"
   ]
  },
  {
   "cell_type": "markdown",
   "id": "03513687-2a83-4e25-bab6-1d5f77eb50eb",
   "metadata": {},
   "source": [
    "## Information\n",
    "Project: **The price of being late: short- and long-term consequences of a delayed migration timing**  \n",
    "Author: Iris Bontekoe  \n",
    "Program: R 4.1.2  \n",
    "Description: This script contains all code to produce most of the figures in the electronic supplementary material."
   ]
  },
  {
   "cell_type": "markdown",
   "id": "9ad4f055-8bd6-410c-b415-1691bd35da6a",
   "metadata": {},
   "source": [
    "### Preparations"
   ]
  },
  {
   "cell_type": "code",
   "execution_count": null,
   "id": "037c5e8c-95e1-464d-a7e2-57f8705f0a0b",
   "metadata": {},
   "outputs": [],
   "source": [
    "# Change work directory\n",
    "data_folder<-\"[...]\"\n",
    "output_folder<-\"[...]\"\n",
    "\n",
    "# Set standard time zone to UTC\n",
    "Sys.setenv(TZ=\"UTC\")"
   ]
  },
  {
   "cell_type": "code",
   "execution_count": null,
   "id": "d113b8e7-7e68-464e-b043-3a09a00b39eb",
   "metadata": {},
   "outputs": [],
   "source": [
    "# Load packages\n",
    "library(ggplot2)\n",
    "library(lubridate)\n",
    "library(data.table)\n",
    "library(cowplot)\n",
    "library(multcomp)\n",
    "library(scales)"
   ]
  },
  {
   "cell_type": "code",
   "execution_count": null,
   "id": "b9aa3bfe-63d2-4cca-828a-5518a67ac06b",
   "metadata": {},
   "outputs": [],
   "source": [
    "# Define colors\n",
    "ColorC <- \"#F8931D\"\n",
    "ColorA <- \"#2E3192\"\n",
    "ColorCC <- \"#C33184\"\n",
    "\n",
    "# Define names\n",
    "NameC<-\"Naturally-timed\"\n",
    "NameCC<-\"Control\"\n",
    "NameA<-\"Delayed\""
   ]
  },
  {
   "cell_type": "code",
   "execution_count": null,
   "id": "200f5798-11f0-4918-835e-a2ea0033d1e3",
   "metadata": {},
   "outputs": [],
   "source": []
  },
  {
   "cell_type": "markdown",
   "id": "67e4f035-8acf-4aba-9c03-e1bc8a54a10e",
   "metadata": {},
   "source": [
    "## Fig. S1"
   ]
  },
  {
   "cell_type": "code",
   "execution_count": null,
   "id": "7136b360-28a8-4faf-80e7-4db78db49f81",
   "metadata": {},
   "outputs": [],
   "source": [
    "# Load data\n",
    "setwd(data_folder)\n",
    "data<-read.csv(\"DATA/All_MigTimingCC.csv\",header=T,sep=\",\",na.strings=c(\"\",\"NA\"))\n",
    "\n",
    "# Convert timestamps\n",
    "data$Segment<-as.POSIXct(data$Segment)\n",
    "\n",
    "# Add the day of year\n",
    "data$DOY<-yday(data$Segment)"
   ]
  },
  {
   "cell_type": "code",
   "execution_count": null,
   "id": "ef83b33c-1b70-4379-aef1-701558505c96",
   "metadata": {},
   "outputs": [],
   "source": [
    "# Get the number of individuals\n",
    "length(unique(data[data$Aviary==\"CareCenter\",]$Individual))"
   ]
  },
  {
   "cell_type": "code",
   "execution_count": null,
   "id": "12953e6a-3e7b-4bfc-b980-64ea428e7ae3",
   "metadata": {},
   "outputs": [],
   "source": [
    "length(unique(data[data$Aviary==\"CASCB\",]$Individual))"
   ]
  },
  {
   "cell_type": "code",
   "execution_count": null,
   "id": "fd88af21-113c-4e2a-a07c-d49650554ac6",
   "metadata": {},
   "outputs": [],
   "source": [
    "# Calculate mean and difference in migration date\n",
    "print(paste0(\"Care center: \",round(mean(data[data$Aviary==\"CareCenter\",]$DOY),digits=0)))\n",
    "print(paste0(\"CASCB: \",round(mean(data[data$Aviary==\"CASCB\",]$DOY),digits=0)))\n",
    "print(paste0(\"Difference: \",round(mean(data[data$Aviary==\"CareCenter\",]$DOY)-mean(data[data$Aviary==\"CASCB\",]$DOY),digits=0)))"
   ]
  },
  {
   "cell_type": "code",
   "execution_count": null,
   "id": "ff693b2d-44d5-4bb7-ad95-dfe9e9f8cad0",
   "metadata": {},
   "outputs": [],
   "source": [
    "options(repr.plot.width=9.5,repr.plot.height=8)\n",
    "TextSize<-35\n",
    "ggplot(data,aes(DOY,color=Aviary,fill=Aviary))+\n",
    "    geom_density(lwd=2,alpha=0.25)+\n",
    "    scale_color_manual(\n",
    "        breaks=c(\"Affenberg\",\"CareCenter\",\"CASCB\"),\n",
    "        values=c(ColorA,ColorCC,ColorC),\n",
    "        name=\"Study group\",\n",
    "        labels=c(NameA,NameCC,NameC)\n",
    "    )+\n",
    "    scale_fill_manual(\n",
    "        breaks=c(\"Affenberg\",\"CareCenter\",\"CASCB\"),\n",
    "        values=c(ColorA,ColorCC,ColorC),\n",
    "        name=\"Study group\",\n",
    "        labels=c(NameA,NameCC,NameC)\n",
    "    )+\n",
    "    scale_x_continuous(\n",
    "        expand=c(0,0),\n",
    "        name=\"Day of the year\"\n",
    "    )+\n",
    "    scale_y_continuous(\n",
    "        expand=c(0,0,0.01,0)\n",
    "    )+\n",
    "    theme(\n",
    "        text=element_text(size=TextSize),\n",
    "        axis.text.x=element_text(color=\"Black\",size=TextSize,vjust=-0.25),\n",
    "        axis.text.y=element_text(color=\"Black\",size=TextSize),\n",
    "        axis.title.y=element_text(margin=margin(0,TextSize/2,0,0)),\n",
    "        axis.title.x=element_text(margin=margin(TextSize/2,0,0,0)),\n",
    "        plot.background=element_blank(),\n",
    "        panel.background = element_blank(),\n",
    "        legend.background = element_blank(),\n",
    "        panel.grid.major=element_blank(),\n",
    "        panel.grid.minor=element_blank(),\n",
    "        panel.border=element_blank(),\n",
    "        axis.line.x=element_line(color=\"black\", size = 1.5),\n",
    "        axis.line.y=element_line(color=\"black\", size = 1.5),\n",
    "        axis.ticks=element_line(color=\"black\",size=1.5),\n",
    "        axis.ticks.length=unit(0.15,\"cm\"),\n",
    "        legend.justification=c(0,0),legend.position=c(0.1,0.7)\n",
    "    )+\n",
    "    guides(fill=guide_legend(reverse = TRUE),color=guide_legend(reverse=TRUE))\n",
    "\n",
    "setwd(output_folder)\n",
    "ggsave(\"OUTPUT/S1.svg\",width=9.5,height=8,units=\"in\")"
   ]
  },
  {
   "cell_type": "code",
   "execution_count": null,
   "id": "99c2d731-eb5c-4faf-9f63-85d26ca90581",
   "metadata": {},
   "outputs": [],
   "source": []
  },
  {
   "cell_type": "markdown",
   "id": "0033ec83-dc22-4215-8f8c-4d948ad5ae00",
   "metadata": {},
   "source": [
    "## Fig. S2"
   ]
  },
  {
   "cell_type": "code",
   "execution_count": null,
   "id": "d333ea22-d3a5-4b6e-b073-7cc9919696d7",
   "metadata": {},
   "outputs": [],
   "source": [
    "# Load data\n",
    "setwd(data_folder)\n",
    "data<-read.csv(\"DATA/All_DaysRelMig.csv\",header=T,sep=\",\",na.strings=c(\"\",\"NA\"))"
   ]
  },
  {
   "cell_type": "code",
   "execution_count": null,
   "id": "40343dc2-38ae-4963-9b59-bb44af565aa2",
   "metadata": {},
   "outputs": [],
   "source": [
    "# Get the number of individuals\n",
    "length(unique(data[data$Aviary==\"CareCenter\",]$Individual))"
   ]
  },
  {
   "cell_type": "code",
   "execution_count": null,
   "id": "f22895e9-17a8-4208-8e68-3e4979354c7f",
   "metadata": {},
   "outputs": [],
   "source": [
    "length(unique(data[data$Aviary==\"Affenberg\",]$Individual))"
   ]
  },
  {
   "cell_type": "code",
   "execution_count": null,
   "id": "528b0ece-6f40-424a-808f-ecf3638e0dd5",
   "metadata": {},
   "outputs": [],
   "source": [
    "# Calculate the average and sd\n",
    "mean(data[data$Aviary==\"Affenberg\",]$DayDiff)\n",
    "sd(data[data$Aviary==\"Affenberg\",]$DayDiff)"
   ]
  },
  {
   "cell_type": "code",
   "execution_count": null,
   "id": "575c86bb-8ae5-4298-b1c7-2bb33239c4be",
   "metadata": {},
   "outputs": [],
   "source": [
    "# Calculate the average and sd\n",
    "mean(data[data$Aviary==\"CareCenter\",]$DayDiff)\n",
    "sd(data[data$Aviary==\"CareCenter\",]$DayDiff)"
   ]
  },
  {
   "cell_type": "code",
   "execution_count": null,
   "id": "e6df0ebd-3348-49e3-baed-8d8f794d13b6",
   "metadata": {},
   "outputs": [],
   "source": [
    "options(repr.plot.width=9.5,repr.plot.height=8)\n",
    "TextSize<-35\n",
    "ggplot(data,aes(DayDiff,color=Aviary,fill=Aviary))+\n",
    "    geom_density(lwd=2,alpha=0.25)+\n",
    "    scale_color_manual(\n",
    "        breaks=c(\"Affenberg\",\"CareCenter\",\"CASCB\"),\n",
    "        values=c(ColorA,ColorCC,ColorC),\n",
    "        name=\"Study group\",\n",
    "        labels=c(NameA,NameCC,NameC)\n",
    "    )+\n",
    "    scale_fill_manual(\n",
    "        breaks=c(\"Affenberg\",\"CareCenter\",\"CASCB\"),\n",
    "        values=c(ColorA,ColorCC,ColorC),\n",
    "        name=\"Study group\",\n",
    "        labels=c(NameA,NameCC,NameC)\n",
    "    )+\n",
    "    scale_x_continuous(\n",
    "        expand=c(0,0),\n",
    "        name=\"# days between release and migration\"\n",
    "    )+\n",
    "    scale_y_continuous(\n",
    "        expand=c(0,0,0.01,0)\n",
    "    )+\n",
    "    theme(\n",
    "        text=element_text(size=TextSize),\n",
    "        axis.text.x=element_text(color=\"Black\",size=TextSize,vjust=-0.25),\n",
    "        axis.text.y=element_text(color=\"Black\",size=TextSize),\n",
    "        axis.title.y=element_text(margin=margin(0,TextSize/2,0,0)),\n",
    "        axis.title.x=element_text(margin=margin(TextSize/2,0,0,0)),\n",
    "        plot.background=element_blank(),\n",
    "        panel.background = element_blank(),\n",
    "        legend.background = element_blank(),\n",
    "        panel.grid.major=element_blank(),\n",
    "        panel.grid.minor=element_blank(),\n",
    "        panel.border=element_blank(),\n",
    "        axis.line.x=element_line(color=\"black\", size = 1.5),\n",
    "        axis.line.y=element_line(color=\"black\", size = 1.5),\n",
    "        axis.ticks=element_line(color=\"black\",size=1.5),\n",
    "        axis.ticks.length=unit(0.15,\"cm\"),\n",
    "        legend.justification=c(0,0),legend.position=c(0.6,0.7)\n",
    "    )+\n",
    "    guides(fill=guide_legend(reverse = TRUE),color=guide_legend(reverse=TRUE))\n",
    "\n",
    "setwd(output_folder)\n",
    "ggsave(\"OUTPUT/S2.svg\",width=9.5,height=8,units=\"in\")"
   ]
  },
  {
   "cell_type": "code",
   "execution_count": null,
   "id": "7185d49b-13db-4d25-b31c-88ff71c02650",
   "metadata": {},
   "outputs": [],
   "source": []
  },
  {
   "cell_type": "markdown",
   "id": "3aec0bf4-1291-4f52-8baa-b66d0080bfcd",
   "metadata": {},
   "source": [
    "## Fig. S3"
   ]
  },
  {
   "cell_type": "code",
   "execution_count": null,
   "id": "d57dd1df-3f45-4615-a8c0-9539de8e6c54",
   "metadata": {},
   "outputs": [],
   "source": [
    "# Load data\n",
    "setwd(data_folder)\n",
    "data<-read.csv(\"DATA/All_DailyDistDisp.csv\",header=T,sep=\",\",na.strings=c(\"\",\"NA\"))\n",
    "\n",
    "# Allign the data\n",
    "data$Day<-as.POSIXct(data$Day)\n",
    "data$Day2<-data$Day\n",
    "data[year(data$Day)==2020,]$Day2<-data[year(data$Day)==2020,]$Day-as.difftime(366,units=\"days\")\n",
    "\n",
    "# Find the first day on which delayed storks start south of 42\n",
    "data2<-data[data$LastLat<42&data$Aviary==\"Affenberg\",]\n",
    "data2<-aggregate(Day2~Individual,data2,min)"
   ]
  },
  {
   "cell_type": "code",
   "execution_count": null,
   "id": "ff54ab75-cd06-4594-a4a4-da70a26a368c",
   "metadata": {},
   "outputs": [],
   "source": [
    "options(repr.plot.width=16,repr.plot.height=8)\n",
    "TextSize<-35\n",
    "ggplot(data,aes(Day2,Dist,color=Aviary))+\n",
    "    geom_vline(data=data2,aes(xintercept=Day2),color=\"Black\",alpha=0.25,lwd=2.5)+\n",
    "    geom_point(alpha=0.25,size=4)+theme_classic()+\n",
    "    xlab(\"Day\")+ylab(\"Daily displacement (km)\")+\n",
    "    scale_color_manual(\n",
    "        breaks=c(\"Affenberg\",\"CareCenter\",\"CASCB\"),\n",
    "        labels=c(NameA,NameCC,NameC),\n",
    "        values=c(ColorA,ColorCC,ColorC),\n",
    "        name=\"Study group\"\n",
    "    )+\n",
    "    scale_x_datetime(\n",
    "        limits=c(as.POSIXct(\"2019-07-15\"),as.POSIXct(\"2019-11-01\")),\n",
    "        expand=c(0,0),\n",
    "        breaks=c(as.POSIXct(\"2019-08-01\"),as.POSIXct(\"2019-09-01\"),as.POSIXct(\"2019-10-01\"),as.POSIXct(\"2019-11-01\")),\n",
    "        labels=c(\"August\\n\",\"September\\n\",\"October\\n\",\"November\\n\"),\n",
    "        name=NULL\n",
    "    )+\n",
    "    scale_y_continuous(\n",
    "        expand=c(0,0),\n",
    "        limits=c(0,555)\n",
    "    )+\n",
    "    theme(\n",
    "        text=element_text(size=TextSize),\n",
    "        axis.text.x=element_text(color=\"Black\",size=TextSize,vjust=-0.25),\n",
    "        axis.text.y=element_text(color=\"Black\",size=TextSize),\n",
    "        axis.title.y=element_text(margin=margin(0,TextSize/2,0,0)),\n",
    "        plot.background=element_blank(),\n",
    "        panel.background = element_blank(),\n",
    "        legend.background = element_blank(),\n",
    "        panel.grid.major=element_blank(),\n",
    "        panel.grid.minor=element_blank(),\n",
    "        panel.border=element_blank(),\n",
    "        axis.line.x=element_line(color=\"black\", size = 1.5),\n",
    "        axis.line.y=element_line(color=\"black\", size = 1.5),\n",
    "        axis.ticks=element_line(color=\"black\",size=1.5),\n",
    "        axis.ticks.length=unit(0.15,\"cm\")\n",
    "    )+\n",
    "    guides(fill=guide_legend(reverse = TRUE),color=guide_legend(reverse=TRUE))\n",
    "\n",
    "setwd(output_folder)\n",
    "ggsave(\"OUTPUT/S3.svg\",width=16,height=8,units=\"in\")"
   ]
  },
  {
   "cell_type": "code",
   "execution_count": null,
   "id": "a0f53f63-3aac-42fa-a30b-bf7a9e86e779",
   "metadata": {
    "tags": []
   },
   "outputs": [],
   "source": []
  },
  {
   "cell_type": "markdown",
   "id": "d459cf22-3014-40f0-9fd0-e1071de370f6",
   "metadata": {},
   "source": [
    "## Fig. S4"
   ]
  },
  {
   "cell_type": "code",
   "execution_count": null,
   "id": "6d44b443-e262-4381-be72-7e749cdedac4",
   "metadata": {},
   "outputs": [],
   "source": [
    "# Load data\n",
    "setwd(data_folder)\n",
    "data<-read.csv(\"DATA/All_ThermalBurstSpain.csv\",header=T,sep=\",\",na.strings=c(\"\",\"NA\"))\n",
    "\n",
    "# Remove data south of Gibraltar\n",
    "data<-data[data$First_Latitude>36,]\n",
    "\n",
    "# Allign the data\n",
    "data$Burst_A<-as.POSIXct(data$Burst_A)\n",
    "data$Burst_A2<-as.POSIXct(data$Burst_A)\n",
    "data$Burst_A2<-data$Burst_A2\n",
    "data[year(data$Burst_A)==2020,]$Burst_A2<-data[year(data$Burst_A)==2020,]$Burst_A-as.difftime(366,units=\"days\")"
   ]
  },
  {
   "cell_type": "code",
   "execution_count": null,
   "id": "bf117565-2ee6-4988-9d82-da41bbfdb0e9",
   "metadata": {},
   "outputs": [],
   "source": [
    "options(repr.plot.width=16,repr.plot.height=8)\n",
    "TextSize<-35\n",
    "ggplot(data,aes(First_Latitude,Mean_ClimbingRate,color=Aviary,group=Aviary))+\n",
    "    geom_point(data=data[data$Aviary==\"CASCB\",],alpha=0.25,size=4)+\n",
    "    geom_point(data=data[data$Aviary==\"CareCenter\",],alpha=0.25,size=4)+\n",
    "    geom_point(data=data[data$Aviary==\"Affenberg\",],alpha=0.25,size=4)+\n",
    "    theme_classic()+\n",
    "    #geom_smooth(color=\"white\",lwd=3.5,se=F)+\n",
    "    #geom_smooth(se=F,lwd=2)+\n",
    "    scale_x_reverse(\n",
    "        name=\"Latitude (°N)\",\n",
    "        breaks=c(37.5,40,42.5,45,47.5),\n",
    "        expand=c(0,0)\n",
    "    )+\n",
    "    scale_color_manual(\n",
    "        breaks=c(\"Affenberg\",\"CareCenter\",\"CASCB\"),\n",
    "        values=c(ColorA,ColorCC,ColorC),\n",
    "        name=\"Study group\",\n",
    "        labels=c(NameA,NameCC,NameC)\n",
    "    )+\n",
    "    theme(\n",
    "        text=element_text(size=TextSize),\n",
    "        axis.text.x=element_text(color=\"Black\",size=TextSize,vjust=-0.25),\n",
    "        axis.text.y=element_text(color=\"Black\",size=TextSize),\n",
    "        axis.title.y=element_text(margin=margin(0,TextSize/2,0,0)),\n",
    "        axis.title.x=element_text(margin=margin(TextSize/2,0,0,0)),\n",
    "        plot.background=element_blank(),\n",
    "        panel.background = element_blank(),\n",
    "        legend.background = element_blank(),\n",
    "        panel.grid.major=element_blank(),\n",
    "        panel.grid.minor=element_blank(),\n",
    "        panel.border=element_blank(),\n",
    "        axis.line.x=element_line(color=\"black\", size = 1.5),\n",
    "        axis.line.y=element_line(color=\"black\", size = 1.5),\n",
    "        axis.ticks=element_line(color=\"black\",size=1.5),\n",
    "        axis.ticks.length=unit(0.15,\"cm\")\n",
    "    )+\n",
    "    scale_y_continuous(\n",
    "        name=\"Climbing rate (m/s)\",\n",
    "        expand=c(0,0)\n",
    "    )+\n",
    "    guides(fill=guide_legend(reverse = TRUE),color=guide_legend(reverse=TRUE))\n",
    "\n",
    "setwd(output_folder)\n",
    "ggsave(\"OUTPUT/S4.svg\",width=16,height=8,units=\"in\")"
   ]
  },
  {
   "cell_type": "code",
   "execution_count": null,
   "id": "40b9c3c2-ffc2-4728-a002-e828c35726c7",
   "metadata": {},
   "outputs": [],
   "source": []
  },
  {
   "cell_type": "markdown",
   "id": "442de88d-2cd5-4c0a-a826-0aa8a3cb7e4e",
   "metadata": {},
   "source": [
    "## Fig. S5"
   ]
  },
  {
   "cell_type": "code",
   "execution_count": null,
   "id": "555cd39d-2bef-4f2b-8878-a7c79f98bab5",
   "metadata": {},
   "outputs": [],
   "source": [
    "# Load data\n",
    "setwd(data_folder)\n",
    "data<-read.csv(\"DATA/All_SegTimMinLat.csv\",header=T,sep=\",\",na.strings=c(\"\",\"NA\"))\n",
    "data$DOY1<-yday(as.POSIXct(data$FirstSegm1))\n",
    "data$DOY2<-yday(as.POSIXct(data$FirstSegm2))"
   ]
  },
  {
   "cell_type": "code",
   "execution_count": null,
   "id": "955dfc0c-af2b-4c6f-8bf1-d06d8089ef35",
   "metadata": {},
   "outputs": [],
   "source": [
    "# Get the number of individuals\n",
    "length(unique(data[data$Aviary==\"CASCB\"&!(is.na(data$DOY1)),]$Individual))"
   ]
  },
  {
   "cell_type": "code",
   "execution_count": null,
   "id": "7a27c0ce-588d-4b89-8291-9d4c3118490a",
   "metadata": {},
   "outputs": [],
   "source": [
    "# Get the number of individuals\n",
    "length(unique(data[data$Aviary==\"CASCB\"&!(is.na(data$DOY2)),]$Individual))"
   ]
  },
  {
   "cell_type": "code",
   "execution_count": null,
   "id": "763372af-37d4-4fa2-a497-5d36e626355a",
   "metadata": {},
   "outputs": [],
   "source": [
    "# Get the number of individuals\n",
    "length(unique(data[data$Aviary==\"CareCenter\"&!(is.na(data$DOY1)),]$Individual))"
   ]
  },
  {
   "cell_type": "code",
   "execution_count": null,
   "id": "46419762-858d-4bf9-8d6f-b22310fdd052",
   "metadata": {},
   "outputs": [],
   "source": [
    "# Get the number of individuals\n",
    "length(unique(data[data$Aviary==\"CareCenter\"&!(is.na(data$DOY2)),]$Individual))"
   ]
  },
  {
   "cell_type": "code",
   "execution_count": null,
   "id": "ad833fbc-c913-4142-9682-ee539b98dddb",
   "metadata": {},
   "outputs": [],
   "source": [
    "# Get the number of individuals\n",
    "length(unique(data[data$Aviary==\"Affenberg\"&!(is.na(data$DOY1)),]$Individual))"
   ]
  },
  {
   "cell_type": "code",
   "execution_count": null,
   "id": "e799dd76-a008-404d-a736-724cde106e72",
   "metadata": {},
   "outputs": [],
   "source": [
    "# Get the number of individuals\n",
    "length(unique(data[data$Aviary==\"Affenberg\"&!(is.na(data$DOY2)),]$Individual))"
   ]
  },
  {
   "cell_type": "code",
   "execution_count": null,
   "id": "a168e5fa-9fa6-4b15-acb4-1a0aa478c68a",
   "metadata": {},
   "outputs": [],
   "source": [
    "Year1T<-\n",
    "ggplot(data,aes(DOY1,group=Aviary,color=Aviary,fill=Aviary))+\n",
    "    geom_density(lwd=2,alpha=0.25)+\n",
    "    scale_color_manual(\n",
    "        breaks=c(\"Affenberg\",\"CareCenter\",\"CASCB\"),\n",
    "        values=c(ColorA,ColorCC,ColorC),\n",
    "        name=\"Study group\",\n",
    "        labels=c(NameA,NameCC,NameC)\n",
    "    )+\n",
    "    scale_fill_manual(\n",
    "        breaks=c(\"Affenberg\",\"CareCenter\",\"CASCB\"),\n",
    "        values=c(ColorA,ColorCC,ColorC),\n",
    "        name=\"Study group\",\n",
    "        labels=c(NameA,NameCC,NameC)\n",
    "    )+\n",
    "    scale_x_continuous(\n",
    "        expand=c(0,0),\n",
    "        name=\"Day of the year\",\n",
    "        limits=c(211,275)\n",
    "    )+\n",
    "    scale_y_continuous(\n",
    "        expand=c(0,0,0.01,0),\n",
    "        labels=label_number(accuracy=0.01)\n",
    "    )+\n",
    "    guides(fill=guide_legend(reverse = TRUE),color=guide_legend(reverse=TRUE))"
   ]
  },
  {
   "cell_type": "code",
   "execution_count": null,
   "id": "8a3bab85-f2dd-41a8-a365-aaa1a16b6114",
   "metadata": {},
   "outputs": [],
   "source": [
    "Year2T<-\n",
    "ggplot(data,aes(DOY2,group=Aviary,color=Aviary,fill=Aviary))+\n",
    "    geom_density(lwd=2,alpha=0.25)+\n",
    "    scale_color_manual(\n",
    "        breaks=c(\"Affenberg\",\"CareCenter\",\"CASCB\"),\n",
    "        values=c(ColorA,ColorCC,ColorC),\n",
    "        name=\"Study group\",\n",
    "        labels=c(NameA,NameCC,NameC),\n",
    "        guide=\"none\"\n",
    "    )+\n",
    "    scale_fill_manual(\n",
    "        breaks=c(\"Affenberg\",\"CareCenter\",\"CASCB\"),\n",
    "        values=c(ColorA,ColorCC,ColorC),\n",
    "        name=\"Study group\",\n",
    "        labels=c(NameA,NameCC,NameC),\n",
    "        guide=\"none\"\n",
    "    )+\n",
    "    scale_x_continuous(\n",
    "        expand=c(0,0),\n",
    "        name=\"Day of the year\",\n",
    "        limits=c(211,275)\n",
    "    )+\n",
    "    scale_y_continuous(\n",
    "        expand=c(0,0,0.01,0),\n",
    "        labels=label_number(accuracy=0.01)\n",
    "    )+\n",
    "    geom_vline(data=data[data$Aviary==\"CareCenter\",],aes(xintercept=DOY2),lwd=2,color=ColorCC)"
   ]
  },
  {
   "cell_type": "code",
   "execution_count": null,
   "id": "b2ebf49d-75de-4b58-b3a5-692b75ebe1c5",
   "metadata": {},
   "outputs": [],
   "source": [
    "options(repr.plot.width=16,repr.plot.height=7)\n",
    "TextSize<-35\n",
    "Formatting<-\n",
    "    theme(\n",
    "        text=element_text(size=TextSize),\n",
    "        axis.text.x=element_text(color=\"Black\",size=TextSize,vjust=-0.25),\n",
    "        axis.text.y=element_text(color=\"Black\",size=TextSize),\n",
    "        axis.title.y=element_text(margin=margin(0,TextSize/2,0,0)),\n",
    "        axis.title.x=element_text(margin=margin(TextSize/2,0,0,0)),\n",
    "        plot.background=element_blank(),\n",
    "        panel.background = element_blank(),\n",
    "        legend.background = element_blank(),\n",
    "        panel.grid.major=element_blank(),\n",
    "        panel.grid.minor=element_blank(),\n",
    "        panel.border=element_blank(),\n",
    "        axis.line.x=element_line(color=\"black\", size = 1.5),\n",
    "        axis.line.y=element_line(color=\"black\", size = 1.5),\n",
    "        axis.ticks=element_line(color=\"black\",size=1.5),\n",
    "        axis.ticks.length=unit(0.15,\"cm\"),\n",
    "        plot.title=element_text(hjust=0.5)\n",
    "    )"
   ]
  },
  {
   "cell_type": "code",
   "execution_count": null,
   "id": "9d4847d9-bb2c-4f2e-8d48-b87e6bdea38c",
   "metadata": {},
   "outputs": [],
   "source": [
    "plot_grid(\n",
    "          Year1T+Formatting+theme(legend.justification=c(0,0),legend.position=c(0.1,0.6)),\n",
    "          Year2T+Formatting,\n",
    "          labels=c(\"(a)\",\"(b)\"),label_size=TextSize,label_fontface=\"plain\",label_x=0.85,label_y=c(1,1)\n",
    "         )\n",
    "\n",
    "setwd(output_folder)\n",
    "ggsave(\"OUTPUT/S5.svg\",width=16,height=7,units=\"in\")"
   ]
  },
  {
   "cell_type": "code",
   "execution_count": null,
   "id": "9303a830-0125-4109-af17-ec999f5c36e7",
   "metadata": {},
   "outputs": [],
   "source": []
  },
  {
   "cell_type": "markdown",
   "id": "a99bbb99-fb69-45f6-b576-aee7cf30002b",
   "metadata": {},
   "source": [
    "## Fig. S7"
   ]
  },
  {
   "cell_type": "code",
   "execution_count": null,
   "id": "e66456df-3aba-4078-becc-4415cd8f223c",
   "metadata": {},
   "outputs": [],
   "source": [
    "# Load data\n",
    "setwd(data_folder)\n",
    "data<-read.csv(\"DATA/All_ODBA_Temp.csv\",header=T,sep=\",\",na.strings=c(\"\",\"NA\"))\n",
    "\n",
    "# Add year\n",
    "data$Year<-year(data$timestamp)\n",
    "\n",
    "# Keep only data that was collected during flight\n",
    "data<-data[!(is.na(data$FlyingID)),]\n",
    "\n",
    "# Add the first day an individual was in the segment\n",
    "FirstInSegment<-aggregate(timestamp~Individual,data,min)\n",
    "data$FirstInSegment<-FirstInSegment[match(data$Individual,FirstInSegment$Individual),\"timestamp\"]"
   ]
  },
  {
   "cell_type": "code",
   "execution_count": null,
   "id": "df14cc85-5e02-419e-849f-a560daea4c5d",
   "metadata": {},
   "outputs": [],
   "source": [
    "# Summarise the data \n",
    "data<-aggregate(ODBA~Individual+Day+Aviary+FirstInSegment,data,mean)\n",
    "\n",
    "options(repr.plot.width=16,repr.plot.height=8)\n",
    "TextSize<-35\n",
    "Fig_S7<-\n",
    "ggplot(data,aes(yday(Day),ODBA,color=Aviary))+\n",
    "    geom_point(size=4)+\n",
    "    theme_classic()+\n",
    "    geom_smooth(se=F,lwd=3.5,color=\"White\")+\n",
    "    geom_smooth(se=F,lwd=2,color=\"Black\")+\n",
    "    scale_color_manual(\n",
    "        breaks=c(\"Affenberg\",\"CareCenter\",\"CASCB\"),\n",
    "        values=c(ColorA,ColorCC,ColorC),\n",
    "        name=\"Study group\",\n",
    "        labels=c(NameA,NameCC,NameC)\n",
    "    )+\n",
    "    theme(\n",
    "        text=element_text(size=TextSize),\n",
    "        axis.text.x=element_text(color=\"Black\",size=TextSize,vjust=-0.25),\n",
    "        axis.text.y=element_text(color=\"Black\",size=TextSize),\n",
    "        axis.title.y=element_text(margin=margin(0,TextSize/2,0,0)),\n",
    "        axis.title.x=element_text(margin=margin(TextSize/2,0,0,0)),\n",
    "        plot.background=element_blank(),\n",
    "        panel.background = element_blank(),\n",
    "        legend.background = element_blank(),\n",
    "        panel.grid.major=element_blank(),\n",
    "        panel.grid.minor=element_blank(),\n",
    "        panel.border=element_blank(),\n",
    "        axis.line.x=element_line(color=\"black\", size = 1.5),\n",
    "        axis.line.y=element_line(color=\"black\", size = 1.5),\n",
    "        axis.ticks=element_line(color=\"black\",size=1.5),\n",
    "        axis.ticks.length=unit(0.15,\"cm\")\n",
    "    )+\n",
    "    ylab(\"ODBA (m/s²)\")+\n",
    "    xlab(\"Day of the year\")+\n",
    "    scale_x_continuous(expand=c(0.025,0))+\n",
    "    scale_y_continuous(expand=c(0.05,0))+\n",
    "    guides(fill=guide_legend(reverse = TRUE),color=guide_legend(reverse=TRUE))"
   ]
  },
  {
   "cell_type": "code",
   "execution_count": null,
   "id": "ced81492-a158-400b-95d4-bd823cd79b9a",
   "metadata": {},
   "outputs": [],
   "source": [
    "Fig_S7\n",
    "setwd(output_folder)\n",
    "ggsave(\"Output/S7.svg\",width=16,height=8,units=\"in\")"
   ]
  },
  {
   "cell_type": "code",
   "execution_count": null,
   "id": "25ea48f0-274b-486a-bc2c-7513fe715109",
   "metadata": {},
   "outputs": [],
   "source": []
  },
  {
   "cell_type": "markdown",
   "id": "7cf669c5-870b-4ec6-b083-2b20fd827447",
   "metadata": {},
   "source": [
    "## Fig. S8"
   ]
  },
  {
   "cell_type": "code",
   "execution_count": null,
   "id": "fc1cb71a-8b4f-45d5-b2e5-3d6762967e7e",
   "metadata": {},
   "outputs": [],
   "source": [
    "# Define colors\n",
    "Color9<-\"#99d8c9\"\n",
    "Color0<-\"#006d2c\""
   ]
  },
  {
   "cell_type": "code",
   "execution_count": null,
   "id": "9c8e7026-a2d2-4655-a542-2dbcb5faad0f",
   "metadata": {},
   "outputs": [],
   "source": [
    "# Load data\n",
    "setwd(data_folder)\n",
    "dataT<-read.csv(\"DATA/TestTempDiff/TestTempDiff_All.csv\",header=T,sep=\",\",na.strings=c(\"\",\"NA\"))\n",
    "\n",
    "# Change the column name\n",
    "colnames(dataT)[colnames(dataT)==\"ECMWF.ERA5.SL.Temperature..2.m.above.Ground.\"]<-\"Temp\"\n",
    "\n",
    "# Get the average per day\n",
    "dataT<-aggregate(Temp~Day+Year,dataT,mean)\n",
    "\n",
    "# Transform timestamps\n",
    "dataT$YD<-yday(as.POSIXct(dataT$Day))"
   ]
  },
  {
   "cell_type": "code",
   "execution_count": null,
   "id": "d8c76297-1208-48ab-bf75-ffae223c0f69",
   "metadata": {},
   "outputs": [],
   "source": [
    "options(repr.plot.width=16,repr.plot.height=8)\n",
    "TextSize<-35\n",
    "PlotTemp<-\n",
    "ggplot(dataT,aes(YD,Temp,color=as.character(Year)))+\n",
    "    geom_point(size=4,alpha=0.25)+\n",
    "    geom_smooth(method=\"lm\",se=F,lwd=2)+\n",
    "    theme_classic()+\n",
    "    scale_color_manual(\n",
    "        breaks=c(2019,2020),\n",
    "        values=c(Color9,Color0),\n",
    "        name=\"Year\",\n",
    "        labels=c(2019,2020)\n",
    "    )+\n",
    "    theme(\n",
    "        text=element_text(size=TextSize),\n",
    "        axis.text.x=element_text(color=\"Black\",size=TextSize,vjust=-0.25),\n",
    "        axis.text.y=element_text(color=\"Black\",size=TextSize),\n",
    "        axis.title.y=element_text(margin=margin(0,TextSize/2,0,0)),\n",
    "        axis.title.x=element_text(margin=margin(TextSize/2,0,0,0)),\n",
    "        plot.background=element_blank(),\n",
    "        panel.background = element_blank(),\n",
    "        legend.background = element_blank(),\n",
    "        panel.grid.major=element_blank(),\n",
    "        panel.grid.minor=element_blank(),\n",
    "        panel.border=element_blank(),\n",
    "        axis.line.x=element_line(color=\"black\", size = 1.5),\n",
    "        axis.line.y=element_line(color=\"black\", size = 1.5),\n",
    "        axis.ticks=element_line(color=\"black\",size=1.5),\n",
    "        axis.ticks.length=unit(0.15,\"cm\"),\n",
    "        legend.justification=c(0,0), legend.position=c(0.05,0.05)\n",
    "    )+\n",
    "    scale_x_continuous(\n",
    "        expand=c(0.01,0.01),\n",
    "        name=\"Day of the year\"\n",
    "    )+\n",
    "    scale_y_continuous(\n",
    "        expand=c(0.01,0.01),\n",
    "        name=\"Temperature (K)\"\n",
    "    )"
   ]
  },
  {
   "cell_type": "code",
   "execution_count": null,
   "id": "4c50736e-8bae-431e-9de1-77bf6e3367ba",
   "metadata": {},
   "outputs": [],
   "source": [
    "# Load data\n",
    "dataB<-read.csv(\"DATA/TestBLHDiff/TestBLHDiff_All.csv\",header=T,sep=\",\",na.strings=c(\"\",\"NA\"))\n",
    "\n",
    "# Change the column name\n",
    "colnames(dataB)[colnames(dataB)==\"ECMWF.ERA5.SL.Boundary.Layer.Height\"]<-\"BLH\"\n",
    "\n",
    "# Get the average per day\n",
    "dataB<-aggregate(BLH~Day+Year,dataB,mean)\n",
    "\n",
    "# Transform timestamps\n",
    "dataB$YD<-yday(as.POSIXct(dataB$Day))"
   ]
  },
  {
   "cell_type": "code",
   "execution_count": null,
   "id": "67a807fb-c00c-4b3e-b32f-11604851a815",
   "metadata": {},
   "outputs": [],
   "source": [
    "options(repr.plot.width=16,repr.plot.height=8)\n",
    "TextSize<-35\n",
    "PlotBLH<-\n",
    "ggplot(dataB,aes(YD,BLH,color=as.character(Year)))+\n",
    "    geom_point(size=4,alpha=0.25)+\n",
    "    geom_smooth(method=\"lm\",se=F,lwd=2)+\n",
    "    theme_classic()+\n",
    "    scale_color_manual(\n",
    "        breaks=c(2019,2020),\n",
    "        values=c(Color9,Color0),\n",
    "        name=\"Year\",\n",
    "        labels=c(2019,2020)\n",
    "    )+\n",
    "    theme(\n",
    "        text=element_text(size=TextSize),\n",
    "        axis.text.x=element_text(color=\"Black\",size=TextSize,vjust=-0.25),\n",
    "        axis.text.y=element_text(color=\"Black\",size=TextSize),\n",
    "        axis.title.y=element_text(margin=margin(0,TextSize/2,0,0)),\n",
    "        axis.title.x=element_text(margin=margin(TextSize/2,0,0,0)),\n",
    "        plot.background=element_blank(),\n",
    "        panel.background = element_blank(),\n",
    "        legend.background = element_blank(),\n",
    "        panel.grid.major=element_blank(),\n",
    "        panel.grid.minor=element_blank(),\n",
    "        panel.border=element_blank(),\n",
    "        axis.line.x=element_line(color=\"black\", size = 1.5),\n",
    "        axis.line.y=element_line(color=\"black\", size = 1.5),\n",
    "        axis.ticks=element_line(color=\"black\",size=1.5),\n",
    "        axis.ticks.length=unit(0.15,\"cm\"),\n",
    "        legend.position=\"none\"\n",
    "    )+\n",
    "    scale_x_continuous(\n",
    "        expand=c(0.01,0.01),\n",
    "        name=\"Day of the year\"\n",
    "    )+\n",
    "    scale_y_continuous(\n",
    "        expand=c(0.01,0.01),\n",
    "        name=\"Boundary layer height (m)\"\n",
    "    )"
   ]
  },
  {
   "cell_type": "code",
   "execution_count": null,
   "id": "83a872f3-e656-40ac-a369-b46f2e1d1d74",
   "metadata": {},
   "outputs": [],
   "source": [
    "setwd(output_folder)\n",
    "plot_grid(PlotTemp,PlotBLH,labels=c(\"(a)\",\"(b)\"),label_size=TextSize,label_fontface=\"plain\",label_x=0.85,label_y=1)\n",
    "ggsave(\"OUTPUT/S7.svg\",width=16,height=8,units=\"in\")"
   ]
  },
  {
   "cell_type": "code",
   "execution_count": null,
   "id": "0ce46d5b-aa06-4b51-959c-fbba10866120",
   "metadata": {},
   "outputs": [],
   "source": []
  },
  {
   "cell_type": "markdown",
   "id": "b06c75fb-de6d-4cef-84a4-b24fd8530a1b",
   "metadata": {},
   "source": [
    "## Fig. S8"
   ]
  },
  {
   "cell_type": "code",
   "execution_count": null,
   "id": "d4caf3ff-e4a0-4d08-8617-1c9570685dcc",
   "metadata": {},
   "outputs": [],
   "source": [
    "# Load data\n",
    "setwd(data_folder)\n",
    "data<-read.csv(\"DATA/All_ODBA_Temp.csv\",header=T,sep=\",\",na.strings=c(\"\",\"NA\"))\n",
    "\n",
    "# Add year\n",
    "data$Year<-year(data$timestamp)\n",
    "\n",
    "# Keep only data that was collected during flight\n",
    "data<-data[!(is.na(data$FlyingID)),]\n",
    "\n",
    "# Keep data during gliding only\n",
    "data<-data[!(is.na(data$GlidingID)),]"
   ]
  },
  {
   "cell_type": "code",
   "execution_count": null,
   "id": "354391db-2ece-45b5-99fb-a632690a557a",
   "metadata": {},
   "outputs": [],
   "source": [
    "options(repr.plot.width=16,repr.plot.height=8)\n",
    "TextSize<-35\n",
    "ggplot(data,aes(Altitude_End,ODBA,color=Aviary,group=Aviary))+\n",
    "    geom_point(alpha=0.25,size=4)+\n",
    "    theme_classic()+\n",
    "    geom_smooth(se=F,lwd=3.5,color=\"White\")+\n",
    "    geom_smooth(se=F,lwd=2)+\n",
    "    scale_color_manual(\n",
    "        breaks=c(\"Affenberg\",\"CareCenter\",\"CASCB\"),\n",
    "        values=c(ColorA,ColorCC,ColorC),\n",
    "        name=\"Study group\",\n",
    "        labels=c(NameA,NameCC,NameC)\n",
    "    )+\n",
    "    theme(\n",
    "        text=element_text(size=TextSize),\n",
    "        axis.text.x=element_text(color=\"Black\",size=TextSize,vjust=-0.25),\n",
    "        axis.text.y=element_text(color=\"Black\",size=TextSize),\n",
    "        axis.title.y=element_text(margin=margin(0,TextSize/2,0,0)),\n",
    "        axis.title.x=element_text(margin=margin(TextSize/2,0,0,0)),\n",
    "        plot.background=element_blank(),\n",
    "        panel.background = element_blank(),\n",
    "        legend.background = element_blank(),\n",
    "        panel.grid.major=element_blank(),\n",
    "        panel.grid.minor=element_blank(),\n",
    "        panel.border=element_blank(),\n",
    "        axis.line.x=element_line(color=\"black\", size = 1.5),\n",
    "        axis.line.y=element_line(color=\"black\", size = 1.5),\n",
    "        axis.ticks=element_line(color=\"black\",size=1.5),\n",
    "        axis.ticks.length=unit(0.15,\"cm\")\n",
    "    )+\n",
    "    ylab(\"ODBA (m/s²)\")+\n",
    "    xlab(\"Altitude (m)\")+\n",
    "    scale_x_continuous(expand=c(0,0))+\n",
    "    scale_y_continuous(expand=c(0,0))+\n",
    "    guides(fill=guide_legend(reverse = TRUE),color=guide_legend(reverse=TRUE))\n",
    "\n",
    "setwd(output_folder)\n",
    "ggsave(\"OUTPUT/S8.svg\",width=16,height=8,units=\"in\")"
   ]
  },
  {
   "cell_type": "code",
   "execution_count": null,
   "id": "dcaee5fe-baf2-4e5b-af29-d5fbd5905c40",
   "metadata": {},
   "outputs": [],
   "source": []
  }
 ],
 "metadata": {
  "kernelspec": {
   "display_name": "BirdHippie R 4.1.2",
   "language": "R",
   "name": "birdhippie"
  },
  "language_info": {
   "codemirror_mode": "r",
   "file_extension": ".r",
   "mimetype": "text/x-r-source",
   "name": "R",
   "pygments_lexer": "r",
   "version": "4.1.2"
  }
 },
 "nbformat": 4,
 "nbformat_minor": 5
}
