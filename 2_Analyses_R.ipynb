{
 "cells": [
  {
   "cell_type": "markdown",
   "id": "482869fa-718d-4982-a0d8-9d649b50e091",
   "metadata": {},
   "source": [
    "# Analyses in R"
   ]
  },
  {
   "cell_type": "markdown",
   "id": "8d479e79-e77e-42ab-8ace-8e4d2aef19e6",
   "metadata": {},
   "source": [
    "## Information\n",
    "Project: **The price of being late: short- and long-term consequences of a delayed migration timing**  \n",
    "Author: Iris Bontekoe  \n",
    "Program: R 4.1.2  \n",
    "Description: This script contains all analyses carried out to obtain the results in the manuscript."
   ]
  },
  {
   "cell_type": "markdown",
   "id": "2db64008-7f79-4191-b225-e49746f3705b",
   "metadata": {},
   "source": [
    "### Preparations"
   ]
  },
  {
   "cell_type": "code",
   "execution_count": null,
   "id": "6be0ad9d-be96-4bdb-a51e-79bbe6446ec6",
   "metadata": {},
   "outputs": [],
   "source": [
    "# Change work directory\n",
    "setwd(\"[...]\")\n",
    "\n",
    "# Set standard time zone to UTC\n",
    "Sys.setenv(TZ=\"UTC\")\n",
    "\n",
    "# Load packages\n",
    "library(lubridate)\n",
    "#library(lme4)\n",
    "library(multcomp)\n",
    "library(dplyr)\n",
    "library(lmerTest)\n",
    "library(pbkrtest)\n",
    "library(rstatix)"
   ]
  },
  {
   "cell_type": "code",
   "execution_count": null,
   "id": "940ddeed-041a-4adc-a817-b135958b35db",
   "metadata": {},
   "outputs": [],
   "source": []
  },
  {
   "cell_type": "markdown",
   "id": "7624d784-07e1-44cc-981b-b1361a81ce23",
   "metadata": {},
   "source": [
    "## Analyses"
   ]
  },
  {
   "cell_type": "markdown",
   "id": "a774d62b-05d1-4769-a4b0-ec5ce2aaee48",
   "metadata": {},
   "source": [
    "### # storks in segment"
   ]
  },
  {
   "cell_type": "code",
   "execution_count": null,
   "id": "03a879e6-7aff-43de-9217-364b0c00fb77",
   "metadata": {},
   "outputs": [],
   "source": [
    "# Load data\n",
    "data<-read.csv(\"DATA/All_DaysInSegment.csv\",header=T,sep=\",\",na.strings=c(\"\",\"NA\"))\n",
    "data$Year<-year(data$Timestamp_first)"
   ]
  },
  {
   "cell_type": "code",
   "execution_count": null,
   "id": "f49ca76c-d871-4bad-b01c-a8d467f4f4c3",
   "metadata": {},
   "outputs": [],
   "source": [
    "# Affenberg\n",
    "print(paste0(\"Affenberg: \",length(unique(data[data$Aviary==\"Affenberg\",]$Individual))))\n",
    "\n",
    "# Care center\n",
    "print(paste0(\"Care center: \",length(unique(data[data$Aviary==\"CareCenter\",]$Individual))))\n",
    "\n",
    "# CASCB\n",
    "print(paste0(\"CASCB: \",length(unique(data[data$Aviary==\"CASCB\",]$Individual))))"
   ]
  },
  {
   "cell_type": "code",
   "execution_count": null,
   "id": "4fe73c4c-abea-44f5-820e-6b5e7ee48fcd",
   "metadata": {},
   "outputs": [],
   "source": []
  },
  {
   "cell_type": "markdown",
   "id": "f5261a71-e272-4b54-b416-c0d2850464cf",
   "metadata": {},
   "source": [
    "### # migrants and non-migrants"
   ]
  },
  {
   "cell_type": "code",
   "execution_count": null,
   "id": "0a64b709-8d03-4df0-bd46-07347f7d76e3",
   "metadata": {},
   "outputs": [],
   "source": [
    "# Load data\n",
    "data<-read.csv(\"DATA/All_SegTimMinLat.csv\",header=T,sep=\",\",na.strings=c(\"\",\"NA\"))\n",
    "\n",
    "# Remove all data that does not have a MinLatDate1 (i.e. remove individuals that did not survive)\n",
    "data<-data[!(is.na(data$MinLatDate1)),]\n",
    "\n",
    "# Determine which individuals migrated\n",
    "data$Mig<-data$Distance1>200\n",
    "\n",
    "# Add year to the data\n",
    "data$Year<-year(data$FirstDate1)"
   ]
  },
  {
   "cell_type": "code",
   "execution_count": null,
   "id": "7daa881f-449b-41c4-9c68-f97d90063ab3",
   "metadata": {},
   "outputs": [],
   "source": [
    "# Get the total number of data points\n",
    "nrow(data)"
   ]
  },
  {
   "cell_type": "code",
   "execution_count": null,
   "id": "247f1141-14d3-4e39-8b24-ecaa7464373e",
   "metadata": {},
   "outputs": [],
   "source": [
    "# Calculate the number of migrating and non-migrating individuals\n",
    "data2<-matrix(nrow=3,ncol=2)\n",
    "rownames(data2)<-c(\"Affenberg\",\"CareCenter\",\"CASCB\")\n",
    "colnames(data2)<-c(\"Migrant\",\"Non-migrant\")\n",
    "\n",
    "data2[\"Affenberg\",\"Migrant\"]<-nrow(data[data$Aviary==\"Affenberg\"&data$Mig,])\n",
    "data2[\"Affenberg\",\"Non-migrant\"]<-nrow(data[data$Aviary==\"Affenberg\"&!data$Mig,])\n",
    "\n",
    "data2[\"CareCenter\",\"Migrant\"]<-nrow(data[data$Aviary==\"CareCenter\"&data$Mig,])\n",
    "data2[\"CareCenter\",\"Non-migrant\"]<-nrow(data[data$Aviary==\"CareCenter\"&!data$Mig,])\n",
    "\n",
    "data2[\"CASCB\",\"Migrant\"]<-nrow(data[data$Aviary==\"CASCB\"&data$Mig,])\n",
    "data2[\"CASCB\",\"Non-migrant\"]<-nrow(data[data$Aviary==\"CASCB\"&!data$Mig,])\n",
    "\n",
    "print(data2)"
   ]
  },
  {
   "cell_type": "code",
   "execution_count": null,
   "id": "8c5d79cd-2e40-4462-84bf-580aca9f4390",
   "metadata": {},
   "outputs": [],
   "source": [
    "# Calculate the number of migrants and the total number for both years of Affenberg\n",
    "print(paste0(\n",
    "    \"Migrants 2019: \",\n",
    "    nrow(data[data$Aviary==\"Affenberg\"&data$Mig&data$Year==2019,])\n",
    "))\n",
    "\n",
    "print(paste0(\n",
    "    \"Total 2019: \",\n",
    "    nrow(data[data$Aviary==\"Affenberg\"&data$Year==2019,])\n",
    "))\n",
    "\n",
    "print(paste0(\n",
    "    \"Migrants 2020: \",\n",
    "    nrow(data[data$Aviary==\"Affenberg\"&data$Mig&data$Year==2020,])\n",
    "))\n",
    "\n",
    "print(paste0(\n",
    "    \"Total 2020: \",\n",
    "    nrow(data[data$Aviary==\"Affenberg\"&data$Year==2020,])\n",
    "))"
   ]
  },
  {
   "cell_type": "code",
   "execution_count": null,
   "id": "c19789bd-3772-4d2c-a46a-c89832bd535f",
   "metadata": {},
   "outputs": [],
   "source": [
    "# Test the difference between groups\n",
    "cat(\"\\n------------------------- Test for differences -------------------------\\n\")\n",
    "fisher.test(data2)\n",
    "cat(\"\\n---------------------------- Post-hoc test -----------------------------\\n\")\n",
    "pairwise_fisher_test(data2,p.adjust.method=\"fdr\")\n",
    "cat(\"\\n---------------------------- Date and time -----------------------------\\n\")\n",
    "print(Sys.time())"
   ]
  },
  {
   "cell_type": "code",
   "execution_count": null,
   "id": "11b2aed9-a14b-4b5c-a54f-c18eb978b6d2",
   "metadata": {},
   "outputs": [],
   "source": []
  },
  {
   "cell_type": "markdown",
   "id": "55860beb-ce71-40fc-9299-555ba4b1b40c",
   "metadata": {},
   "source": [
    "### Migration distance"
   ]
  },
  {
   "cell_type": "code",
   "execution_count": null,
   "id": "9c50b5c0-b7fe-4392-a971-94e2ed4bd77c",
   "metadata": {},
   "outputs": [],
   "source": [
    "# Load data\n",
    "data<-read.csv(\"DATA/All_SegTimMinLat.csv\",header=T,sep=\",\",na.strings=c(\"\",\"NA\"))\n",
    "\n",
    "# Remove all data that does not have a Distance1\n",
    "data<-data[!(is.na(data$Distance1)),]"
   ]
  },
  {
   "cell_type": "code",
   "execution_count": null,
   "id": "0ffa645f-0588-4ef2-8226-78ec5892147d",
   "metadata": {},
   "outputs": [],
   "source": [
    "# Extract the number of individuals\n",
    "# Affenberg\n",
    "print(paste0(\"Affenberg: \",length(unique(data[data$Aviary==\"Affenberg\"&data$Distance1>200,]$Individual))))\n",
    "\n",
    "# Care center\n",
    "print(paste0(\"Care center: \",length(unique(data[data$Aviary==\"CareCenter\"&data$Distance1>200,]$Individual))))\n",
    "\n",
    "# CASCB\n",
    "print(paste0(\"CASCB: \",length(unique(data[data$Aviary==\"CASCB\"&data$Distance1>200,]$Individual))))"
   ]
  },
  {
   "cell_type": "code",
   "execution_count": null,
   "id": "ce76e783-2b5e-436c-b5f5-9ecac0eb4334",
   "metadata": {},
   "outputs": [],
   "source": [
    "# Calculate the mean and standard deviation\n",
    "MeanSD<-aggregate(Distance1~Aviary,data[data$Distance1>200,],function(x) c(mean = mean(x), sd = sd(x)))\n",
    "MeanSD$Mean<-MeanSD$DistFinal[,1]\n",
    "MeanSD$SD<-MeanSD$DistFinal[,2]\n",
    "MeanSD$DistFinal<-NULL\n",
    "\n",
    "print(MeanSD)"
   ]
  },
  {
   "cell_type": "code",
   "execution_count": null,
   "id": "68009d15-7798-4616-8b64-816a75ea8649",
   "metadata": {},
   "outputs": [],
   "source": [
    "# Get the total number of data points\n",
    "nrow(data[data$Distance1>200,])"
   ]
  },
  {
   "cell_type": "code",
   "execution_count": null,
   "id": "fc30e399-47ef-4fa8-bdc9-168b61d7f8d6",
   "metadata": {},
   "outputs": [],
   "source": [
    "# Test model assumptions\n",
    "# Test homogeneity of variance and normality\n",
    "Model_groups<-lm(Distance1~Aviary,data=data[data$Distance1>200,])\n",
    "par(mfrow=c(2,2))\n",
    "\n",
    "plot(Model_groups)"
   ]
  },
  {
   "cell_type": "code",
   "execution_count": null,
   "id": "f4adf5c3-bbaa-495f-9ce2-2bf0fca04d09",
   "metadata": {},
   "outputs": [],
   "source": [
    "# This doesnt't look too good. Try transforming the data\n",
    "data$Distance1_log<-log(data$Distance1)\n",
    "data$Distance1_sqrt<-sqrt(data$Distance1)"
   ]
  },
  {
   "cell_type": "code",
   "execution_count": null,
   "id": "d58beadd-746a-403e-9fc8-c64adb51fe03",
   "metadata": {},
   "outputs": [],
   "source": [
    "# Test homogeneity of variance and normality\n",
    "Model_groups<-lm(Distance1_log~Aviary,data=data[data$Distance1>200,])\n",
    "par(mfrow=c(2,2))\n",
    "\n",
    "plot(Model_groups)"
   ]
  },
  {
   "cell_type": "code",
   "execution_count": null,
   "id": "f8ccaf65-c22c-4258-9f29-df23370f547c",
   "metadata": {},
   "outputs": [],
   "source": [
    "# Test homogeneity of variance and normality\n",
    "Model_groups<-lm(Distance1_sqrt~Aviary,data=data[data$Distance1>200,])\n",
    "par(mfrow=c(2,2))\n",
    "\n",
    "plot(Model_groups)"
   ]
  },
  {
   "cell_type": "code",
   "execution_count": null,
   "id": "162dda79-8a66-45f0-81c1-06c93c0b998d",
   "metadata": {},
   "outputs": [],
   "source": [
    "# That doesn't help"
   ]
  },
  {
   "cell_type": "code",
   "execution_count": null,
   "id": "1d4876c3-f60e-43b5-ba4c-5574e005deb8",
   "metadata": {},
   "outputs": [],
   "source": [
    "# Test differences between groups\n",
    "data$Aviary2<-as.factor(data$Aviary)\n",
    "Model_groups<-lm(Distance1~Aviary2,data=data[data$Distance1>200,])\n",
    "\n",
    "cat(\"\\n--------------------------- Summary of model ---------------------------\\n\")\n",
    "summary(Model_groups)\n",
    "cat(\"\\n------------------------- Anova to get p-value -------------------------\\n\")\n",
    "anova(Model_groups)\n",
    "cat(\"\\n------------------------- Post-hoc Tukey test --------------------------\\n\")\n",
    "summary(glht(Model_groups,linfct=mcp(Aviary2=\"Tukey\")))\n",
    "cat(\"\\n---------------------------- Date and time -----------------------------\\n\")\n",
    "print(Sys.time())"
   ]
  },
  {
   "cell_type": "code",
   "execution_count": null,
   "id": "dafa2218-a231-422a-96e0-a57b4e405753",
   "metadata": {},
   "outputs": [],
   "source": []
  },
  {
   "cell_type": "markdown",
   "id": "2b9c485c-54de-4b59-9608-79488327cbc2",
   "metadata": {},
   "source": [
    "### % continuing to sub-Saharan Africa"
   ]
  },
  {
   "cell_type": "code",
   "execution_count": null,
   "id": "3d885c46-69f2-4488-8404-acab691112b5",
   "metadata": {},
   "outputs": [],
   "source": [
    "# Load data\n",
    "data<-read.csv(\"DATA/All_SegTimMinLat.csv\",header=T,sep=\",\",na.strings=c(\"\",\"NA\"))\n",
    "\n",
    "# Remove all data that does not have a Distance1 (i.e. remove individuals that did not finish migration)\n",
    "data<-data[!(is.na(data$Distance1)),]\n",
    "\n",
    "# Determine which individuals migrated to sub-Saharan Africa\n",
    "data$SubSah<-data$Distance1>3000"
   ]
  },
  {
   "cell_type": "code",
   "execution_count": null,
   "id": "98325859-ec0e-44d1-a8bc-29bcb1bf9f27",
   "metadata": {},
   "outputs": [],
   "source": [
    "# Get the total number of data points\n",
    "nrow(data)"
   ]
  },
  {
   "cell_type": "code",
   "execution_count": null,
   "id": "58f08ff7-7e1b-44f6-a56d-11de9409ee9d",
   "metadata": {},
   "outputs": [],
   "source": [
    "# Extract the number of individuals\n",
    "# Affenberg\n",
    "print(paste0(\"Affenberg: \",length(unique(data[data$Aviary==\"Affenberg\",]$Individual))))\n",
    "\n",
    "# Care center\n",
    "print(paste0(\"Care center: \",length(unique(data[data$Aviary==\"CareCenter\",]$Individual))))\n",
    "\n",
    "# CASCB\n",
    "print(paste0(\"CASCB: \",length(unique(data[data$Aviary==\"CASCB\",]$Individual))))"
   ]
  },
  {
   "cell_type": "code",
   "execution_count": null,
   "id": "9dd0782a-5586-47ed-a7b4-1d6065db576f",
   "metadata": {},
   "outputs": [],
   "source": [
    "# Calculate the percentage of individuals that migrate to sub-Saharan Africa (threshold: 3000 km)\n",
    "print(paste0(\n",
    "    \"Affenberg: \",\n",
    "    round(nrow(data[data$Aviary==\"Affenberg\"&data$SubSah,])/nrow(data[data$Aviary==\"Affenberg\",])*100,digits=1),\n",
    "    \"%\"\n",
    "))\n",
    "\n",
    "print(paste0(\n",
    "    \"Care center: \",\n",
    "    round(nrow(data[data$Aviary==\"CareCenter\"&data$SubSah,])/nrow(data[data$Aviary==\"CareCenter\",])*100,digits=1),\n",
    "    \"%\"\n",
    "))\n",
    "\n",
    "print(paste0(\n",
    "    \"CASCB: \",\n",
    "    round(nrow(data[data$Aviary==\"CASCB\"&data$SubSah,])/nrow(data[data$Aviary==\"CASCB\",])*100,digits=1),\n",
    "    \"%\"\n",
    "))"
   ]
  },
  {
   "cell_type": "code",
   "execution_count": null,
   "id": "bdb7ca47-a798-466b-8277-521efd85b7aa",
   "metadata": {},
   "outputs": [],
   "source": [
    "# Calculate the number of migrating and non-migrating individuals\n",
    "data2<-matrix(nrow=3,ncol=3)\n",
    "rownames(data2)<-c(\"Affenberg\",\"CareCenter\",\"CASCB\")\n",
    "colnames(data2)<-c(\"SubSah\",\"NSah\",\"Total\")\n",
    "\n",
    "data2[\"Affenberg\",\"SubSah\"]<-nrow(data[data$Aviary==\"Affenberg\"&data$SubSah,])\n",
    "data2[\"Affenberg\",\"NSah\"]<-nrow(data[data$Aviary==\"Affenberg\"&!data$SubSah,])\n",
    "data2[\"Affenberg\",\"Total\"]<-nrow(data[data$Aviary==\"Affenberg\",])\n",
    "\n",
    "data2[\"CareCenter\",\"SubSah\"]<-nrow(data[data$Aviary==\"CareCenter\"&data$SubSah,])\n",
    "data2[\"CareCenter\",\"NSah\"]<-nrow(data[data$Aviary==\"CareCenter\"&!data$SubSah,])\n",
    "data2[\"CareCenter\",\"Total\"]<-nrow(data[data$Aviary==\"CareCenter\",])\n",
    "\n",
    "data2[\"CASCB\",\"SubSah\"]<-nrow(data[data$Aviary==\"CASCB\"&data$SubSah,])\n",
    "data2[\"CASCB\",\"NSah\"]<-nrow(data[data$Aviary==\"CASCB\"&!data$SubSah,])\n",
    "data2[\"CASCB\",\"Total\"]<-nrow(data[data$Aviary==\"CASCB\",])\n",
    "\n",
    "print(data2)"
   ]
  },
  {
   "cell_type": "code",
   "execution_count": null,
   "id": "04fc3aab-dc59-4f25-982a-3059d794f186",
   "metadata": {},
   "outputs": [],
   "source": [
    "# Calculate the number of migrating and non-migrating individuals\n",
    "data2<-matrix(nrow=3,ncol=2)\n",
    "rownames(data2)<-c(\"Affenberg\",\"CareCenter\",\"CASCB\")\n",
    "colnames(data2)<-c(\"SubSah\",\"NSah\")\n",
    "\n",
    "data2[\"Affenberg\",\"SubSah\"]<-nrow(data[data$Aviary==\"Affenberg\"&data$SubSah,])\n",
    "data2[\"Affenberg\",\"NSah\"]<-nrow(data[data$Aviary==\"Affenberg\"&!data$SubSah,])\n",
    "\n",
    "data2[\"CareCenter\",\"SubSah\"]<-nrow(data[data$Aviary==\"CareCenter\"&data$SubSah,])\n",
    "data2[\"CareCenter\",\"NSah\"]<-nrow(data[data$Aviary==\"CareCenter\"&!data$SubSah,])\n",
    "\n",
    "data2[\"CASCB\",\"SubSah\"]<-nrow(data[data$Aviary==\"CASCB\"&data$SubSah,])\n",
    "data2[\"CASCB\",\"NSah\"]<-nrow(data[data$Aviary==\"CASCB\"&!data$SubSah,])"
   ]
  },
  {
   "cell_type": "code",
   "execution_count": null,
   "id": "273b07d0-99d5-41df-af50-43a0d2f4eb93",
   "metadata": {},
   "outputs": [],
   "source": [
    "# Test the difference between groups\n",
    "cat(\"\\n------------------------- Test for differences -------------------------\\n\")\n",
    "fisher.test(data2)\n",
    "cat(\"\\n---------------------------- Post-hoc test -----------------------------\\n\")\n",
    "pairwise_fisher_test(data2,p.adjust.method=\"fdr\")\n",
    "cat(\"\\n---------------------------- Date and time -----------------------------\\n\")\n",
    "print(Sys.time())"
   ]
  },
  {
   "cell_type": "code",
   "execution_count": null,
   "id": "a2fcf383-9da7-45eb-a24f-50e9d801734a",
   "metadata": {},
   "outputs": [],
   "source": []
  },
  {
   "cell_type": "markdown",
   "id": "b274b03b-8027-4c88-af93-242bd812c33f",
   "metadata": {},
   "source": [
    "### Differences in wintering latitude and timing in Year 1 + Year 2"
   ]
  },
  {
   "cell_type": "code",
   "execution_count": null,
   "id": "c498433e-fe29-4c2a-95e9-06cca55b3807",
   "metadata": {},
   "outputs": [],
   "source": [
    "# Load data\n",
    "data<-read.csv(\"DATA/All_SegTimMinLat.csv\",header=T,sep=\",\",na.strings=c(\"\",\"NA\"))\n",
    "data$DOY1<-yday(as.POSIXct(data$FirstSegm1))\n",
    "data$DOY2<-yday(as.POSIXct(data$FirstSegm2))"
   ]
  },
  {
   "cell_type": "code",
   "execution_count": null,
   "id": "8f6c4a59-0a96-46c7-b1b5-e3edda81accd",
   "metadata": {},
   "outputs": [],
   "source": [
    "# Get the number of individuals\n",
    "\n",
    "# Affenberg\n",
    "print(paste0(\"Affenberg year 1: \",length(unique(data[data$Aviary==\"Affenberg\"&!(is.na(data$MinLat1)),]$Individual))))\n",
    "\n",
    "# Care center\n",
    "print(paste0(\"Care center year 1: \",length(unique(data[data$Aviary==\"CareCenter\"&!(is.na(data$MinLat1)),]$Individual))))\n",
    "\n",
    "# CASCB\n",
    "print(paste0(\"CASCB year 1: \",length(unique(data[data$Aviary==\"CASCB\"&!(is.na(data$MinLat1)),]$Individual))))\n",
    "\n",
    "\n",
    "# Affenberg\n",
    "print(paste0(\"Affenberg year 2: \",length(unique(data[data$Aviary==\"Affenberg\"&!(is.na(data$MinLat2)),]$Individual))))\n",
    "\n",
    "# Care center\n",
    "print(paste0(\"Care center year 2: \",length(unique(data[data$Aviary==\"CareCenter\"&!(is.na(data$MinLat2)),]$Individual))))\n",
    "\n",
    "# CASCB\n",
    "print(paste0(\"CASCB year 2: \",length(unique(data[data$Aviary==\"CASCB\"&!(is.na(data$MinLat2)),]$Individual))))"
   ]
  },
  {
   "cell_type": "code",
   "execution_count": null,
   "id": "565c95cd-634c-436c-b198-3bd661bf83bf",
   "metadata": {},
   "outputs": [],
   "source": [
    "#----------#\n",
    "#- Year 1 -#\n",
    "#----------#\n",
    "\n",
    "# Check model assumptions\n",
    "# Test homogeneity of variance and normality\n",
    "Model_groups<-lm(MinLat1~Aviary,data=data)\n",
    "options(repr.plot.width = 10, repr.plot.height = 10);par(mfrow=c(2,2))\n",
    "\n",
    "plot(Model_groups)"
   ]
  },
  {
   "cell_type": "code",
   "execution_count": null,
   "id": "ab69980a-62cb-42ec-bd3d-a1714841abad",
   "metadata": {},
   "outputs": [],
   "source": [
    "# Test differences between groups\n",
    "data$Aviary2<-as.factor(data$Aviary)\n",
    "Model_groups<-lm(MinLat1~Aviary2,data=data)\n",
    "\n",
    "cat(\"\\n------------------------- Anova to get p-value -------------------------\\n\")\n",
    "anova(Model_groups)\n",
    "cat(\"\\n------------------------- Post-hoc Tukey test --------------------------\\n\")\n",
    "summary(glht(Model_groups,linfct=mcp(Aviary2=\"Tukey\")))\n",
    "cat(\"\\n---------------------------- Date and time -----------------------------\\n\")\n",
    "print(Sys.time())"
   ]
  },
  {
   "cell_type": "code",
   "execution_count": null,
   "id": "748db29b-373e-426f-bca5-04fafd1f3095",
   "metadata": {},
   "outputs": [],
   "source": [
    "# Get the total number of data points\n",
    "nrow(data[!(is.na(data$MinLat1)),])"
   ]
  },
  {
   "cell_type": "code",
   "execution_count": null,
   "id": "2371b338-2d84-47e9-a8bb-55e66d7e0539",
   "metadata": {},
   "outputs": [],
   "source": []
  },
  {
   "cell_type": "code",
   "execution_count": null,
   "id": "fce778dd-b14f-47da-883a-8f09c39a4eda",
   "metadata": {},
   "outputs": [],
   "source": [
    "#----------#\n",
    "#- Year 2 -#\n",
    "#----------#\n",
    "\n",
    "# Check model assumptions\n",
    "# Test homogeneity of variance and normality\n",
    "Model_groups<-lm(MinLat2~Aviary,data=data)\n",
    "options(repr.plot.width = 10, repr.plot.height = 10);par(mfrow=c(2,2))\n",
    "\n",
    "plot(Model_groups)"
   ]
  },
  {
   "cell_type": "code",
   "execution_count": null,
   "id": "be048f4a-4ea3-40cb-8833-7870e9bd731d",
   "metadata": {},
   "outputs": [],
   "source": [
    "# Test differences between groups\n",
    "data$Aviary2<-as.factor(data$Aviary)\n",
    "Model_groups<-lm(MinLat2~Aviary2,data=data)\n",
    "\n",
    "cat(\"\\n------------------------- Anova to get p-value -------------------------\\n\")\n",
    "anova(Model_groups)\n",
    "cat(\"\\n------------------------- Post-hoc Tukey test --------------------------\\n\")\n",
    "summary(glht(Model_groups,linfct=mcp(Aviary2=\"Tukey\")))\n",
    "cat(\"\\n---------------------------- Date and time -----------------------------\\n\")\n",
    "print(Sys.time())"
   ]
  },
  {
   "cell_type": "code",
   "execution_count": null,
   "id": "4e9ccd42-3e82-410e-bcc2-8c4170051c68",
   "metadata": {},
   "outputs": [],
   "source": [
    "# Get the total number of data points\n",
    "nrow(data[!(is.na(data$MinLat2)),])"
   ]
  },
  {
   "cell_type": "code",
   "execution_count": null,
   "id": "4c36ffd3-18d3-45fd-83dc-fd6e3a39975d",
   "metadata": {},
   "outputs": [],
   "source": []
  },
  {
   "cell_type": "code",
   "execution_count": null,
   "id": "d38401b9-c318-43e3-a0fb-3d239c5b56b2",
   "metadata": {},
   "outputs": [],
   "source": [
    "#----------#\n",
    "#- Year 1 -#\n",
    "#----------#\n",
    "\n",
    "# Check model assumptions\n",
    "# Test homogeneity of variance and normality\n",
    "Model_groups<-lm(DOY1~Aviary,data=data)\n",
    "options(repr.plot.width = 10, repr.plot.height = 10);par(mfrow=c(2,2))\n",
    "\n",
    "plot(Model_groups)"
   ]
  },
  {
   "cell_type": "code",
   "execution_count": null,
   "id": "65b07223-e6a0-498c-8870-a707efc5d5c3",
   "metadata": {},
   "outputs": [],
   "source": [
    "# Test differences between groups\n",
    "data$Aviary2<-as.factor(data$Aviary)\n",
    "Model_groups<-lm(DOY1~Aviary2,data=data)\n",
    "\n",
    "cat(\"\\n------------------------- Anova to get p-value -------------------------\\n\")\n",
    "anova(Model_groups)\n",
    "cat(\"\\n------------------------- Post-hoc Tukey test --------------------------\\n\")\n",
    "summary(glht(Model_groups,linfct=mcp(Aviary2=\"Tukey\")))\n",
    "cat(\"\\n---------------------------- Date and time -----------------------------\\n\")\n",
    "print(Sys.time())"
   ]
  },
  {
   "cell_type": "code",
   "execution_count": null,
   "id": "06c011da-eaaa-4016-893e-6c14bfa14544",
   "metadata": {},
   "outputs": [],
   "source": [
    "# Get the total number of data points\n",
    "nrow(data[!(is.na(data$DOY1)),])"
   ]
  },
  {
   "cell_type": "code",
   "execution_count": null,
   "id": "bfa1e321-2fc4-4440-93a0-95f162173c1a",
   "metadata": {},
   "outputs": [],
   "source": []
  },
  {
   "cell_type": "code",
   "execution_count": null,
   "id": "aa3a148c-16ac-4eac-b306-d88ddf690970",
   "metadata": {},
   "outputs": [],
   "source": [
    "#----------#\n",
    "#- Year 2 -#\n",
    "#----------#\n",
    "\n",
    "# Check model assumptions\n",
    "# Test homogeneity of variance and normality\n",
    "Model_groups<-lm(DOY2~Aviary,data=data)\n",
    "options(repr.plot.width = 10, repr.plot.height = 10);par(mfrow=c(2,2))\n",
    "\n",
    "plot(Model_groups)"
   ]
  },
  {
   "cell_type": "code",
   "execution_count": null,
   "id": "68e8f3c3-111e-4a77-aa62-211754377ad9",
   "metadata": {},
   "outputs": [],
   "source": [
    "# Test differences between groups\n",
    "data$Aviary2<-as.factor(data$Aviary)\n",
    "Model_groups<-lm(DOY2~Aviary2,data=data)\n",
    "\n",
    "cat(\"\\n------------------------- Anova to get p-value -------------------------\\n\")\n",
    "anova(Model_groups)\n",
    "cat(\"\\n------------------------- Post-hoc Tukey test --------------------------\\n\")\n",
    "summary(glht(Model_groups,linfct=mcp(Aviary2=\"Tukey\")))\n",
    "cat(\"\\n---------------------------- Date and time -----------------------------\\n\")\n",
    "print(Sys.time())"
   ]
  },
  {
   "cell_type": "code",
   "execution_count": null,
   "id": "a025283f-1f38-4824-a63c-7845a1beb468",
   "metadata": {},
   "outputs": [],
   "source": [
    "# Get the total number of data points\n",
    "nrow(data[!(is.na(data$DOY2)),])"
   ]
  },
  {
   "cell_type": "code",
   "execution_count": null,
   "id": "3f520f5f-576f-4b51-82b3-99c1a952bbff",
   "metadata": {},
   "outputs": [],
   "source": []
  },
  {
   "cell_type": "markdown",
   "id": "79ad7829-91a3-419a-90e1-24274dbeec01",
   "metadata": {
    "tags": []
   },
   "source": [
    "### Survival"
   ]
  },
  {
   "cell_type": "code",
   "execution_count": null,
   "id": "abd37646-509b-4e6b-acf1-fcea6af62691",
   "metadata": {},
   "outputs": [],
   "source": [
    "# Load data\n",
    "data<-read.table(\"DATA/All_Survival.csv\",header=T,sep=\",\",na.strings=c(\"\",\"NA\"))\n",
    "data$timestamp<-as.POSIXct(data$timestamp)\n",
    "data$Death<-as.POSIXct(data$Death)\n",
    "\n",
    "# Allign the data\n",
    "data$timestamp2<-data$timestamp\n",
    "data[data$StartYear==2020,]$timestamp2<-data[data$StartYear==2020,]$timestamp-as.difftime(366,units=\"days\")\n",
    "\n",
    "data$Death2<-data$Death\n",
    "data[data$StartYear==2020,]$Death2<-data[data$StartYear==2020,]$Death-as.difftime(366,units=\"days\")\n",
    "\n",
    "# Calculate survival over time\n",
    "# Affenberg\n",
    "data_Aff<-data.frame(Day=seq(as.POSIXct(\"2019-07-01\"),as.POSIXct(\"2020-06-30\"),by=\"day\"),Aviary=\"Affenberg\",NumTot=length(unique(data[data$Aviary==\"Affenberg\",]$Individual)),NumSurv=NA,Survival=NA)\n",
    "data_h1<-aggregate(Death2~Individual,data[data$Aviary==\"Affenberg\",],first)\n",
    "data_h1$Day<-floor_date(data_h1$Death2,unit =\"days\")\n",
    "data_h1<-aggregate(Individual~Day,data_h1,length)\n",
    "data_Aff<-merge(data_Aff,data_h1,by=\"Day\",all.x=T)\n",
    "data_Aff[is.na(data_Aff$Individual),]$Individual<-0\n",
    "data_Aff$Mortality<-cumsum(data_Aff$Individual)\n",
    "data_Aff$NumSurv<-data_Aff$NumTot-data_Aff$Mortality\n",
    "data_Aff$Survival<-data_Aff$NumSurv/data_Aff$NumTot\n",
    "\n",
    "# Care center\n",
    "data_CC<-data.frame(Day=seq(as.POSIXct(\"2019-07-01\"),as.POSIXct(\"2020-06-30\"),by=\"day\"),Aviary=\"CareCenter\",NumTot=length(unique(data[data$Aviary==\"CareCenter\",]$Individual)),NumSurv=NA,Survival=NA)\n",
    "data_h1<-aggregate(Death2~Individual,data[data$Aviary==\"CareCenter\",],first)\n",
    "data_h1$Day<-floor_date(data_h1$Death2,unit =\"days\")\n",
    "data_h1<-aggregate(Individual~Day,data_h1,length)\n",
    "data_CC<-merge(data_CC,data_h1,by=\"Day\",all.x=T)\n",
    "data_CC[is.na(data_CC$Individual),]$Individual<-0\n",
    "data_CC$Mortality<-cumsum(data_CC$Individual)\n",
    "data_CC$NumSurv<-data_CC$NumTot-data_CC$Mortality\n",
    "data_CC$Survival<-data_CC$NumSurv/data_CC$NumTot\n",
    "\n",
    "# CASCB\n",
    "data_CASCB<-data.frame(Day=seq(as.POSIXct(\"2019-07-01\"),as.POSIXct(\"2020-06-30\"),by=\"day\"),Aviary=\"CASCB\",NumTot=length(unique(data[data$Aviary==\"CASCB\",]$Individual)),NumSurv=NA,Survival=NA)\n",
    "data_h1<-aggregate(Death2~Individual,data[data$Aviary==\"CASCB\",],first)\n",
    "data_h1$Day<-floor_date(data_h1$Death2,unit =\"days\")\n",
    "data_h1<-aggregate(Individual~Day,data_h1,length)\n",
    "data_CASCB<-merge(data_CASCB,data_h1,by=\"Day\",all.x=T)\n",
    "data_CASCB[is.na(data_CASCB$Individual),]$Individual<-0\n",
    "data_CASCB$Mortality<-cumsum(data_CASCB$Individual)\n",
    "data_CASCB$NumSurv<-data_CASCB$NumTot-data_CASCB$Mortality\n",
    "data_CASCB$Survival<-data_CASCB$NumSurv/data_CASCB$NumTot\n",
    "\n",
    "# Merge the data for the three studies\n",
    "data_survival<-rbind(data_Aff,data_CC,data_CASCB)\n",
    "\n",
    "# Set the surival to 0 on the days before the first release\n",
    "data_survival[data_survival$Aviary==\"Affenberg\"&data_survival$Day<as.POSIXct(\"2019-09-13\"),]$Survival<-NA\n",
    "data_survival[data_survival$Aviary==\"CareCenter\"&data_survival$Day<as.POSIXct(\"2019-08-11\"),]$Survival<-NA\n",
    "\n",
    "# Extract the number of surviving storks\n",
    "aggregate(cbind(NumSurv,NumTot)~Aviary,data_survival,tail,1)"
   ]
  },
  {
   "cell_type": "code",
   "execution_count": null,
   "id": "009e8765-5272-422d-a636-c516b41e8de8",
   "metadata": {},
   "outputs": [],
   "source": []
  },
  {
   "cell_type": "markdown",
   "id": "17ccb7af-add7-4f5f-9e20-1a9bc215922c",
   "metadata": {},
   "source": [
    "### # days in segment"
   ]
  },
  {
   "cell_type": "code",
   "execution_count": null,
   "id": "1c6a2592-528b-4eec-83d4-ca1a1bc68868",
   "metadata": {},
   "outputs": [],
   "source": [
    "# Load data\n",
    "data<-read.csv(\"DATA/All_DaysInSegment.csv\",header=T,sep=\",\",na.strings=c(\"\",\"NA\"))"
   ]
  },
  {
   "cell_type": "code",
   "execution_count": null,
   "id": "0b2be08b-29ba-4ec0-82d8-0cd6e25a200f",
   "metadata": {},
   "outputs": [],
   "source": [
    "# Get the total number of data points\n",
    "nrow(data)"
   ]
  },
  {
   "cell_type": "code",
   "execution_count": null,
   "id": "f78928b5-663f-46c7-9808-a78cab6e3764",
   "metadata": {},
   "outputs": [],
   "source": [
    "# Get the number of individuals per group\n",
    "aggregate(tag.local.identifier~Aviary,data,length)"
   ]
  },
  {
   "cell_type": "code",
   "execution_count": null,
   "id": "2a708933-7d53-40ab-8710-f8436e784569",
   "metadata": {},
   "outputs": [],
   "source": [
    "# Calculate the maximum, minimum and median\n",
    "print(paste0(\"CASCB - max: \",round(max(data[data$Aviary==\"CASCB\",]$Days),digits=1)))\n",
    "print(paste0(\"CASCB - min: \",round(min(data[data$Aviary==\"CASCB\",]$Days),digits=1)))\n",
    "print(paste0(\"CASCB - median: \",round(median(data[data$Aviary==\"CASCB\",]$Days),digits=1)))\n",
    "\n",
    "print(paste0(\"Care center - max: \",round(max(data[data$Aviary==\"CareCenter\",]$Days),digits=1)))\n",
    "print(paste0(\"Care center - min: \",round(min(data[data$Aviary==\"CareCenter\",]$Days),digits=1)))\n",
    "print(paste0(\"Care center - median: \",round(median(data[data$Aviary==\"CareCenter\",]$Days),digits=1)))\n",
    "\n",
    "print(paste0(\"Affenberg - max: \",round(max(data[data$Aviary==\"Affenberg\",]$Days),digits=1)))\n",
    "print(paste0(\"Affenberg - min: \",round(min(data[data$Aviary==\"Affenberg\",]$Days),digits=1)))\n",
    "print(paste0(\"Affenberg - median: \",round(median(data[data$Aviary==\"Affenberg\",]$Days),digits=1)))"
   ]
  },
  {
   "cell_type": "code",
   "execution_count": null,
   "id": "d58d4995-b66e-4cb8-b1e0-cbb78e3a5281",
   "metadata": {},
   "outputs": [],
   "source": [
    "# Test differences between groups\n",
    "kruskal.test(Days~Aviary,data = data)"
   ]
  },
  {
   "cell_type": "code",
   "execution_count": null,
   "id": "ac2ad2fd-52b6-4f88-89c5-d1f01f552b7d",
   "metadata": {},
   "outputs": [],
   "source": [
    "# Test pairwise differences\n",
    "pairwise.wilcox.test(data$Days,data$Aviary,p.adjust.method = \"BH\")"
   ]
  },
  {
   "cell_type": "code",
   "execution_count": null,
   "id": "49fa278d-a9f2-4d8d-b602-c7440b90a8b2",
   "metadata": {},
   "outputs": [],
   "source": []
  },
  {
   "cell_type": "markdown",
   "id": "89e5e81d-420d-4216-8cb7-0dd555031fd5",
   "metadata": {},
   "source": [
    "### # stopover days in segment"
   ]
  },
  {
   "cell_type": "code",
   "execution_count": null,
   "id": "5f166eb9-cfe6-4359-8c23-39f216a428a5",
   "metadata": {},
   "outputs": [],
   "source": [
    "# Load data\n",
    "data<-read.csv(\"DATA/All_DailyDistance.csv\",header=T,sep=\",\",na.strings=c(\"\",\"NA\"))\n",
    "\n",
    "# Convert timestamps\n",
    "data$Day2<-as.POSIXct(data$Day)\n",
    "\n",
    "# Calculate the number of stopover days\n",
    "df <- data.frame(matrix(ncol = 4, nrow = 0))\n",
    "colnames(df)=c(\"Aviary\",\"Individual\",\"tag.local.identifier\",\"NoStopoverDays\")\n",
    "\n",
    "count<-0\n",
    "for(i in unique(data$Individual)){\n",
    "    count<-count+1\n",
    "    data2<-data[data$Individual==i,]\n",
    "    \n",
    "    df[count,\"Aviary\"]<-unique(data2$Aviary)\n",
    "    df[count,\"Individual\"]<-unique(data2$Individual)\n",
    "    df[count,\"tag.local.identifier\"]<-unique(data2$tag.local.identifier)\n",
    "    \n",
    "    MinDay<-min(data2$Day2)\n",
    "    MaxDay<-max(data2$Day2)\n",
    "    SeQuence<-seq(MinDay,MaxDay,by=\"days\")\n",
    "    NoStopoverDays<-length(SeQuence[!(SeQuence %in% data2$Day2)])\n",
    "    df[count,\"NoStopoverDays\"]<-NoStopoverDays\n",
    "}"
   ]
  },
  {
   "cell_type": "code",
   "execution_count": null,
   "id": "7e093214-4218-4f3f-86fd-2446ac1ae1f1",
   "metadata": {},
   "outputs": [],
   "source": [
    "# Get the total number of data points\n",
    "nrow(df)"
   ]
  },
  {
   "cell_type": "code",
   "execution_count": null,
   "id": "a14bca7a-68a8-48d1-8415-11824c31d460",
   "metadata": {},
   "outputs": [],
   "source": [
    "# Test differences between groups\n",
    "kruskal.test(NoStopoverDays~Aviary,data = df)"
   ]
  },
  {
   "cell_type": "code",
   "execution_count": null,
   "id": "effbc869-bbb7-43dd-876f-35ced591628d",
   "metadata": {},
   "outputs": [],
   "source": [
    "# Test pairwise differences\n",
    "pairwise.wilcox.test(df$NoStopoverDays,df$Aviary,p.adjust.method = \"BH\")"
   ]
  },
  {
   "cell_type": "code",
   "execution_count": null,
   "id": "2d3e7e0c-f437-46be-b0aa-7426f2b5daf4",
   "metadata": {},
   "outputs": [],
   "source": []
  },
  {
   "cell_type": "markdown",
   "id": "704b5298-36c4-4598-8ab3-3b61ce3a097b",
   "metadata": {},
   "source": [
    "### Route straightness"
   ]
  },
  {
   "cell_type": "code",
   "execution_count": null,
   "id": "35a5794e-bea8-48e0-a072-36a47777c095",
   "metadata": {},
   "outputs": [],
   "source": [
    "# Load data\n",
    "data<-read.csv(\"DATA/All_EfficiencySegment.csv\",header=T,sep=\",\",na.strings=c(\"\",\"NA\"))"
   ]
  },
  {
   "cell_type": "code",
   "execution_count": null,
   "id": "d1f6166f-e181-402e-8b3f-3fe640f27c5b",
   "metadata": {},
   "outputs": [],
   "source": [
    "# Get the total number of data points\n",
    "nrow(data)"
   ]
  },
  {
   "cell_type": "code",
   "execution_count": null,
   "id": "7ade58c3-797a-4dc4-98b2-ce60a2c7acc6",
   "metadata": {},
   "outputs": [],
   "source": [
    "# Check model assumptions\n",
    "# Test homogeneity of variance and normality\n",
    "Model_groups<-lm(Straightness_Segm~Aviary,data=data)\n",
    "par(mfrow=c(2,2))\n",
    "\n",
    "plot(Model_groups)"
   ]
  },
  {
   "cell_type": "code",
   "execution_count": null,
   "id": "124fa55d-5e96-482b-8024-9151bd90d004",
   "metadata": {},
   "outputs": [],
   "source": [
    "# That looks fine"
   ]
  },
  {
   "cell_type": "code",
   "execution_count": null,
   "id": "94bddafa-4a2c-41b0-9752-9356909cd096",
   "metadata": {},
   "outputs": [],
   "source": [
    "# Test differences between groups\n",
    "data$Aviary2<-as.factor(data$Aviary)\n",
    "Model_groups<-lm(Straightness_Segm~Aviary2,data=data)\n",
    "\n",
    "cat(\"\\n--------------------------- Summary of model ---------------------------\\n\")\n",
    "summary(Model_groups)\n",
    "cat(\"\\n------------------------- Anova to get p-value -------------------------\\n\")\n",
    "anova(Model_groups)\n",
    "cat(\"\\n------------------------- Post-hoc Tukey test --------------------------\\n\")\n",
    "summary(glht(Model_groups,linfct=mcp(Aviary2=\"Tukey\")))\n",
    "cat(\"\\n---------------------------- Date and time -----------------------------\\n\")\n",
    "print(Sys.time())"
   ]
  },
  {
   "cell_type": "code",
   "execution_count": null,
   "id": "76bad65f-272d-4486-bc02-052814998892",
   "metadata": {},
   "outputs": [],
   "source": []
  },
  {
   "cell_type": "markdown",
   "id": "1c21e2c9-6d59-4024-aa12-d1c2c2367eb2",
   "metadata": {},
   "source": [
    "### Day length"
   ]
  },
  {
   "cell_type": "code",
   "execution_count": null,
   "id": "2cf24299-a7dd-40ea-b992-75b19355534d",
   "metadata": {},
   "outputs": [],
   "source": [
    "# Load data\n",
    "data<-read.csv(\"DATA/All_DailyFlightTime.csv\",header=T,sep=\",\",na.strings=c(\"\",\"NA\"))"
   ]
  },
  {
   "cell_type": "code",
   "execution_count": null,
   "id": "1a88ca64-4623-4103-9c25-8b7f4822b49d",
   "metadata": {},
   "outputs": [],
   "source": [
    "# Get the total number of data points\n",
    "nrow(data)"
   ]
  },
  {
   "cell_type": "code",
   "execution_count": null,
   "id": "3551048b-5b3b-4919-b829-8acaa9e6e7b0",
   "metadata": {},
   "outputs": [],
   "source": [
    "# Check model assumptions\n",
    "# Test homogeneity of variance and normality\n",
    "Model_groups<-lmer(DayLength~Aviary+(1|Individual),data=data)\n",
    "par(mfrow=c(2,2))\n",
    "\n",
    "scatter.smooth(fitted(Model_groups),resid(Model_groups));title(\"Tukey-Anscombe Plot\")\n",
    "\n",
    "qqnorm(resid(Model_groups),main=\"normal QQ-plot,residuals\");qqline(resid(Model_groups))\n",
    "\n",
    "scatter.smooth(fitted(Model_groups),sqrt(abs(resid(Model_groups))))\n",
    "\n",
    "qqnorm(ranef(Model_groups)$Individual[,1],main=\"normal QQ-plot, random effects\");qqline(ranef(Model_groups)$Individual[,1])"
   ]
  },
  {
   "cell_type": "code",
   "execution_count": null,
   "id": "9d820646-bcd1-4253-9fc0-6f2dc71688a0",
   "metadata": {},
   "outputs": [],
   "source": [
    "# This doesn't look too bad"
   ]
  },
  {
   "cell_type": "code",
   "execution_count": null,
   "id": "e63916bf-9b98-401f-86b3-9d51fa207966",
   "metadata": {},
   "outputs": [],
   "source": [
    "# Test for differences between the groups\n",
    "Model_groups<-lmer(DayLength~Aviary+(1|Individual),data=data)\n",
    "\n",
    "cat(\"\\n------------------------- Anova to get p-value -------------------------\\n\")\n",
    "anova(Model_groups,ddf=\"Kenward-Roger\")\n",
    "cat(\"\\n------------------------- Post-hoc Tukey test --------------------------\\n\")\n",
    "summary(glht(Model_groups,linfct=mcp(Aviary=\"Tukey\")))\n",
    "cat(\"\\n---------------------------- Date and time -----------------------------\\n\")\n",
    "print(Sys.time())"
   ]
  },
  {
   "cell_type": "code",
   "execution_count": null,
   "id": "727df041-323e-4040-90d3-ccee74141c7a",
   "metadata": {},
   "outputs": [],
   "source": []
  },
  {
   "cell_type": "markdown",
   "id": "9376095f-6266-4ca7-a191-f6f58c7be861",
   "metadata": {},
   "source": [
    "### Daily flight time"
   ]
  },
  {
   "cell_type": "code",
   "execution_count": null,
   "id": "80825aaa-257f-4a0d-997a-ca602e501892",
   "metadata": {},
   "outputs": [],
   "source": [
    "# Load data\n",
    "data<-read.csv(\"DATA/All_DailyFlightTime.csv\",header=T,sep=\",\",na.strings=c(\"\",\"NA\"))"
   ]
  },
  {
   "cell_type": "code",
   "execution_count": null,
   "id": "812dacb9-b0c9-4b29-9baa-b593890ce00d",
   "metadata": {},
   "outputs": [],
   "source": [
    "# Get the total number of data points\n",
    "nrow(data)"
   ]
  },
  {
   "cell_type": "code",
   "execution_count": null,
   "id": "3caade44-10ef-485a-9978-37758e841213",
   "metadata": {},
   "outputs": [],
   "source": [
    "# Check model assumptions\n",
    "# Test homogeneity of variance and normality\n",
    "Model_groups<-lmer(DailyFlightTime~Aviary+(1|Individual),data=data)\n",
    "par(mfrow=c(2,2))\n",
    "\n",
    "scatter.smooth(fitted(Model_groups),resid(Model_groups));title(\"Tukey-Anscombe Plot\")\n",
    "\n",
    "qqnorm(resid(Model_groups),main=\"normal QQ-plot,residuals\");qqline(resid(Model_groups))\n",
    "\n",
    "scatter.smooth(fitted(Model_groups),sqrt(abs(resid(Model_groups))))\n",
    "\n",
    "qqnorm(ranef(Model_groups)$Individual[,1],main=\"normal QQ-plot, random effects\");qqline(ranef(Model_groups)$Individual[,1])"
   ]
  },
  {
   "cell_type": "code",
   "execution_count": null,
   "id": "af6753f2-6e50-4117-b5aa-6ad8ebf55ec9",
   "metadata": {},
   "outputs": [],
   "source": [
    "# This looks ok-ish\n",
    "# Not sure what to do with the singular-warning"
   ]
  },
  {
   "cell_type": "code",
   "execution_count": null,
   "id": "4496f661-a63c-4f57-b21d-474a7f14d4de",
   "metadata": {},
   "outputs": [],
   "source": [
    "# Test for differences between the groups\n",
    "Model_groups<-lmer(DailyFlightTime~Aviary+(1|Individual),data=data)\n",
    "\n",
    "cat(\"\\n------------------------- Anova to get p-value -------------------------\\n\")\n",
    "anova(Model_groups,ddf=\"Kenward-Roger\")\n",
    "#cat(\"\\n------------------------- Post-hoc Tukey test --------------------------\\n\")\n",
    "#summary(glht(Model_groups,linfct=mcp(Aviary=\"Tukey\")))\n",
    "cat(\"\\n---------------------------- Date and time -----------------------------\\n\")\n",
    "print(Sys.time())"
   ]
  },
  {
   "cell_type": "code",
   "execution_count": null,
   "id": "3efa3fc7-827a-4787-83c4-addf2eba7c94",
   "metadata": {},
   "outputs": [],
   "source": []
  },
  {
   "cell_type": "markdown",
   "id": "f8c2ffaa-8ae2-4600-8215-4d79cd316794",
   "metadata": {},
   "source": [
    "### Daily distance"
   ]
  },
  {
   "cell_type": "code",
   "execution_count": null,
   "id": "48789529-3afc-487f-a053-7caa5c368e4e",
   "metadata": {},
   "outputs": [],
   "source": [
    "# Load data\n",
    "data<-read.csv(\"DATA/All_DailyDistance.csv\",header=T,sep=\",\",na.strings=c(\"\",\"NA\"))"
   ]
  },
  {
   "cell_type": "code",
   "execution_count": null,
   "id": "261b4730-3063-4067-9cb1-7a947c2f4a64",
   "metadata": {},
   "outputs": [],
   "source": [
    "# Get the total number of data points\n",
    "nrow(data)"
   ]
  },
  {
   "cell_type": "code",
   "execution_count": null,
   "id": "cb7a9c45-a286-4b5e-bfa5-6255c419711a",
   "metadata": {},
   "outputs": [],
   "source": [
    "# Calculate the mean and standard deviation\n",
    "MeanSD<-aggregate(Distance~Aviary,data,function(x) c(mean = mean(x), sd = sd(x)))\n",
    "MeanSD$Mean<-MeanSD$Distance[,1]\n",
    "MeanSD$SD<-MeanSD$Distance[,2]\n",
    "MeanSD$Distance<-NULL\n",
    "print(MeanSD)"
   ]
  },
  {
   "cell_type": "code",
   "execution_count": null,
   "id": "e97645bd-7dba-45a2-8d0f-2cb732b56d54",
   "metadata": {},
   "outputs": [],
   "source": [
    "# Check model assumptions\n",
    "# Test homogeneity of variance and normality\n",
    "Model_groups<-lmer(Distance~Aviary+(1|Individual),data=data)\n",
    "par(mfrow=c(2,2));options(repr.plot.width = 7.5, repr.plot.height = 7.5)\n",
    "\n",
    "scatter.smooth(fitted(Model_groups),resid(Model_groups));title(\"Tukey-Anscombe Plot\")\n",
    "\n",
    "qqnorm(resid(Model_groups),main=\"normal QQ-plot,residuals\");qqline(resid(Model_groups))\n",
    "\n",
    "scatter.smooth(fitted(Model_groups),sqrt(abs(resid(Model_groups))))\n",
    "\n",
    "qqnorm(ranef(Model_groups)$Individual[,1],main=\"normal QQ-plot, random effects\");qqline(ranef(Model_groups)$Individual[,1])"
   ]
  },
  {
   "cell_type": "code",
   "execution_count": null,
   "id": "16c57764-86bc-47b1-acad-9201393d4300",
   "metadata": {},
   "outputs": [],
   "source": [
    "# Not sure what to do with the singular-warning\n",
    "# Try log-transforming the data\n",
    "data$Distance_sqrt<-sqrt(data$Distance)\n",
    "data$Distance_log<-log(data$Distance)"
   ]
  },
  {
   "cell_type": "code",
   "execution_count": null,
   "id": "8f914f10-cc4d-4d7b-bdff-337a2ea8e16f",
   "metadata": {},
   "outputs": [],
   "source": [
    "# Test homogeneity of variance and normality\n",
    "Model_groups<-lmer(Distance_log~Aviary+(1|Individual),data=data)\n",
    "par(mfrow=c(2,2));options(repr.plot.width = 7.5, repr.plot.height = 7.5)\n",
    "\n",
    "scatter.smooth(fitted(Model_groups),resid(Model_groups));title(\"Tukey-Anscombe Plot\")\n",
    "\n",
    "qqnorm(resid(Model_groups),main=\"normal QQ-plot,residuals\");qqline(resid(Model_groups))\n",
    "\n",
    "scatter.smooth(fitted(Model_groups),sqrt(abs(resid(Model_groups))))\n",
    "\n",
    "qqnorm(ranef(Model_groups)$Individual[,1],main=\"normal QQ-plot, random effects\");qqline(ranef(Model_groups)$Individual[,1])"
   ]
  },
  {
   "cell_type": "code",
   "execution_count": null,
   "id": "54d4a0db-28d5-4863-b169-e08a74309543",
   "metadata": {},
   "outputs": [],
   "source": [
    "# Test homogeneity of variance and normality\n",
    "Model_groups<-lmer(Distance_sqrt~Aviary+(1|Individual),data=data)\n",
    "par(mfrow=c(2,2));options(repr.plot.width = 7.5, repr.plot.height = 7.5)\n",
    "\n",
    "scatter.smooth(fitted(Model_groups),resid(Model_groups));title(\"Tukey-Anscombe Plot\")\n",
    "\n",
    "qqnorm(resid(Model_groups),main=\"normal QQ-plot,residuals\");qqline(resid(Model_groups))\n",
    "\n",
    "scatter.smooth(fitted(Model_groups),sqrt(abs(resid(Model_groups))))\n",
    "\n",
    "qqnorm(ranef(Model_groups)$Individual[,1],main=\"normal QQ-plot, random effects\");qqline(ranef(Model_groups)$Individual[,1])"
   ]
  },
  {
   "cell_type": "code",
   "execution_count": null,
   "id": "57e7eb46-2c12-4581-baae-d65883ecf1b2",
   "metadata": {},
   "outputs": [],
   "source": [
    "# The transformations don't really help"
   ]
  },
  {
   "cell_type": "code",
   "execution_count": null,
   "id": "fd1aea00-39c7-46fe-a45f-56a7b60403c4",
   "metadata": {},
   "outputs": [],
   "source": [
    "# Test for differences between the groups\n",
    "Model_groups<-lmer(Distance~Aviary+(1|Individual),data=data)\n",
    "\n",
    "cat(\"\\n------------------------- Anova to get p-value -------------------------\\n\")\n",
    "anova(Model_groups,ddf=\"Kenward-Roger\")\n",
    "cat(\"\\n------------------------- Post-hoc Tukey test --------------------------\\n\")\n",
    "summary(glht(Model_groups,linfct=mcp(Aviary=\"Tukey\")))\n",
    "cat(\"\\n---------------------------- Date and time -----------------------------\\n\")\n",
    "print(Sys.time())"
   ]
  },
  {
   "cell_type": "code",
   "execution_count": null,
   "id": "a098a63a-2ff6-4e4d-a5aa-23b0fa03b745",
   "metadata": {},
   "outputs": [],
   "source": []
  },
  {
   "cell_type": "markdown",
   "id": "042cca2f-8fdd-448d-b8d1-49df3504af73",
   "metadata": {},
   "source": [
    "### Daily cross-country speed"
   ]
  },
  {
   "cell_type": "code",
   "execution_count": null,
   "id": "0fbe4556-de00-4147-a4e4-5944fedab1c9",
   "metadata": {},
   "outputs": [],
   "source": [
    "# Load data\n",
    "data<-read.csv(\"DATA/All_CrossCountrySpeedDay.csv\",header=T,sep=\",\",na.strings=c(\"\",\"NA\"))\n",
    "\n",
    "# Calculate the cross country speed in m/s\n",
    "data$CCS_Straight<-1000*data$StraightDist/data$DiffTime"
   ]
  },
  {
   "cell_type": "code",
   "execution_count": null,
   "id": "b9c711c5-eb72-4a8d-bf01-f988540b6018",
   "metadata": {},
   "outputs": [],
   "source": [
    "# Get the total number of data points\n",
    "nrow(data)"
   ]
  },
  {
   "cell_type": "code",
   "execution_count": null,
   "id": "96d70b21-6ff6-4f21-a13e-4ea6e9c9f373",
   "metadata": {},
   "outputs": [],
   "source": [
    "# Calculate the mean and standard deviation\n",
    "MeanSD<-aggregate(CCS_Straight~Aviary,data,function(x) c(mean = mean(x), sd = sd(x)))\n",
    "MeanSD$Mean<-MeanSD$CCS_Straight[,1]\n",
    "MeanSD$SD<-MeanSD$CCS_Straight[,2]\n",
    "MeanSD$CCS_Straight<-NULL\n",
    "print(MeanSD)"
   ]
  },
  {
   "cell_type": "code",
   "execution_count": null,
   "id": "218b32c4-0f91-412e-a1e4-bc1d97291ade",
   "metadata": {},
   "outputs": [],
   "source": [
    "# Check model assumptions\n",
    "# Test homogeneity of variance and normality\n",
    "Model_groups<-lmer(CCS_Straight~Aviary+(1|Individual),data=data)\n",
    "par(mfrow=c(2,2));options(repr.plot.width = 7.5, repr.plot.height = 7.5)\n",
    "\n",
    "scatter.smooth(fitted(Model_groups),resid(Model_groups));title(\"Tukey-Anscombe Plot\")\n",
    "\n",
    "qqnorm(resid(Model_groups),main=\"normal QQ-plot,residuals\");qqline(resid(Model_groups))\n",
    "\n",
    "scatter.smooth(fitted(Model_groups),sqrt(abs(resid(Model_groups))))\n",
    "\n",
    "qqnorm(ranef(Model_groups)$Individual[,1],main=\"normal QQ-plot, random effects\");qqline(ranef(Model_groups)$Individual[,1])"
   ]
  },
  {
   "cell_type": "code",
   "execution_count": null,
   "id": "91f4595b-aa71-48fb-997c-821b9bb0f9e1",
   "metadata": {},
   "outputs": [],
   "source": [
    "# Not sure what to do with the singular-warning\n",
    "# Try transforming the data\n",
    "data$CCS_Straight_sqrt<-sqrt(data$CCS_Straight)\n",
    "data$CCS_Straight_log<-log(data$CCS_Straight)"
   ]
  },
  {
   "cell_type": "code",
   "execution_count": null,
   "id": "e08e3b5b-223a-4153-b9e3-6c2404d82446",
   "metadata": {},
   "outputs": [],
   "source": [
    "# Test homogeneity of variance and normality\n",
    "Model_groups<-lmer(CCS_Straight_log~Aviary+(1|Individual),data=data)\n",
    "par(mfrow=c(2,2))\n",
    "\n",
    "scatter.smooth(fitted(Model_groups),resid(Model_groups));title(\"Tukey-Anscombe Plot\")\n",
    "\n",
    "qqnorm(resid(Model_groups),main=\"normal QQ-plot,residuals\");qqline(resid(Model_groups))\n",
    "\n",
    "scatter.smooth(fitted(Model_groups),sqrt(abs(resid(Model_groups))))\n",
    "\n",
    "qqnorm(ranef(Model_groups)$Individual[,1],main=\"normal QQ-plot, random effects\");qqline(ranef(Model_groups)$Individual[,1])"
   ]
  },
  {
   "cell_type": "code",
   "execution_count": null,
   "id": "9d990d1a-d0c5-4a8b-a1f1-92df4940b1c1",
   "metadata": {},
   "outputs": [],
   "source": [
    "# Test homogeneity of variance and normality\n",
    "Model_groups<-lmer(CCS_Straight_sqrt~Aviary+(1|Individual),data=data)\n",
    "par(mfrow=c(2,2))\n",
    "\n",
    "scatter.smooth(fitted(Model_groups),resid(Model_groups));title(\"Tukey-Anscombe Plot\")\n",
    "\n",
    "qqnorm(resid(Model_groups),main=\"normal QQ-plot,residuals\");qqline(resid(Model_groups))\n",
    "\n",
    "scatter.smooth(fitted(Model_groups),sqrt(abs(resid(Model_groups))))\n",
    "\n",
    "qqnorm(ranef(Model_groups)$Individual[,1],main=\"normal QQ-plot, random effects\");qqline(ranef(Model_groups)$Individual[,1])"
   ]
  },
  {
   "cell_type": "code",
   "execution_count": null,
   "id": "d334901e-9ad6-4be4-8149-1b9a08127996",
   "metadata": {},
   "outputs": [],
   "source": [
    "# Continue with the non-transformed data"
   ]
  },
  {
   "cell_type": "code",
   "execution_count": null,
   "id": "83d1eb0b-a21f-4054-8105-99b2ee6adb12",
   "metadata": {},
   "outputs": [],
   "source": [
    "# Test for differences between the groups\n",
    "Model_groups<-lmer(CCS_Straight~Aviary+(1|Individual),data=data)\n",
    "\n",
    "cat(\"\\n------------------------- Anova to get p-value -------------------------\\n\")\n",
    "anova(Model_groups,ddf=\"Kenward-Roger\")\n",
    "cat(\"\\n------------------------- Post-hoc Tukey test --------------------------\\n\")\n",
    "summary(glht(Model_groups,linfct=mcp(Aviary=\"Tukey\")))\n",
    "cat(\"\\n---------------------------- Date and time -----------------------------\\n\")\n",
    "print(Sys.time())"
   ]
  },
  {
   "cell_type": "markdown",
   "id": "95d8b9a6-2136-427f-8e1b-31d8510c8c31",
   "metadata": {},
   "source": [
    "### Daily cross-country speed and wind"
   ]
  },
  {
   "cell_type": "code",
   "execution_count": null,
   "id": "f3f63385-da84-435d-9196-e7228da84524",
   "metadata": {},
   "outputs": [],
   "source": [
    "# Load data\n",
    "data<-read.csv(\"DATA/All_CrossCountrySpeedDay.csv\",header=T,sep=\",\",na.strings=c(\"\",\"NA\"))\n",
    "\n",
    "# Calculate the cross country speed in m/s\n",
    "data$CCS_Straight<-1000*data$StraightDist/data$DiffTime"
   ]
  },
  {
   "cell_type": "code",
   "execution_count": null,
   "id": "9615d2fd-ad96-4df1-97ff-47c68237c405",
   "metadata": {},
   "outputs": [],
   "source": [
    "# Check model assumptions\n",
    "# Test homogeneity of variance and normality\n",
    "Model_groups<-lmer(CCS_Straight~Aviary+WindSupport_PL+(1|Individual),data=data)\n",
    "par(mfrow=c(2,2));options(repr.plot.width = 7.5, repr.plot.height = 7.5)\n",
    "\n",
    "scatter.smooth(fitted(Model_groups),resid(Model_groups));title(\"Tukey-Anscombe Plot\")\n",
    "\n",
    "qqnorm(resid(Model_groups),main=\"normal QQ-plot,residuals\");qqline(resid(Model_groups))\n",
    "\n",
    "scatter.smooth(fitted(Model_groups),sqrt(abs(resid(Model_groups))))\n",
    "\n",
    "qqnorm(ranef(Model_groups)$Individual[,1],main=\"normal QQ-plot, random effects\");qqline(ranef(Model_groups)$Individual[,1])"
   ]
  },
  {
   "cell_type": "code",
   "execution_count": null,
   "id": "6eff9a7a-ddb0-4532-86fe-23cdf24da9e5",
   "metadata": {},
   "outputs": [],
   "source": [
    "# Not sure what to do with the singular-warning\n",
    "# Try transforming the data\n",
    "data$CCS_Straight_sqrt<-sqrt(data$CCS_Straight)\n",
    "data$CCS_Straight_log<-log(data$CCS_Straight)"
   ]
  },
  {
   "cell_type": "code",
   "execution_count": null,
   "id": "f82ece2e-2319-446a-8eff-bb83c2aef7da",
   "metadata": {},
   "outputs": [],
   "source": [
    "# Test homogeneity of variance and normality\n",
    "Model_groups<-lmer(CCS_Straight_log~Aviary+WindSupport_PL+(1|Individual),data=data)\n",
    "par(mfrow=c(2,2))\n",
    "\n",
    "scatter.smooth(fitted(Model_groups),resid(Model_groups));title(\"Tukey-Anscombe Plot\")\n",
    "\n",
    "qqnorm(resid(Model_groups),main=\"normal QQ-plot,residuals\");qqline(resid(Model_groups))\n",
    "\n",
    "scatter.smooth(fitted(Model_groups),sqrt(abs(resid(Model_groups))))\n",
    "\n",
    "qqnorm(ranef(Model_groups)$Individual[,1],main=\"normal QQ-plot, random effects\");qqline(ranef(Model_groups)$Individual[,1])"
   ]
  },
  {
   "cell_type": "code",
   "execution_count": null,
   "id": "db052df8-348d-486f-8141-ade7eb49c6e2",
   "metadata": {},
   "outputs": [],
   "source": [
    "# Test homogeneity of variance and normality\n",
    "Model_groups<-lmer(CCS_Straight_sqrt~Aviary+WindSupport_PL+(1|Individual),data=data)\n",
    "par(mfrow=c(2,2))\n",
    "\n",
    "scatter.smooth(fitted(Model_groups),resid(Model_groups));title(\"Tukey-Anscombe Plot\")\n",
    "\n",
    "qqnorm(resid(Model_groups),main=\"normal QQ-plot,residuals\");qqline(resid(Model_groups))\n",
    "\n",
    "scatter.smooth(fitted(Model_groups),sqrt(abs(resid(Model_groups))))\n",
    "\n",
    "qqnorm(ranef(Model_groups)$Individual[,1],main=\"normal QQ-plot, random effects\");qqline(ranef(Model_groups)$Individual[,1])"
   ]
  },
  {
   "cell_type": "code",
   "execution_count": null,
   "id": "687e8bf6-e7b3-4a2d-a61f-189b9a15604c",
   "metadata": {},
   "outputs": [],
   "source": [
    "# Continue with the non-transformed data"
   ]
  },
  {
   "cell_type": "code",
   "execution_count": null,
   "id": "9a1b8162-e2aa-4d9c-a377-25890401bea9",
   "metadata": {},
   "outputs": [],
   "source": [
    "# Test for differences between the groups\n",
    "Model_groups<-lmer(CCS_Straight~Aviary+WindSupport_PL+(1|Individual),data=data)\n",
    "\n",
    "cat(\"\\n------------------------- Anova to get p-value -------------------------\\n\")\n",
    "anova(Model_groups,ddf=\"Kenward-Roger\")\n",
    "cat(\"\\n------------------------- Post-hoc Tukey test --------------------------\\n\")\n",
    "summary(glht(Model_groups,linfct=mcp(Aviary=\"Tukey\")))\n",
    "cat(\"\\n--------------------------- Model selection ----------------------------\\n\")\n",
    "Model_groups_a<-lmer(CCS_Straight~Aviary+(1|Individual),data=data)\n",
    "Model_groups_w<-lmer(CCS_Straight~WindSupport_PL+(1|Individual),data=data)\n",
    "Model_groups_aw<-lmer(CCS_Straight~Aviary+WindSupport_PL+(1|Individual),data=data)\n",
    "anova(Model_groups_a,Model_groups_w,Model_groups_aw,ddf=\"Kenward-Roger\")\n",
    "cat(\"\\n---------------------------- Date and time -----------------------------\\n\")\n",
    "print(Sys.time())"
   ]
  },
  {
   "cell_type": "code",
   "execution_count": null,
   "id": "d139a6fd-66f3-4b8a-9ca8-206393239539",
   "metadata": {},
   "outputs": [],
   "source": []
  },
  {
   "cell_type": "markdown",
   "id": "74c36e78-71ac-4dbc-a256-cf168dc74b00",
   "metadata": {},
   "source": [
    "### Climbing rate"
   ]
  },
  {
   "cell_type": "code",
   "execution_count": null,
   "id": "6158493b-412e-4787-b4d6-d25c14d73886",
   "metadata": {},
   "outputs": [],
   "source": [
    "# Load data\n",
    "data<-read.csv(\"DATA/All_avgClimbingB.csv\",header=T,sep=\",\",na.strings=c(\"\",\"NA\"))"
   ]
  },
  {
   "cell_type": "code",
   "execution_count": null,
   "id": "26ac432a-f31a-463b-898a-67a066dbad51",
   "metadata": {},
   "outputs": [],
   "source": [
    "# Get the total number of data points\n",
    "nrow(data)"
   ]
  },
  {
   "cell_type": "code",
   "execution_count": null,
   "id": "7dde973f-a594-4ffd-9893-ac67ab656e8f",
   "metadata": {},
   "outputs": [],
   "source": [
    "# Check model assumptions\n",
    "# Test homogeneity of variance and normality\n",
    "Model_groups<-lmer(Mean_ClimbingRate~Aviary+(1|Individual),data=data)\n",
    "par(mfrow=c(2,2))\n",
    "\n",
    "scatter.smooth(fitted(Model_groups),resid(Model_groups));title(\"Tukey-Anscombe Plot\")\n",
    "\n",
    "qqnorm(resid(Model_groups),main=\"normal QQ-plot,residuals\");qqline(resid(Model_groups))\n",
    "\n",
    "scatter.smooth(fitted(Model_groups),sqrt(abs(resid(Model_groups))))\n",
    "\n",
    "qqnorm(ranef(Model_groups)$Individual[,1],main=\"normal QQ-plot, random effects\");qqline(ranef(Model_groups)$Individual[,1])"
   ]
  },
  {
   "cell_type": "code",
   "execution_count": null,
   "id": "c1936409-047b-4003-9db4-0a701bfec664",
   "metadata": {},
   "outputs": [],
   "source": [
    "# Try log-transforming the data\n",
    "data$ClimbingRate_sqrt<-sqrt(data$Mean_ClimbingRate)\n",
    "data$ClimbingRate_log<-log(data$Mean_ClimbingRate)"
   ]
  },
  {
   "cell_type": "code",
   "execution_count": null,
   "id": "3b8a530b-280a-49dc-846b-0e0c72a07238",
   "metadata": {},
   "outputs": [],
   "source": [
    "# Test homogeneity of variance and normality\n",
    "Model_groups<-lmer(ClimbingRate_sqrt~Aviary+(1|Individual),data=data)\n",
    "par(mfrow=c(2,2))\n",
    "\n",
    "scatter.smooth(fitted(Model_groups),resid(Model_groups));title(\"Tukey-Anscombe Plot\")\n",
    "\n",
    "qqnorm(resid(Model_groups),main=\"normal QQ-plot,residuals\");qqline(resid(Model_groups))\n",
    "\n",
    "scatter.smooth(fitted(Model_groups),sqrt(abs(resid(Model_groups))))\n",
    "\n",
    "qqnorm(ranef(Model_groups)$Individual[,1],main=\"normal QQ-plot, random effects\");qqline(ranef(Model_groups)$Individual[,1])"
   ]
  },
  {
   "cell_type": "code",
   "execution_count": null,
   "id": "0e693200-97c7-4e16-94fb-e9a7f3aec0c7",
   "metadata": {},
   "outputs": [],
   "source": [
    "# Test homogeneity of variance and normality\n",
    "Model_groups<-lmer(ClimbingRate_log~Aviary+(1|Individual),data=data)\n",
    "par(mfrow=c(2,2))\n",
    "\n",
    "scatter.smooth(fitted(Model_groups),resid(Model_groups));title(\"Tukey-Anscombe Plot\")\n",
    "\n",
    "qqnorm(resid(Model_groups),main=\"normal QQ-plot,residuals\");qqline(resid(Model_groups))\n",
    "\n",
    "scatter.smooth(fitted(Model_groups),sqrt(abs(resid(Model_groups))))\n",
    "\n",
    "qqnorm(ranef(Model_groups)$Individual[,1],main=\"normal QQ-plot, random effects\");qqline(ranef(Model_groups)$Individual[,1])"
   ]
  },
  {
   "cell_type": "code",
   "execution_count": null,
   "id": "189245aa-fcad-4351-b486-c4799607099f",
   "metadata": {},
   "outputs": [],
   "source": [
    "# The sqrt transformation seems better"
   ]
  },
  {
   "cell_type": "code",
   "execution_count": null,
   "id": "a4f827a3-174a-4ab9-8208-d8fbe035ba09",
   "metadata": {},
   "outputs": [],
   "source": [
    "# Test for differences between the groups\n",
    "Model_groups<-lmer(ClimbingRate_sqrt~Aviary+(1|Individual),data=data)\n",
    "\n",
    "cat(\"\\n------------------------- Anova to get p-value -------------------------\\n\")\n",
    "anova(Model_groups,ddf=\"Kenward-Roger\")\n",
    "cat(\"\\n------------------------- Post-hoc Tukey test --------------------------\\n\")\n",
    "summary(glht(Model_groups,linfct=mcp(Aviary=\"Tukey\")))\n",
    "cat(\"\\n---------------------------- Date and time -----------------------------\\n\")\n",
    "print(Sys.time())"
   ]
  },
  {
   "cell_type": "code",
   "execution_count": null,
   "id": "1b4b8168-35d9-4107-8a8f-9c1aa74df778",
   "metadata": {},
   "outputs": [],
   "source": []
  },
  {
   "cell_type": "markdown",
   "id": "cd8f1c53-6e78-46d1-b233-33e133749fdd",
   "metadata": {},
   "source": [
    "### Altitude leaving thermals"
   ]
  },
  {
   "cell_type": "code",
   "execution_count": null,
   "id": "c0cc4828-8737-4910-8812-3551250e4c55",
   "metadata": {},
   "outputs": [],
   "source": [
    "# Load data\n",
    "data<-read.csv(\"DATA/All_LastAltitude.csv\",header=T,sep=\",\",na.strings=c(\"\",\"NA\"))\n",
    "\n",
    "# Get the averages per burst\n",
    "data<-data.frame(data %>% group_by(tag.local.identifier,Aviary,BurstID,Burst_A,Day,Individual) %>% summarize(Altitude = mean(Last_Altitude)))"
   ]
  },
  {
   "cell_type": "code",
   "execution_count": null,
   "id": "ee05ab56-9050-45f9-8840-660b50dab7d8",
   "metadata": {},
   "outputs": [],
   "source": [
    "# Get the total number of data points\n",
    "nrow(data)"
   ]
  },
  {
   "cell_type": "code",
   "execution_count": null,
   "id": "8015b98d-3c1c-4481-9b31-f0422f5c23ac",
   "metadata": {},
   "outputs": [],
   "source": [
    "# Check model assumptions\n",
    "# Test homogeneity of variance and normality\n",
    "Model_groups<-lmer(Altitude~Aviary+(1|Individual),data=data)\n",
    "par(mfrow=c(2,2))\n",
    "\n",
    "scatter.smooth(fitted(Model_groups),resid(Model_groups));title(\"Tukey-Anscombe Plot\")\n",
    "\n",
    "qqnorm(resid(Model_groups),main=\"normal QQ-plot,residuals\");qqline(resid(Model_groups))\n",
    "\n",
    "scatter.smooth(fitted(Model_groups),sqrt(abs(resid(Model_groups))))\n",
    "\n",
    "qqnorm(ranef(Model_groups)$Individual[,1],main=\"normal QQ-plot, random effects\");qqline(ranef(Model_groups)$Individual[,1])"
   ]
  },
  {
   "cell_type": "code",
   "execution_count": null,
   "id": "f863176f-4854-4065-9676-b45c1415066d",
   "metadata": {},
   "outputs": [],
   "source": [
    "# Try log-transforming the data\n",
    "data$Altitude_log<-log(data$Altitude)"
   ]
  },
  {
   "cell_type": "code",
   "execution_count": null,
   "id": "8125f73b-3ad0-4bfe-8865-72a0b6ab1226",
   "metadata": {},
   "outputs": [],
   "source": [
    "# Test homogeneity of variance and normality\n",
    "Model_groups<-lmer(Altitude_log~Aviary+(1|Individual),data=data)\n",
    "par(mfrow=c(2,2))\n",
    "\n",
    "scatter.smooth(fitted(Model_groups),resid(Model_groups));title(\"Tukey-Anscombe Plot\")\n",
    "\n",
    "qqnorm(resid(Model_groups),main=\"normal QQ-plot,residuals\");qqline(resid(Model_groups))\n",
    "\n",
    "scatter.smooth(fitted(Model_groups),sqrt(abs(resid(Model_groups))))\n",
    "\n",
    "qqnorm(ranef(Model_groups)$Individual[,1],main=\"normal QQ-plot, random effects\");qqline(ranef(Model_groups)$Individual[,1])"
   ]
  },
  {
   "cell_type": "code",
   "execution_count": null,
   "id": "15bdfd93-e419-4514-af2c-0c8192bd4908",
   "metadata": {},
   "outputs": [],
   "source": [
    "# That doesn't really help\n",
    "# Try a quadratic transformation\n",
    "data$Altitude_sqrt<-sqrt(data$Altitude)"
   ]
  },
  {
   "cell_type": "code",
   "execution_count": null,
   "id": "b8cea628-f25e-4ad0-9e13-54d92d8f0769",
   "metadata": {},
   "outputs": [],
   "source": [
    "# Test homogeneity of variance and normality\n",
    "Model_groups<-lmer(Altitude_sqrt~Aviary+(1|Individual),data=data)\n",
    "par(mfrow=c(2,2))\n",
    "\n",
    "scatter.smooth(fitted(Model_groups),resid(Model_groups));title(\"Tukey-Anscombe Plot\")\n",
    "\n",
    "qqnorm(resid(Model_groups),main=\"normal QQ-plot,residuals\");qqline(resid(Model_groups))\n",
    "\n",
    "scatter.smooth(fitted(Model_groups),sqrt(abs(resid(Model_groups))))\n",
    "\n",
    "qqnorm(ranef(Model_groups)$Individual[,1],main=\"normal QQ-plot, random effects\");qqline(ranef(Model_groups)$Individual[,1])"
   ]
  },
  {
   "cell_type": "code",
   "execution_count": null,
   "id": "57642565-6a92-4bae-b004-70d639a16d51",
   "metadata": {},
   "outputs": [],
   "source": [
    "# That looks a bit better"
   ]
  },
  {
   "cell_type": "code",
   "execution_count": null,
   "id": "b950e39f-20e8-47ee-b20e-a9a8defa4ef0",
   "metadata": {},
   "outputs": [],
   "source": [
    "# Test for differences between the groups\n",
    "Model_groups<-lmer(Altitude_sqrt~Aviary+(1|Individual),data=data)\n",
    "\n",
    "cat(\"\\n------------------------- Anova to get p-value -------------------------\\n\")\n",
    "anova(Model_groups,ddf=\"Kenward-Roger\")\n",
    "cat(\"\\n------------------------- Post-hoc Tukey test --------------------------\\n\")\n",
    "summary(glht(Model_groups,linfct=mcp(Aviary=\"Tukey\")))\n",
    "cat(\"\\n---------------------------- Date and time -----------------------------\\n\")\n",
    "print(Sys.time())"
   ]
  },
  {
   "cell_type": "code",
   "execution_count": null,
   "id": "16115b2e-b377-40f5-ab42-2b2f645ca370",
   "metadata": {},
   "outputs": [],
   "source": []
  },
  {
   "cell_type": "markdown",
   "id": "1284735e-1bca-4f7e-9d55-ca563180a53e",
   "metadata": {},
   "source": [
    "### Gliding ground speed"
   ]
  },
  {
   "cell_type": "code",
   "execution_count": null,
   "id": "fe3c32d7-bf79-46df-bda8-282a1e01b56a",
   "metadata": {},
   "outputs": [],
   "source": [
    "# Load data\n",
    "data<-read.csv(\"DATA/All_avgGlidingB.csv\",header=T,sep=\",\",na.strings=c(\"\",\"NA\"))"
   ]
  },
  {
   "cell_type": "code",
   "execution_count": null,
   "id": "6e8ee0da-90f4-477f-be19-bfbcce177458",
   "metadata": {},
   "outputs": [],
   "source": [
    "# Get the total number of data points\n",
    "nrow(data)"
   ]
  },
  {
   "cell_type": "code",
   "execution_count": null,
   "id": "3e047a80-820c-4d9a-9421-922696d7fb2a",
   "metadata": {},
   "outputs": [],
   "source": [
    "# Check model assumptions\n",
    "# Test homogeneity of variance and normality\n",
    "Model_groups<-lmer(Mean_GlidingSpeed~Aviary+(1|Individual),data=data)\n",
    "par(mfrow=c(2,2))\n",
    "\n",
    "scatter.smooth(fitted(Model_groups),resid(Model_groups));title(\"Tukey-Anscombe Plot\")\n",
    "\n",
    "qqnorm(resid(Model_groups),main=\"normal QQ-plot,residuals\");qqline(resid(Model_groups))\n",
    "\n",
    "scatter.smooth(fitted(Model_groups),sqrt(abs(resid(Model_groups))))\n",
    "\n",
    "qqnorm(ranef(Model_groups)$Individual[,1],main=\"normal QQ-plot, random effects\");qqline(ranef(Model_groups)$Individual[,1])"
   ]
  },
  {
   "cell_type": "code",
   "execution_count": null,
   "id": "e56ed401-0ff3-4c56-a00c-cf03945c1413",
   "metadata": {},
   "outputs": [],
   "source": [
    "# Try log-transforming the data to make the fit better\n",
    "data$GlidingSpeed_log<-log(data$Mean_GlidingSpeed)"
   ]
  },
  {
   "cell_type": "code",
   "execution_count": null,
   "id": "ff965214-8e6e-495e-a36d-002115f616dd",
   "metadata": {},
   "outputs": [],
   "source": [
    "# Test homogeneity of variance and normality\n",
    "Model_groups<-lmer(GlidingSpeed_log~Aviary+(1|Individual),data=data)\n",
    "par(mfrow=c(2,2))\n",
    "\n",
    "scatter.smooth(fitted(Model_groups),resid(Model_groups));title(\"Tukey-Anscombe Plot\")\n",
    "\n",
    "qqnorm(resid(Model_groups),main=\"normal QQ-plot,residuals\");qqline(resid(Model_groups))\n",
    "\n",
    "scatter.smooth(fitted(Model_groups),sqrt(abs(resid(Model_groups))))\n",
    "\n",
    "qqnorm(ranef(Model_groups)$Individual[,1],main=\"normal QQ-plot, random effects\");qqline(ranef(Model_groups)$Individual[,1])"
   ]
  },
  {
   "cell_type": "code",
   "execution_count": null,
   "id": "71814688-7df6-4efb-bc2c-1f8c92295220",
   "metadata": {},
   "outputs": [],
   "source": [
    "# This looks a lot better"
   ]
  },
  {
   "cell_type": "code",
   "execution_count": null,
   "id": "da55b825-608c-4aff-bcc8-e6b3251b7791",
   "metadata": {},
   "outputs": [],
   "source": [
    "# Test for differences between the groups\n",
    "Model_groups<-lmer(GlidingSpeed_log~Aviary+(1|Individual),data=data)\n",
    "\n",
    "cat(\"\\n------------------------- Anova to get p-value -------------------------\\n\")\n",
    "anova(Model_groups,ddf=\"Kenward-Roger\")\n",
    "cat(\"\\n------------------------- Post-hoc Tukey test --------------------------\\n\")\n",
    "summary(glht(Model_groups,linfct=mcp(Aviary=\"Tukey\")))\n",
    "cat(\"\\n---------------------------- Date and time -----------------------------\\n\")\n",
    "print(Sys.time())"
   ]
  },
  {
   "cell_type": "code",
   "execution_count": null,
   "id": "2dbde54d-00b3-4e23-915c-98341b347d0b",
   "metadata": {},
   "outputs": [],
   "source": []
  },
  {
   "cell_type": "markdown",
   "id": "3052e9c4-0fb1-4390-afef-ee540d1d9f01",
   "metadata": {},
   "source": [
    "### Gliding airspeed"
   ]
  },
  {
   "cell_type": "code",
   "execution_count": null,
   "id": "76c48da5-bdf6-4fd7-a991-96035b6181a3",
   "metadata": {},
   "outputs": [],
   "source": [
    "# Load data\n",
    "data<-read.csv(\"DATA/All_avgGlidingB.csv\",header=T,sep=\",\",na.strings=c(\"\",\"NA\"))"
   ]
  },
  {
   "cell_type": "code",
   "execution_count": null,
   "id": "31beaeae-3d97-4af5-8e69-decfc006f411",
   "metadata": {},
   "outputs": [],
   "source": [
    "# Get the total number of data points\n",
    "nrow(data)"
   ]
  },
  {
   "cell_type": "code",
   "execution_count": null,
   "id": "03aa6de4-e94e-4c57-8708-b5400cc68c8b",
   "metadata": {},
   "outputs": [],
   "source": [
    "# Check model assumptions\n",
    "# Test homogeneity of variance and normality\n",
    "Model_groups<-lmer(Mean_AirSpeedPL~Aviary+(1|Individual),data=data)\n",
    "par(mfrow=c(2,2))\n",
    "\n",
    "scatter.smooth(fitted(Model_groups),resid(Model_groups));title(\"Tukey-Anscombe Plot\")\n",
    "\n",
    "qqnorm(resid(Model_groups),main=\"normal QQ-plot,residuals\");qqline(resid(Model_groups))\n",
    "\n",
    "scatter.smooth(fitted(Model_groups),sqrt(abs(resid(Model_groups))))\n",
    "\n",
    "qqnorm(ranef(Model_groups)$Individual[,1],main=\"normal QQ-plot, random effects\");qqline(ranef(Model_groups)$Individual[,1])"
   ]
  },
  {
   "cell_type": "code",
   "execution_count": null,
   "id": "32bce02c-86a4-476b-a1c7-66509921f6c1",
   "metadata": {},
   "outputs": [],
   "source": [
    "# This looks fine"
   ]
  },
  {
   "cell_type": "code",
   "execution_count": null,
   "id": "2973c3c5-8ed2-45d8-a5f5-70e1444ce031",
   "metadata": {},
   "outputs": [],
   "source": [
    "# Test for differences between the groups\n",
    "Model_groups<-lmer(Mean_AirSpeedPL~Aviary+(1|Individual),data=data)\n",
    "\n",
    "cat(\"\\n------------------------- Anova to get p-value -------------------------\\n\")\n",
    "anova(Model_groups,ddf=\"Kenward-Roger\")\n",
    "#cat(\"\\n------------------------- Post-hoc Tukey test --------------------------\\n\")\n",
    "#summary(glht(Model_groups,linfct=mcp(Aviary=\"Tukey\")))\n",
    "cat(\"\\n---------------------------- Date and time -----------------------------\\n\")\n",
    "print(Sys.time())"
   ]
  },
  {
   "cell_type": "code",
   "execution_count": null,
   "id": "fc7d55e8-3821-4674-b604-a1bd4a551dd8",
   "metadata": {},
   "outputs": [],
   "source": []
  },
  {
   "cell_type": "markdown",
   "id": "7ad95d09-159e-4c53-a07d-8ffec0d07655",
   "metadata": {},
   "source": [
    "### Gliding wind support"
   ]
  },
  {
   "cell_type": "code",
   "execution_count": null,
   "id": "8855bfa9-12d7-49a6-9574-d40a39d60c38",
   "metadata": {},
   "outputs": [],
   "source": [
    "# Load data\n",
    "data<-read.csv(\"DATA/All_avgGlidingB.csv\",header=T,sep=\",\",na.strings=c(\"\",\"NA\"))"
   ]
  },
  {
   "cell_type": "code",
   "execution_count": null,
   "id": "15277254-e6f6-410e-8324-0ba1aab6a4bf",
   "metadata": {},
   "outputs": [],
   "source": [
    "# Get the total number of data points\n",
    "nrow(data)"
   ]
  },
  {
   "cell_type": "code",
   "execution_count": null,
   "id": "fdd418dd-959d-4ca2-9127-2406ae4ee159",
   "metadata": {},
   "outputs": [],
   "source": [
    "# Check model assumptions\n",
    "# Test homogeneity of variance and normality\n",
    "Model_groups<-lmer(Mean_WindSupportPL~Aviary+(1|Individual),data=data)\n",
    "par(mfrow=c(2,2))\n",
    "\n",
    "scatter.smooth(fitted(Model_groups),resid(Model_groups));title(\"Tukey-Anscombe Plot\")\n",
    "\n",
    "qqnorm(resid(Model_groups),main=\"normal QQ-plot,residuals\");qqline(resid(Model_groups))\n",
    "\n",
    "scatter.smooth(fitted(Model_groups),sqrt(abs(resid(Model_groups))))\n",
    "\n",
    "qqnorm(ranef(Model_groups)$Individual[,1],main=\"normal QQ-plot, random effects\");qqline(ranef(Model_groups)$Individual[,1])"
   ]
  },
  {
   "cell_type": "code",
   "execution_count": null,
   "id": "bb64c847-5003-4d2f-8bce-892633eb1c5c",
   "metadata": {},
   "outputs": [],
   "source": [
    "# Can't transform the data because of negative values"
   ]
  },
  {
   "cell_type": "code",
   "execution_count": null,
   "id": "2f799729-b9e0-464c-992d-a09831490879",
   "metadata": {},
   "outputs": [],
   "source": [
    "# Test for differences between the groups\n",
    "Model_groups<-lmer(Mean_WindSupportPL~Aviary+(1|Individual),data=data)\n",
    "\n",
    "cat(\"\\n------------------------- Anova to get p-value -------------------------\\n\")\n",
    "anova(Model_groups,ddf=\"Kenward-Roger\")\n",
    "cat(\"\\n------------------------- Post-hoc Tukey test --------------------------\\n\")\n",
    "summary(glht(Model_groups,linfct=mcp(Aviary=\"Tukey\")))\n",
    "cat(\"\\n---------------------------- Date and time -----------------------------\\n\")\n",
    "print(Sys.time())"
   ]
  },
  {
   "cell_type": "code",
   "execution_count": null,
   "id": "f84ad0cd-0edf-4882-99d4-2a58416ea70d",
   "metadata": {},
   "outputs": [],
   "source": []
  },
  {
   "cell_type": "markdown",
   "id": "a4ae1dc7-d957-4a85-8433-e6d0f0d39d8e",
   "metadata": {},
   "source": [
    "### Gliding sink"
   ]
  },
  {
   "cell_type": "code",
   "execution_count": null,
   "id": "e245f81d-0600-45f8-98bf-991d3e9eb6c4",
   "metadata": {},
   "outputs": [],
   "source": [
    "# Load data\n",
    "data<-read.csv(\"DATA/All_avgGlidingB.csv\",header=T,sep=\",\",na.strings=c(\"\",\"NA\"))"
   ]
  },
  {
   "cell_type": "code",
   "execution_count": null,
   "id": "7f489b26-bea6-4e46-a3a9-7701bab14ec2",
   "metadata": {},
   "outputs": [],
   "source": [
    "# Get the total number of data points\n",
    "nrow(data)"
   ]
  },
  {
   "cell_type": "code",
   "execution_count": null,
   "id": "458cdaeb-96e9-4b38-84ba-43270246aeeb",
   "metadata": {},
   "outputs": [],
   "source": [
    "# Check model assumptions\n",
    "# Test homogeneity of variance and normality\n",
    "Model_groups<-lmer(Mean_SinkingSpeed~Aviary+(1|Individual),data=data)\n",
    "par(mfrow=c(2,2))\n",
    "\n",
    "scatter.smooth(fitted(Model_groups),resid(Model_groups));title(\"Tukey-Anscombe Plot\")\n",
    "\n",
    "qqnorm(resid(Model_groups),main=\"normal QQ-plot,residuals\");qqline(resid(Model_groups))\n",
    "\n",
    "scatter.smooth(fitted(Model_groups),sqrt(abs(resid(Model_groups))))\n",
    "\n",
    "qqnorm(ranef(Model_groups)$Individual[,1],main=\"normal QQ-plot, random effects\");qqline(ranef(Model_groups)$Individual[,1])"
   ]
  },
  {
   "cell_type": "code",
   "execution_count": null,
   "id": "1c9cb5f1-9aaa-44c2-89fc-50c759fd368a",
   "metadata": {},
   "outputs": [],
   "source": [
    "# Can't transform the data because of negative values."
   ]
  },
  {
   "cell_type": "code",
   "execution_count": null,
   "id": "c43fe965-761c-4e93-af38-59f91511b311",
   "metadata": {},
   "outputs": [],
   "source": [
    "# Test for differences between the groups\n",
    "Model_groups<-lmer(Mean_SinkingSpeed~Aviary+(1|Individual),data=data)\n",
    "\n",
    "cat(\"\\n------------------------- Anova to get p-value -------------------------\\n\")\n",
    "anova(Model_groups,ddf=\"Kenward-Roger\")\n",
    "cat(\"\\n------------------------- Post-hoc Tukey test --------------------------\\n\")\n",
    "summary(glht(Model_groups,linfct=mcp(Aviary=\"Tukey\")))\n",
    "cat(\"\\n---------------------------- Date and time -----------------------------\\n\")\n",
    "print(Sys.time())"
   ]
  },
  {
   "cell_type": "code",
   "execution_count": null,
   "id": "c97c0f04-c330-4981-9fbc-f0d4b8840262",
   "metadata": {},
   "outputs": [],
   "source": []
  },
  {
   "cell_type": "markdown",
   "id": "b7358e91-21f4-4a08-856f-dc36c51fe0e3",
   "metadata": {},
   "source": [
    "### ODBA"
   ]
  },
  {
   "cell_type": "code",
   "execution_count": null,
   "id": "740d03f7-6df2-490d-85cc-fe27cddad115",
   "metadata": {},
   "outputs": [],
   "source": [
    "# Load data\n",
    "data<-read.csv(\"DATA/All_ODBA_Temp.csv\",header=T,sep=\",\",na.strings=c(\"\",\"NA\"))\n",
    "\n",
    "# Add year\n",
    "data$Year<-year(data$timestamp)\n",
    "\n",
    "# Keep only data that was collected during flight\n",
    "data<-data[!(is.na(data$FlyingID)),]"
   ]
  },
  {
   "cell_type": "code",
   "execution_count": null,
   "id": "2b70f20c-f888-4ec0-aea5-fdda1022604e",
   "metadata": {},
   "outputs": [],
   "source": [
    "# Get the total number of data points\n",
    "nrow(data)"
   ]
  },
  {
   "cell_type": "code",
   "execution_count": null,
   "id": "b64a849d-dc9f-4697-bfab-db0fb7000433",
   "metadata": {},
   "outputs": [],
   "source": [
    "# Get the mean and sd\n",
    "MeanSD<-aggregate(ODBA~Aviary,data,function(x) c(mean = mean(x), sd = sd(x)))\n",
    "MeanSD$Mean<-MeanSD$ODBA[,1]\n",
    "MeanSD$SD<-MeanSD$ODBA[,2]\n",
    "MeanSD$ODBA<-NULL\n",
    "print(MeanSD)"
   ]
  },
  {
   "cell_type": "code",
   "execution_count": null,
   "id": "e2a84831-3055-41ac-8909-dc8e4c9552bc",
   "metadata": {},
   "outputs": [],
   "source": [
    "# Check model assumptions\n",
    "# Test homogeneity of variance and normality\n",
    "Model_groups<-lmer(ODBA~Aviary+(1|Individual),data=data)\n",
    "par(mfrow=c(2,2))\n",
    "\n",
    "scatter.smooth(fitted(Model_groups),resid(Model_groups));title(\"Tukey-Anscombe Plot\")\n",
    "\n",
    "qqnorm(resid(Model_groups),main=\"normal QQ-plot,residuals\");qqline(resid(Model_groups))\n",
    "\n",
    "scatter.smooth(fitted(Model_groups),sqrt(abs(resid(Model_groups))))\n",
    "\n",
    "qqnorm(ranef(Model_groups)$Individual[,1],main=\"normal QQ-plot, random effects\");qqline(ranef(Model_groups)$Individual[,1])"
   ]
  },
  {
   "cell_type": "code",
   "execution_count": null,
   "id": "b2773c9f-bdb7-4196-9954-78be0de760ae",
   "metadata": {},
   "outputs": [],
   "source": [
    "# The residuals are not normally distributed, try log-transforming it\n",
    "data$ODBA_log<-log(data$ODBA)"
   ]
  },
  {
   "cell_type": "code",
   "execution_count": null,
   "id": "cd9b0b61-3b4e-457c-8a89-ea51bc795c99",
   "metadata": {},
   "outputs": [],
   "source": [
    "Model_groups<-lmer(ODBA_log~Aviary+(1|Individual),data=data)\n",
    "par(mfrow=c(2,2))\n",
    "\n",
    "scatter.smooth(fitted(Model_groups),resid(Model_groups));title(\"Tukey-Anscombe Plot\")\n",
    "\n",
    "qqnorm(resid(Model_groups),main=\"normal QQ-plot,residuals\");qqline(resid(Model_groups))\n",
    "\n",
    "scatter.smooth(fitted(Model_groups),sqrt(abs(resid(Model_groups))))\n",
    "\n",
    "qqnorm(ranef(Model_groups)$Individual[,1],main=\"normal QQ-plot, random effects\");qqline(ranef(Model_groups)$Individual[,1])"
   ]
  },
  {
   "cell_type": "code",
   "execution_count": null,
   "id": "61f0298e-1627-4c80-b4ab-d52129afd8ff",
   "metadata": {},
   "outputs": [],
   "source": [
    "# That looks better"
   ]
  },
  {
   "cell_type": "code",
   "execution_count": null,
   "id": "9c5f3282-e5e4-46a8-961c-1f6f78137370",
   "metadata": {},
   "outputs": [],
   "source": [
    "# Test for differences between the groups\n",
    "Model_groups<-lmer(ODBA_log~Aviary+(1|Individual),data=data)\n",
    "\n",
    "cat(\"\\n------------------------- Anova to get p-value -------------------------\\n\")\n",
    "anova(Model_groups,ddf=\"Kenward-Roger\")\n",
    "cat(\"\\n------------------------- Post-hoc Tukey test --------------------------\\n\")\n",
    "summary(glht(Model_groups,linfct=mcp(Aviary=\"Tukey\")))\n",
    "cat(\"\\n---------------------------- Date and time -----------------------------\\n\")\n",
    "print(Sys.time())"
   ]
  },
  {
   "cell_type": "code",
   "execution_count": null,
   "id": "7ceefdd2-a2e2-4bf6-a70c-947c9f1dcc05",
   "metadata": {},
   "outputs": [],
   "source": []
  },
  {
   "cell_type": "markdown",
   "id": "98b53c48-572a-4241-a0f6-392ebe2ed0d8",
   "metadata": {},
   "source": [
    "### Trend in ODBA over the season"
   ]
  },
  {
   "cell_type": "code",
   "execution_count": null,
   "id": "17dda79b-c0df-4f13-9377-ce7066b23186",
   "metadata": {},
   "outputs": [],
   "source": [
    "# Load data\n",
    "data<-read.csv(\"DATA/All_ODBA_Temp.csv\",header=T,sep=\",\",na.strings=c(\"\",\"NA\"))\n",
    "\n",
    "# Add year\n",
    "data$Year<-year(data$timestamp)\n",
    "\n",
    "# Keep only data that was collected during flight\n",
    "data<-data[!(is.na(data$FlyingID)),]"
   ]
  },
  {
   "cell_type": "code",
   "execution_count": null,
   "id": "630a71f9-f11f-4cbf-83fe-3884b3a3f74a",
   "metadata": {},
   "outputs": [],
   "source": [
    "# Get the total number of data points\n",
    "nrow(data[data$Aviary==\"CASCB\",])"
   ]
  },
  {
   "cell_type": "code",
   "execution_count": null,
   "id": "ec23071e-7eb8-4fd5-905a-bd33151c7873",
   "metadata": {},
   "outputs": [],
   "source": [
    "# CASCB"
   ]
  },
  {
   "cell_type": "code",
   "execution_count": null,
   "id": "335ff0d8-d343-4791-95a5-b1ca011ab9fc",
   "metadata": {},
   "outputs": [],
   "source": [
    "# Check model assumptions\n",
    "# Test homogeneity of variance and normality\n",
    "Model_groups<-lmer(ODBA~yday(timestamp)+(1|Individual),data=data[data$Aviary==\"CASCB\",])\n",
    "par(mfrow=c(2,2))\n",
    "\n",
    "scatter.smooth(fitted(Model_groups),resid(Model_groups));title(\"Tukey-Anscombe Plot\")\n",
    "\n",
    "qqnorm(resid(Model_groups),main=\"normal QQ-plot,residuals\");qqline(resid(Model_groups))\n",
    "\n",
    "scatter.smooth(fitted(Model_groups),sqrt(abs(resid(Model_groups))))\n",
    "\n",
    "qqnorm(ranef(Model_groups)$Individual[,1],main=\"normal QQ-plot, random effects\");qqline(ranef(Model_groups)$Individual[,1])"
   ]
  },
  {
   "cell_type": "code",
   "execution_count": null,
   "id": "925e04fb-1918-4018-8026-8ad0994185bf",
   "metadata": {},
   "outputs": [],
   "source": [
    "# The residuals are not normally distributed, try log-transforming it\n",
    "data$ODBA_log<-log(data$ODBA)"
   ]
  },
  {
   "cell_type": "code",
   "execution_count": null,
   "id": "8c68b7cd-13ef-435f-a919-16d5abd580f4",
   "metadata": {},
   "outputs": [],
   "source": [
    "Model_groups<-lmer(ODBA_log~yday(timestamp)+(1|Individual),data=data[data$Aviary==\"CASCB\",])\n",
    "par(mfrow=c(2,2))\n",
    "\n",
    "scatter.smooth(fitted(Model_groups),resid(Model_groups));title(\"Tukey-Anscombe Plot\")\n",
    "\n",
    "qqnorm(resid(Model_groups),main=\"normal QQ-plot,residuals\");qqline(resid(Model_groups))\n",
    "\n",
    "scatter.smooth(fitted(Model_groups),sqrt(abs(resid(Model_groups))))\n",
    "\n",
    "qqnorm(ranef(Model_groups)$Individual[,1],main=\"normal QQ-plot, random effects\");qqline(ranef(Model_groups)$Individual[,1])"
   ]
  },
  {
   "cell_type": "code",
   "execution_count": null,
   "id": "26d11211-72e4-4e24-a2b5-bbf0ef8a588e",
   "metadata": {},
   "outputs": [],
   "source": [
    "# That looks better"
   ]
  },
  {
   "cell_type": "code",
   "execution_count": null,
   "id": "513ea2c8-691a-4942-8592-18c9f237707e",
   "metadata": {},
   "outputs": [],
   "source": [
    "# Test for differences between the groups\n",
    "Model_groups<-lmer(ODBA_log~yday(timestamp)+(1|Individual),data=data[data$Aviary==\"CASCB\",])\n",
    "\n",
    "cat(\"\\n----------------------------- Model summary ----------------------------\\n\")\n",
    "summary(Model_groups)\n",
    "cat(\"\\n------------------------- Anova to get p-value -------------------------\\n\")\n",
    "anova(Model_groups,ddf=\"Kenward-Roger\")\n",
    "cat(\"\\n---------------------------- Date and time -----------------------------\\n\")\n",
    "print(Sys.time())"
   ]
  },
  {
   "cell_type": "code",
   "execution_count": null,
   "id": "f40cfcc5-e198-47bb-888d-42c5154f008e",
   "metadata": {},
   "outputs": [],
   "source": []
  },
  {
   "cell_type": "markdown",
   "id": "c60e292b-36f7-4002-a660-971062861af6",
   "metadata": {},
   "source": [
    "### Differences in ODBA between north and south half of segment"
   ]
  },
  {
   "cell_type": "code",
   "execution_count": null,
   "id": "54bd6c7b-0a3f-44ed-82d7-68ba09453646",
   "metadata": {},
   "outputs": [],
   "source": [
    "# Load data\n",
    "data<-read.csv(\"DATA/All_ODBA_Temp.csv\",header=T,sep=\",\",na.strings=c(\"\",\"NA\"))\n",
    "\n",
    "# Add year\n",
    "data$Year<-year(data$timestamp)\n",
    "\n",
    "# Keep only data that was collected during flight\n",
    "data<-data[!(is.na(data$FlyingID)),]\n",
    "\n",
    "# Assign the first or second half of the segment. Cutoff at 45.75 degrees north\n",
    "data$Half<-NA\n",
    "data[data$Lat_End>45.75,\"Half\"]<-1\n",
    "data[data$Lat_End<=45.75,\"Half\"]<-2\n",
    "data$Half<-as.character(data$Half)"
   ]
  },
  {
   "cell_type": "code",
   "execution_count": null,
   "id": "2cbcd014-786b-4b1b-9564-cba05f1abf85",
   "metadata": {},
   "outputs": [],
   "source": [
    "nrow(data[data$Aviary==\"Affenberg\",])"
   ]
  },
  {
   "cell_type": "code",
   "execution_count": null,
   "id": "4daa4285-4a66-43dd-92b9-c6427a603f1d",
   "metadata": {},
   "outputs": [],
   "source": [
    "nrow(data[data$Aviary==\"CareCenter\",])"
   ]
  },
  {
   "cell_type": "code",
   "execution_count": null,
   "id": "6306c1c3-4f22-4beb-b98c-393913c61b5a",
   "metadata": {},
   "outputs": [],
   "source": [
    "#-------------#\n",
    "#- Affenberg -#\n",
    "#-------------#\n",
    "\n",
    "# Check model assumptions\n",
    "# Test homogeneity of variance and normality\n",
    "Model_groups<-lmer(ODBA~Half+(1|Individual),data=data[data$Aviary==\"Affenberg\",])\n",
    "par(mfrow=c(2,2))\n",
    "\n",
    "scatter.smooth(fitted(Model_groups),resid(Model_groups));title(\"Tukey-Anscombe Plot\")\n",
    "\n",
    "qqnorm(resid(Model_groups),main=\"normal QQ-plot,residuals\");qqline(resid(Model_groups))\n",
    "\n",
    "scatter.smooth(fitted(Model_groups),sqrt(abs(resid(Model_groups))))\n",
    "\n",
    "qqnorm(ranef(Model_groups)$Individual[,1],main=\"normal QQ-plot, random effects\");qqline(ranef(Model_groups)$Individual[,1])"
   ]
  },
  {
   "cell_type": "code",
   "execution_count": null,
   "id": "3f6397e0-9265-45b6-b6a2-b0a31c9e566c",
   "metadata": {},
   "outputs": [],
   "source": [
    "# The residuals are not normally distributed, try log-transforming it\n",
    "data$ODBA_log<-log(data$ODBA)"
   ]
  },
  {
   "cell_type": "code",
   "execution_count": null,
   "id": "05a8e285-ea97-499d-b804-e13011a7aec2",
   "metadata": {},
   "outputs": [],
   "source": [
    "# Test homogeneity of variance and normality\n",
    "Model_groups<-lmer(ODBA_log~Half+(1|Individual),data=data[data$Aviary==\"Affenberg\",])\n",
    "par(mfrow=c(2,2))\n",
    "\n",
    "scatter.smooth(fitted(Model_groups),resid(Model_groups));title(\"Tukey-Anscombe Plot\")\n",
    "\n",
    "qqnorm(resid(Model_groups),main=\"normal QQ-plot,residuals\");qqline(resid(Model_groups))\n",
    "\n",
    "scatter.smooth(fitted(Model_groups),sqrt(abs(resid(Model_groups))))\n",
    "\n",
    "qqnorm(ranef(Model_groups)$Individual[,1],main=\"normal QQ-plot, random effects\");qqline(ranef(Model_groups)$Individual[,1])"
   ]
  },
  {
   "cell_type": "code",
   "execution_count": null,
   "id": "5f1da8be-49c7-4f91-9c4f-3169482080e6",
   "metadata": {},
   "outputs": [],
   "source": [
    "# That looks a bit better"
   ]
  },
  {
   "cell_type": "code",
   "execution_count": null,
   "id": "b169130c-f395-48b8-b27f-b794d854ad22",
   "metadata": {},
   "outputs": [],
   "source": [
    "# Test for differences between the first and second half\n",
    "Model_groups<-lmer(ODBA_log~Half+(1|Individual),data=data[data$Aviary==\"Affenberg\",])\n",
    "\n",
    "cat(\"\\n------------------------- Anova to get p-value -------------------------\\n\")\n",
    "anova(Model_groups,ddf=\"Kenward-Roger\")\n",
    "cat(\"\\n---------------------------- Date and time -----------------------------\\n\")\n",
    "print(Sys.time())"
   ]
  },
  {
   "cell_type": "code",
   "execution_count": null,
   "id": "076c9789-1632-4c23-b3ab-a9a302aa125a",
   "metadata": {},
   "outputs": [],
   "source": [
    "#---------------#\n",
    "#- Care center -#\n",
    "#---------------#\n",
    "\n",
    "# Check model assumptions\n",
    "# Test homogeneity of variance and normality\n",
    "Model_groups<-lmer(ODBA~Half+(1|Individual),data=data[data$Aviary==\"CareCenter\",])\n",
    "par(mfrow=c(2,2))\n",
    "\n",
    "scatter.smooth(fitted(Model_groups),resid(Model_groups));title(\"Tukey-Anscombe Plot\")\n",
    "\n",
    "qqnorm(resid(Model_groups),main=\"normal QQ-plot,residuals\");qqline(resid(Model_groups))\n",
    "\n",
    "scatter.smooth(fitted(Model_groups),sqrt(abs(resid(Model_groups))))\n",
    "\n",
    "qqnorm(ranef(Model_groups)$Individual[,1],main=\"normal QQ-plot, random effects\");qqline(ranef(Model_groups)$Individual[,1])"
   ]
  },
  {
   "cell_type": "code",
   "execution_count": null,
   "id": "4b397ca8-1749-413a-b311-427fdb163cfb",
   "metadata": {},
   "outputs": [],
   "source": [
    "# Test homogeneity of variance and normality\n",
    "Model_groups<-lmer(ODBA_log~Half+(1|Individual),data=data[data$Aviary==\"CareCenter\",])\n",
    "par(mfrow=c(2,2))\n",
    "\n",
    "scatter.smooth(fitted(Model_groups),resid(Model_groups));title(\"Tukey-Anscombe Plot\")\n",
    "\n",
    "qqnorm(resid(Model_groups),main=\"normal QQ-plot,residuals\");qqline(resid(Model_groups))\n",
    "\n",
    "scatter.smooth(fitted(Model_groups),sqrt(abs(resid(Model_groups))))\n",
    "\n",
    "qqnorm(ranef(Model_groups)$Individual[,1],main=\"normal QQ-plot, random effects\");qqline(ranef(Model_groups)$Individual[,1])"
   ]
  },
  {
   "cell_type": "code",
   "execution_count": null,
   "id": "9a3dd69a-ce84-4da8-8a72-cf986effd9f6",
   "metadata": {},
   "outputs": [],
   "source": [
    "# That looks a bit better"
   ]
  },
  {
   "cell_type": "code",
   "execution_count": null,
   "id": "c588c55a-df63-42c4-8735-e05d478d3b12",
   "metadata": {},
   "outputs": [],
   "source": [
    "# Test for differences between the first and second half\n",
    "Model_groups<-lmer(ODBA_log~Half+(1|Individual),data=data[data$Aviary==\"CareCenter\",])\n",
    "\n",
    "cat(\"\\n------------------------- Anova to get p-value -------------------------\\n\")\n",
    "anova(Model_groups,ddf=\"Kenward-Roger\")\n",
    "cat(\"\\n---------------------------- Date and time -----------------------------\\n\")\n",
    "print(Sys.time())"
   ]
  },
  {
   "cell_type": "code",
   "execution_count": null,
   "id": "c83f93c6-cf95-4a9e-9b16-c9ba4bf03edd",
   "metadata": {},
   "outputs": [],
   "source": []
  },
  {
   "cell_type": "code",
   "execution_count": null,
   "id": "ac1bc6d7-4dbd-4485-9388-90ecd51fa9cb",
   "metadata": {},
   "outputs": [],
   "source": [
    "#---------#\n",
    "#- CASCB -#\n",
    "#---------#\n",
    "\n",
    "# Check model assumptions\n",
    "# Test homogeneity of variance and normality\n",
    "Model_groups<-lmer(ODBA~Half+(1|Individual),data=data[data$Aviary==\"CASCB\",])\n",
    "par(mfrow=c(2,2))\n",
    "\n",
    "scatter.smooth(fitted(Model_groups),resid(Model_groups));title(\"Tukey-Anscombe Plot\")\n",
    "\n",
    "qqnorm(resid(Model_groups),main=\"normal QQ-plot,residuals\");qqline(resid(Model_groups))\n",
    "\n",
    "scatter.smooth(fitted(Model_groups),sqrt(abs(resid(Model_groups))))\n",
    "\n",
    "qqnorm(ranef(Model_groups)$Individual[,1],main=\"normal QQ-plot, random effects\");qqline(ranef(Model_groups)$Individual[,1])"
   ]
  },
  {
   "cell_type": "code",
   "execution_count": null,
   "id": "bbeebd2b-ec7e-4024-b23c-f06a8e85f6f7",
   "metadata": {},
   "outputs": [],
   "source": [
    "# Test homogeneity of variance and normality\n",
    "Model_groups<-lmer(ODBA_log~Half+(1|Individual),data=data[data$Aviary==\"CASCB\",])\n",
    "par(mfrow=c(2,2))\n",
    "\n",
    "scatter.smooth(fitted(Model_groups),resid(Model_groups));title(\"Tukey-Anscombe Plot\")\n",
    "\n",
    "qqnorm(resid(Model_groups),main=\"normal QQ-plot,residuals\");qqline(resid(Model_groups))\n",
    "\n",
    "scatter.smooth(fitted(Model_groups),sqrt(abs(resid(Model_groups))))\n",
    "\n",
    "qqnorm(ranef(Model_groups)$Individual[,1],main=\"normal QQ-plot, random effects\");qqline(ranef(Model_groups)$Individual[,1])"
   ]
  },
  {
   "cell_type": "code",
   "execution_count": null,
   "id": "45be582c-cd20-4a97-a12c-8fbf34c31651",
   "metadata": {},
   "outputs": [],
   "source": [
    "# That looks a bit better"
   ]
  },
  {
   "cell_type": "code",
   "execution_count": null,
   "id": "7d176bc3-9377-46a9-8d0b-928a3de5e68c",
   "metadata": {},
   "outputs": [],
   "source": [
    "# Test for differences between the first and second half\n",
    "Model_groups<-lmer(ODBA_log~Half+(1|Individual),data=data[data$Aviary==\"CASCB\",])\n",
    "\n",
    "cat(\"\\n------------------------- Anova to get p-value -------------------------\\n\")\n",
    "anova(Model_groups,ddf=\"Kenward-Roger\")\n",
    "cat(\"\\n------------------------- Post-hoc Tukey test --------------------------\\n\")\n",
    "summary(glht(Model_groups,linfct=mcp(Half=\"Tukey\")))\n",
    "cat(\"\\n---------------------------- Date and time -----------------------------\\n\")\n",
    "print(Sys.time())"
   ]
  },
  {
   "cell_type": "code",
   "execution_count": null,
   "id": "67e3f8ed-34c0-4e81-b158-8d34ddab486c",
   "metadata": {},
   "outputs": [],
   "source": []
  },
  {
   "cell_type": "markdown",
   "id": "42b5c0af-466e-469e-8ee7-ab1acea9cbad",
   "metadata": {},
   "source": [
    "### ODBA during climbing vs ODBA during gliding"
   ]
  },
  {
   "cell_type": "code",
   "execution_count": null,
   "id": "e1752aae-7d55-41df-8930-e64263eae101",
   "metadata": {},
   "outputs": [],
   "source": [
    "# Load data\n",
    "data<-read.csv(\"DATA/All_ODBA_Temp.csv\",header=T,sep=\",\",na.strings=c(\"\",\"NA\"))\n",
    "\n",
    "# Add year\n",
    "data$Year<-year(data$timestamp)\n",
    "\n",
    "# Keep only data that was collected during flight\n",
    "data<-data[!(is.na(data$FlyingID)),]\n",
    "\n",
    "# Log-transform the data\n",
    "data$ODBA_log<-log(data$ODBA)"
   ]
  },
  {
   "cell_type": "code",
   "execution_count": null,
   "id": "25a915c1-6eb1-4d6d-a5e7-e374cd685205",
   "metadata": {},
   "outputs": [],
   "source": [
    "# Get the number of data points\n",
    "nrow(data[data$Aviary==\"Affenberg\",])"
   ]
  },
  {
   "cell_type": "code",
   "execution_count": null,
   "id": "5b1adaff-d3dc-4af0-9806-eb7297003cc5",
   "metadata": {},
   "outputs": [],
   "source": [
    "# Get the number of data points\n",
    "nrow(data[data$Aviary==\"CareCenter\",])"
   ]
  },
  {
   "cell_type": "code",
   "execution_count": null,
   "id": "f88315a3-fe9d-4570-8442-de8ca82af4fb",
   "metadata": {},
   "outputs": [],
   "source": [
    "# Get the number of data points\n",
    "nrow(data[data$Aviary==\"CASCB\",])"
   ]
  },
  {
   "cell_type": "code",
   "execution_count": null,
   "id": "4a72e7eb-a840-491d-a20e-c2690e16e134",
   "metadata": {},
   "outputs": [],
   "source": [
    "#-------------#\n",
    "#- Affenberg -#\n",
    "#-------------#\n",
    "\n",
    "# Check model assumptions\n",
    "# Test homogeneity of variance and normality\n",
    "Model_groups<-lmer(ODBA~FlightType+(1|Individual),data=data[data$Aviary==\"Affenberg\",])\n",
    "par(mfrow=c(2,2))\n",
    "\n",
    "scatter.smooth(fitted(Model_groups),resid(Model_groups));title(\"Tukey-Anscombe Plot\")\n",
    "\n",
    "qqnorm(resid(Model_groups),main=\"normal QQ-plot,residuals\");qqline(resid(Model_groups))\n",
    "\n",
    "scatter.smooth(fitted(Model_groups),sqrt(abs(resid(Model_groups))))\n",
    "\n",
    "qqnorm(ranef(Model_groups)$Individual[,1],main=\"normal QQ-plot, random effects\");qqline(ranef(Model_groups)$Individual[,1])"
   ]
  },
  {
   "cell_type": "code",
   "execution_count": null,
   "id": "4bcdfef1-b25a-4406-8a50-db6780b479fa",
   "metadata": {},
   "outputs": [],
   "source": [
    "# Test homogeneity of variance and normality\n",
    "Model_groups<-lmer(ODBA_log~FlightType+(1|Individual),data=data[data$Aviary==\"Affenberg\",])\n",
    "par(mfrow=c(2,2))\n",
    "\n",
    "scatter.smooth(fitted(Model_groups),resid(Model_groups));title(\"Tukey-Anscombe Plot\")\n",
    "\n",
    "qqnorm(resid(Model_groups),main=\"normal QQ-plot,residuals\");qqline(resid(Model_groups))\n",
    "\n",
    "scatter.smooth(fitted(Model_groups),sqrt(abs(resid(Model_groups))))\n",
    "\n",
    "qqnorm(ranef(Model_groups)$Individual[,1],main=\"normal QQ-plot, random effects\");qqline(ranef(Model_groups)$Individual[,1])"
   ]
  },
  {
   "cell_type": "code",
   "execution_count": null,
   "id": "8cec8b93-6a37-47ce-b2ff-bd98fab4d325",
   "metadata": {},
   "outputs": [],
   "source": [
    "# Test for differences between the groups\n",
    "Model_groups<-lmer(ODBA_log~FlightType+(1|Individual),data=data[data$Aviary==\"Affenberg\",])\n",
    "\n",
    "cat(\"\\n------------------------- Anova to get p-value -------------------------\\n\")\n",
    "anova(Model_groups,ddf=\"Kenward-Roger\")\n",
    "cat(\"\\n------------------------- Post-hoc Tukey test --------------------------\\n\")\n",
    "summary(glht(Model_groups,linfct=mcp(FlightType=\"Tukey\")))\n",
    "cat(\"\\n---------------------------- Date and time -----------------------------\\n\")\n",
    "print(Sys.time())"
   ]
  },
  {
   "cell_type": "code",
   "execution_count": null,
   "id": "1143b196-359a-46a3-8f74-f7fa03ce10fb",
   "metadata": {},
   "outputs": [],
   "source": []
  },
  {
   "cell_type": "code",
   "execution_count": null,
   "id": "bafd2d6a-f49e-4e5d-9ec9-6b810f347785",
   "metadata": {},
   "outputs": [],
   "source": [
    "#---------------#\n",
    "#- Care center -#\n",
    "#---------------#\n",
    "\n",
    "# Check model assumptions\n",
    "# Test homogeneity of variance and normality\n",
    "Model_groups<-lmer(ODBA~FlightType+(1|Individual),data=data[data$Aviary==\"CareCenter\",])\n",
    "par(mfrow=c(2,2))\n",
    "\n",
    "scatter.smooth(fitted(Model_groups),resid(Model_groups));title(\"Tukey-Anscombe Plot\")\n",
    "\n",
    "qqnorm(resid(Model_groups),main=\"normal QQ-plot,residuals\");qqline(resid(Model_groups))\n",
    "\n",
    "scatter.smooth(fitted(Model_groups),sqrt(abs(resid(Model_groups))))\n",
    "\n",
    "qqnorm(ranef(Model_groups)$Individual[,1],main=\"normal QQ-plot, random effects\");qqline(ranef(Model_groups)$Individual[,1])"
   ]
  },
  {
   "cell_type": "code",
   "execution_count": null,
   "id": "a691ffd5-3bc9-4b1c-a033-2046b3158a81",
   "metadata": {},
   "outputs": [],
   "source": [
    "# Test homogeneity of variance and normality\n",
    "Model_groups<-lmer(ODBA_log~FlightType+(1|Individual),data=data[data$Aviary==\"CareCenter\",])\n",
    "par(mfrow=c(2,2))\n",
    "\n",
    "scatter.smooth(fitted(Model_groups),resid(Model_groups));title(\"Tukey-Anscombe Plot\")\n",
    "\n",
    "qqnorm(resid(Model_groups),main=\"normal QQ-plot,residuals\");qqline(resid(Model_groups))\n",
    "\n",
    "scatter.smooth(fitted(Model_groups),sqrt(abs(resid(Model_groups))))\n",
    "\n",
    "qqnorm(ranef(Model_groups)$Individual[,1],main=\"normal QQ-plot, random effects\");qqline(ranef(Model_groups)$Individual[,1])"
   ]
  },
  {
   "cell_type": "code",
   "execution_count": null,
   "id": "7a112ecb-8806-4323-b017-6e22c7c20f19",
   "metadata": {},
   "outputs": [],
   "source": [
    "# Test for differences between the groups\n",
    "Model_groups<-lmer(ODBA_log~FlightType+(1|Individual),data=data[data$Aviary==\"CareCenter\",])\n",
    "\n",
    "cat(\"\\n------------------------- Anova to get p-value -------------------------\\n\")\n",
    "anova(Model_groups,ddf=\"Kenward-Roger\")\n",
    "cat(\"\\n------------------------- Post-hoc Tukey test --------------------------\\n\")\n",
    "summary(glht(Model_groups,linfct=mcp(FlightType=\"Tukey\")))\n",
    "cat(\"\\n---------------------------- Date and time -----------------------------\\n\")\n",
    "print(Sys.time())"
   ]
  },
  {
   "cell_type": "code",
   "execution_count": null,
   "id": "b4b16519-d530-40a3-9a35-0afae890521f",
   "metadata": {},
   "outputs": [],
   "source": []
  },
  {
   "cell_type": "code",
   "execution_count": null,
   "id": "d10e8a05-f031-4485-a2e7-a01362228dc7",
   "metadata": {},
   "outputs": [],
   "source": [
    "#---------#\n",
    "#- CASCB -#\n",
    "#---------#\n",
    "\n",
    "# Check model assumptions\n",
    "# Test homogeneity of variance and normality\n",
    "Model_groups<-lmer(ODBA~FlightType+(1|Individual),data=data[data$Aviary==\"CASCB\",])\n",
    "par(mfrow=c(2,2))\n",
    "\n",
    "scatter.smooth(fitted(Model_groups),resid(Model_groups));title(\"Tukey-Anscombe Plot\")\n",
    "\n",
    "qqnorm(resid(Model_groups),main=\"normal QQ-plot,residuals\");qqline(resid(Model_groups))\n",
    "\n",
    "scatter.smooth(fitted(Model_groups),sqrt(abs(resid(Model_groups))))\n",
    "\n",
    "qqnorm(ranef(Model_groups)$Individual[,1],main=\"normal QQ-plot, random effects\");qqline(ranef(Model_groups)$Individual[,1])"
   ]
  },
  {
   "cell_type": "code",
   "execution_count": null,
   "id": "9f35f0cb-149e-4d07-8339-2961b8c8ad6b",
   "metadata": {},
   "outputs": [],
   "source": [
    "# Test homogeneity of variance and normality\n",
    "Model_groups<-lmer(ODBA_log~FlightType+(1|Individual),data=data[data$Aviary==\"CASCB\",])\n",
    "par(mfrow=c(2,2))\n",
    "\n",
    "scatter.smooth(fitted(Model_groups),resid(Model_groups));title(\"Tukey-Anscombe Plot\")\n",
    "\n",
    "qqnorm(resid(Model_groups),main=\"normal QQ-plot,residuals\");qqline(resid(Model_groups))\n",
    "\n",
    "scatter.smooth(fitted(Model_groups),sqrt(abs(resid(Model_groups))))\n",
    "\n",
    "qqnorm(ranef(Model_groups)$Individual[,1],main=\"normal QQ-plot, random effects\");qqline(ranef(Model_groups)$Individual[,1])"
   ]
  },
  {
   "cell_type": "code",
   "execution_count": null,
   "id": "73209cf3-f564-48fc-afd4-901003b4cdb4",
   "metadata": {},
   "outputs": [],
   "source": [
    "# Test for differences between the groups\n",
    "Model_groups<-lmer(ODBA_log~FlightType+(1|Individual),data=data[data$Aviary==\"CASCB\",])\n",
    "\n",
    "cat(\"\\n------------------------- Anova to get p-value -------------------------\\n\")\n",
    "anova(Model_groups,ddf=\"Kenward-Roger\")\n",
    "cat(\"\\n------------------------- Post-hoc Tukey test --------------------------\\n\")\n",
    "summary(glht(Model_groups,linfct=mcp(FlightType=\"Tukey\")))\n",
    "cat(\"\\n---------------------------- Date and time -----------------------------\\n\")\n",
    "print(Sys.time())"
   ]
  },
  {
   "cell_type": "code",
   "execution_count": null,
   "id": "33bc8f31-737f-4b4d-9f99-4cf99f6f077c",
   "metadata": {},
   "outputs": [],
   "source": []
  }
 ],
 "metadata": {
  "kernelspec": {
   "display_name": "BirdHippie R 4.1.2",
   "language": "R",
   "name": "birdhippie"
  },
  "language_info": {
   "codemirror_mode": "r",
   "file_extension": ".r",
   "mimetype": "text/x-r-source",
   "name": "R",
   "pygments_lexer": "r",
   "version": "4.1.2"
  }
 },
 "nbformat": 4,
 "nbformat_minor": 5
}
