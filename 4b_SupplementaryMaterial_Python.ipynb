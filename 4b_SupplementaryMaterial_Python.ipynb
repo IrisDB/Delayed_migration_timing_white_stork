{
 "cells": [
  {
   "cell_type": "markdown",
   "metadata": {},
   "source": [
    "# Supplementary information"
   ]
  },
  {
   "cell_type": "markdown",
   "metadata": {},
   "source": [
    "## Information\n",
    "Project: **The price of being late: short- and long-term consequences of a delayed migration timing**  \n",
    "Author: Iris Bontekoe  \n",
    "Program: Python 3.8.5  \n",
    "Description: This script contains the code to produce the some of the figures in the electronic supplementary material."
   ]
  },
  {
   "cell_type": "code",
   "execution_count": null,
   "metadata": {},
   "outputs": [],
   "source": [
    "# Import stuff that is necessary to execute the script\n",
    "import pandas as pd\n",
    "import datetime\n",
    "import numpy as np\n",
    "from matplotlib import pyplot as plt\n",
    "from windrose import WindroseAxes\n",
    "\n",
    "# Set the path to the folder where the data is located\n",
    "data_folder = \"[...]\"\n",
    "output_folder = \"[...]\""
   ]
  },
  {
   "cell_type": "code",
   "execution_count": null,
   "metadata": {},
   "outputs": [],
   "source": []
  },
  {
   "cell_type": "markdown",
   "metadata": {},
   "source": [
    "## Fig. S6"
   ]
  },
  {
   "cell_type": "code",
   "execution_count": null,
   "metadata": {},
   "outputs": [],
   "source": [
    "# Load data\n",
    "data = pd.read_pickle(data_folder+\"TestWindDiff/TestWindDiff_All.pkl\")"
   ]
  },
  {
   "cell_type": "code",
   "execution_count": null,
   "metadata": {},
   "outputs": [],
   "source": [
    "# Write function to plot wind roses\n",
    "def WindRosePlot():\n",
    "    \n",
    "    # Load data\n",
    "    data = pd.read_pickle(data_folder+file_name_in)\n",
    "    \n",
    "    # Plot the figure\n",
    "    fig = plt.figure(figsize=(8, 8), dpi=80, facecolor='w', edgecolor='w')\n",
    "    plt.rc('font',size=35)\n",
    "    rect = [0.1, 0.1, 0.8, 0.8]\n",
    "    ax = WindroseAxes(fig, rect)\n",
    "    fig.add_axes(ax)\n",
    "\n",
    "    plt.title(Title)\n",
    "    \n",
    "    data = data[data[\"Year\"]== Year]\n",
    "    data = data[(data[\"timestamp\"]>=Start)&(data[\"timestamp\"]<=End)]\n",
    "\n",
    "    ax.bar(data[Angle], data[Speed], normed=True, opening=0.8, edgecolor='white',bins=np.arange(0,18, 2.5))\n",
    "    ax.set_yticks(np.arange(5, 35, step=10))\n",
    "    ax.set_yticklabels(np.arange(5, 35, step=10))\n",
    "    ax.xaxis.set_tick_params(pad=25)\n",
    "    ax.set_ylim(0,30)\n",
    "    \n",
    "    if LegendPresent == True:\n",
    "        ax.legend(prop={'size': 30},bbox_to_anchor=(1.95,0.85),loc=\"right\",title=\"Wind speed (m/s)\")\n",
    "    \n",
    "    plt.savefig(output_folder+file_name_out+\".svg\",bbox_inches='tight',transparent=True)\n",
    "    plt.show()"
   ]
  },
  {
   "cell_type": "code",
   "execution_count": null,
   "metadata": {},
   "outputs": [],
   "source": [
    "# Define objects\n",
    "file_name_in = \"TestWindDiff/TestWindDiff_All.pkl\"\n",
    "Angle = \"WindDirection_PL\"\n",
    "Speed = \"WindSpeed_PL\"\n",
    "Year = 2020\n",
    "Week = \"Naturally-timed\"\n",
    "Start = datetime.datetime(2020,7,29)\n",
    "End = datetime.datetime(2020,9,4)\n",
    "\n",
    "Title = \"\\n wind in 2020 \\n\"\n",
    "file_name_out = \"S6_3\"\n",
    "LegendPresent = False\n",
    "\n",
    "# Execute the function and print the run time\n",
    "start = datetime.datetime.now()\n",
    "WindRosePlot()\n",
    "print(datetime.datetime.now())\n",
    "print(datetime.datetime.now()-start)"
   ]
  },
  {
   "cell_type": "code",
   "execution_count": null,
   "metadata": {},
   "outputs": [],
   "source": [
    "# Define objects\n",
    "file_name_in = \"TestWindDiff/TestWindDiff_All.pkl\"\n",
    "Angle = \"WindDirection_PL\"\n",
    "Speed = \"WindSpeed_PL\"\n",
    "Year = 2019\n",
    "Week = \"Naturally-timed\"\n",
    "Start = datetime.datetime(2019,7,29)\n",
    "End = datetime.datetime(2019,9,4)\n",
    "\n",
    "Title = \"\\n wind in 2019 \\n\"\n",
    "file_name_out = \"S6_2\"\n",
    "LegendPresent = False\n",
    "\n",
    "# Execute the function and print the run time\n",
    "start = datetime.datetime.now()\n",
    "WindRosePlot()\n",
    "print(datetime.datetime.now())\n",
    "print(datetime.datetime.now()-start)"
   ]
  },
  {
   "cell_type": "code",
   "execution_count": null,
   "metadata": {},
   "outputs": [],
   "source": [
    "# Define objects\n",
    "file_name_in = \"TestWindDiff/TestWindDiff_All.pkl\"\n",
    "Angle = \"WindDirection_PL\"\n",
    "Speed = \"WindSpeed_PL\"\n",
    "Year = 2019\n",
    "Week = \"Delayed\"\n",
    "Start = datetime.datetime(2019,9,16)\n",
    "End = datetime.datetime(2019,9,25)\n",
    "\n",
    "Title = \"\\n wind in 2019 \\n\"\n",
    "file_name_out = \"S6_5\"\n",
    "LegendPresent = False\n",
    "\n",
    "# Execute the function and print the run time\n",
    "start = datetime.datetime.now()\n",
    "WindRosePlot()\n",
    "print(datetime.datetime.now())\n",
    "print(datetime.datetime.now()-start)"
   ]
  },
  {
   "cell_type": "code",
   "execution_count": null,
   "metadata": {},
   "outputs": [],
   "source": [
    "# Define objects\n",
    "file_name_in = \"TestWindDiff/TestWindDiff_All.pkl\"\n",
    "Angle = \"WindDirection_PL\"\n",
    "Speed = \"WindSpeed_PL\"\n",
    "Year = 2020\n",
    "Week = \"Delayed\"\n",
    "Start = datetime.datetime(2020,9,16)\n",
    "End = datetime.datetime(2020,9,25)\n",
    "\n",
    "Title = \"\\n wind in 2020 \\n\"\n",
    "file_name_out = \"S6_6\"\n",
    "LegendPresent = False\n",
    "\n",
    "# Execute the function and print the run time\n",
    "start = datetime.datetime.now()\n",
    "WindRosePlot()\n",
    "print(datetime.datetime.now())\n",
    "print(datetime.datetime.now()-start)"
   ]
  },
  {
   "cell_type": "code",
   "execution_count": null,
   "metadata": {},
   "outputs": [],
   "source": []
  },
  {
   "cell_type": "code",
   "execution_count": null,
   "metadata": {},
   "outputs": [],
   "source": [
    "# Write function to plot wind roses\n",
    "def WindRosePlot2():\n",
    "    \n",
    "    # Load data\n",
    "    data = pd.read_pickle(data_folder+file_name_in)\n",
    "    \n",
    "    # Plot the figure\n",
    "    fig = plt.figure(figsize=(8, 8), dpi=80, facecolor='w', edgecolor='w')\n",
    "    plt.rc('font',size=35)\n",
    "    rect = [0.1, 0.1, 0.8, 0.8]\n",
    "    ax = WindroseAxes(fig, rect)\n",
    "    fig.add_axes(ax)\n",
    "\n",
    "    plt.title(Title)\n",
    "\n",
    "    ax.bar(data[Angle], data[Speed], normed=True, opening=0.8, edgecolor='white',bins=np.arange(0,18, 2.5))\n",
    "    ax.set_yticks(np.arange(5, 35, step=10))\n",
    "    ax.set_yticklabels(np.arange(5, 35, step=10))\n",
    "    ax.xaxis.set_tick_params(pad=25)\n",
    "    ax.set_ylim(0,30)\n",
    "    \n",
    "    if LegendPresent == True:\n",
    "        ax.legend(prop={'size': 30},bbox_to_anchor=(1.95,0.85),loc=\"right\",title=\"Wind speed (m/s)\")\n",
    "    \n",
    "    plt.savefig(output_folder+file_name_out+\".svg\",bbox_inches='tight',transparent=True)\n",
    "    plt.show()"
   ]
  },
  {
   "cell_type": "code",
   "execution_count": null,
   "metadata": {},
   "outputs": [],
   "source": [
    "# Define objects\n",
    "file_name_in = \"DataAff_TempWind_S.pkl\"\n",
    "Angle = \"WindDirection_PL\"\n",
    "Speed = \"WindSpeed_PL\"\n",
    "Year = 2020\n",
    "Week = \"Delayed\"\n",
    "Start = datetime.datetime(2020,9,16)\n",
    "End = datetime.datetime(2020,9,25)\n",
    "\n",
    "Title = \"Delayed \\n experienced wind \\n\"\n",
    "file_name_out = \"S6_4\"\n",
    "LegendPresent = True\n",
    "\n",
    "# Execute the function and print the run time\n",
    "start = datetime.datetime.now()\n",
    "WindRosePlot2()\n",
    "print(datetime.datetime.now())\n",
    "print(datetime.datetime.now()-start)"
   ]
  },
  {
   "cell_type": "code",
   "execution_count": null,
   "metadata": {},
   "outputs": [],
   "source": [
    "# Define objects\n",
    "file_name_in = \"DataCASCB_TempWind_S.pkl\"\n",
    "Angle = \"WindDirection_PL\"\n",
    "Speed = \"WindSpeed_PL\"\n",
    "Year = 2020\n",
    "Week = \"Delayed\"\n",
    "Start = datetime.datetime(2020,9,16)\n",
    "End = datetime.datetime(2020,9,25)\n",
    "\n",
    "Title = \"Naturally-timed \\n experienced wind \\n\"\n",
    "file_name_out = \"S6_1\"\n",
    "LegendPresent = False\n",
    "\n",
    "# Execute the function and print the run time\n",
    "start = datetime.datetime.now()\n",
    "WindRosePlot2()\n",
    "print(datetime.datetime.now())\n",
    "print(datetime.datetime.now()-start)"
   ]
  },
  {
   "cell_type": "code",
   "execution_count": null,
   "metadata": {},
   "outputs": [],
   "source": []
  }
 ],
 "metadata": {
  "kernelspec": {
   "display_name": "Python 3 (ipykernel)",
   "language": "python",
   "name": "python3"
  },
  "language_info": {
   "codemirror_mode": {
    "name": "ipython",
    "version": 3
   },
   "file_extension": ".py",
   "mimetype": "text/x-python",
   "name": "python",
   "nbconvert_exporter": "python",
   "pygments_lexer": "ipython3",
   "version": "3.8.5"
  }
 },
 "nbformat": 4,
 "nbformat_minor": 4
}
